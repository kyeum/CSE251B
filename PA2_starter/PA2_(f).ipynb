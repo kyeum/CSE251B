{
 "cells": [
  {
   "cell_type": "markdown",
   "metadata": {},
   "source": [
    "## Network Topology (f)"
   ]
  },
  {
   "cell_type": "code",
   "execution_count": null,
   "metadata": {},
   "outputs": [],
   "source": [
    "from neuralnet import *\n",
    "from random import shuffle\n",
    "import numpy as np\n",
    "import matplotlib.pyplot as plt\n",
    "\n",
    "# Load the configuration.\n",
    "config = load_config(\"./data\")\n"
   ]
  },
  {
   "cell_type": "code",
   "execution_count": null,
   "metadata": {},
   "outputs": [],
   "source": [
    "# Load model parameters\n",
    "# TODO: GET BEST PARAMS FROM (e) Activation\n",
    "config = {}\n",
    "config['learning_rate'] = 0.05\n",
    "config['batch_size'] = 128 \n",
    "config['epochs'] = 10\n",
    "config['early_stop'] = True \n",
    "config['early_stop_epoch'] = 5  \n",
    "config['L2_penalty'] = 0  \n",
    "config['momentum'] = True  \n",
    "config['momentum_gamma'] = 0.9  \n",
    "config['activation'] = activation\n",
    "\n",
    "# Test different network topologies\n",
    "default_topology = [3072, 64, 64, 10]\n",
    "\n"
   ]
  },
  {
   "cell_type": "code",
   "execution_count": null,
   "metadata": {},
   "outputs": [],
   "source": [
    "# Load the data\n",
    "X_train, y_train, X_stats = load_data(path=\"./data\", stats=None, mode=\"train\")\n",
    "X_test, y_test = load_data(path=\"./data\", stats=X_stats, mode=\"test\")\n",
    "X_train, y_train, X_valid, y_valid = split_data(X_train,y_train)\n"
   ]
  },
  {
   "cell_type": "code",
   "execution_count": null,
   "metadata": {},
   "outputs": [],
   "source": [
    "# Plots topology config\n",
    "# Expects up to 4 different topologies\n",
    "def plot_topology_config(network_topologies, config, plot_name):\n",
    "    all_train_loss_record = []\n",
    "    all_train_acc_record = []\n",
    "\n",
    "    all_valid_loss_record = []\n",
    "    all_valid_acc_record = []\n",
    "\n",
    "    all_test_acc_record = []\n",
    "\n",
    "    for topology in network_topologies:\n",
    "        config['layer_specs'] = topology\n",
    "        model = Neuralnetwork(config)\n",
    "        train_loss_record, train_accuracy_record, valid_loss_record, valid_accuracy_record = train(model,X_train,y_train,X_valid,y_valid,config)\n",
    "        all_train_loss_record.append(train_loss_record)\n",
    "        all_train_acc_record.append(train_accuracy_record)\n",
    "        all_valid_loss_record.append(valid_loss_record)\n",
    "        all_valid_acc_record.append(valid_accuracy_record)\n",
    "\n",
    "        # Recall parameters with minimum validation loss\n",
    "        model.save_load_weight(save=False) # load best weights\n",
    "        test_accuracy = test(model, X_test, y_test) \n",
    "        all_test_acc_record.append(test_accuracy)\n",
    "    \n",
    "    num_epochs = [i for i in range(config['epochs'])]\n",
    "\n",
    "    ## Plot train and valid loss on one graph\n",
    "\n",
    "    # Line type\n",
    "    train_loss_lt = ['-b', '-r', '-g', '-k']\n",
    "    valid_loss_lt = ['--b', '--r', '--g', '--k']\n",
    "\n",
    "    for i, topology in enumerate(network_topologies):\n",
    "        plt.plot(num_epochs, all_train_loss_record[i], train_loss_lt[i], label=f\"Train Loss: {topology}\")\n",
    "        plt.plot(num_epochs, all_valid_loss_record[i], valid_loss_lt[i], label=f\"Valid Loss: {topology}\")\n",
    "    plt.xlabel('Epochs')\n",
    "    plt.ylabel('Normalized Loss')\n",
    "    plt.title(\"Train and Validation Loss vs. Epochs\")\n",
    "    plt.legend()\n",
    "    plt.savefig(f'plots/(f)_{plot_name}_loss.png')\n",
    "    plt.show()\n",
    "\n",
    "    ## Plot Train and valid acc on another\n",
    "\n",
    "    # Line type\n",
    "    train_acc_lt = ['-b', '-r', '-g', '-k']\n",
    "    valid_acc_lt = ['--b', '--r', '--g', '--k']\n",
    "\n",
    "    for i, topology in enumerate(network_topologies):\n",
    "        plt.plot(num_epochs, all_train_acc_record[i], train_acc_lt[i], label=f\"Train Acc: {topology}\")\n",
    "        plt.plot(num_epochs, all_valid_acc_record[i], valid_acc_lt[i], label=f\"Valid Acc: {topology}\")\n",
    "    plt.xlabel('Epochs')\n",
    "    plt.ylabel('Accuracy')\n",
    "    plt.title(\"Train and Validation Accuracy vs. Epochs\")\n",
    "    plt.legend()\n",
    "    plt.savefig(f'plots/(f)_{plot_name}_acc.png')\n",
    "    plt.show()\n",
    "\n",
    "    # Report final test accuracy\n",
    "    for i, topology in enumerate(network_topologies):\n",
    "        print(f\"Final Test Accuracy for {topology}: {all_test_acc_record[i]:.4f}\")\n",
    "        \n",
    "    print()\n"
   ]
  },
  {
   "cell_type": "code",
   "execution_count": null,
   "metadata": {},
   "outputs": [],
   "source": [
    "## (i) Modify number of hidden units\n",
    "\n",
    "# Total weight params ~= 3072 * 64 + 64 * 64 + 64 * 10 = 201,344\n",
    "network_topologies = [\n",
    "    [3072, 64, 128, 10],\n",
    "    [3072, 128, 64, 10],\n",
    "    [3072, 32, 64, 10],\n",
    "    [3072, 64, 32, 10],\n",
    "]\n",
    "plot_name = 'i_hu'\n",
    "plot_topology_config(network_topologies, config, plot_name)\n"
   ]
  },
  {
   "cell_type": "code",
   "execution_count": null,
   "metadata": {},
   "outputs": [],
   "source": [
    "## (ii) Increase # of hidden layers\n",
    "\n",
    "# Total weight params ~= 201,344\n",
    "\n",
    "network_topologies = [\n",
    "    [3072, 64, 48, 48, 10], # 202,464\n",
    "    [3072, 48, 48, 64, 10], # 202,464\n",
    "    [3072, 48, 64, 48, 10], # 202,464\n",
    "    [3072, 60, 128, 64, 10], # 200,832\n",
    "]\n",
    "plot_name = 'ii_inc_hl'\n",
    "plot_topology_config(network_topologies, config, plot_name)"
   ]
  },
  {
   "cell_type": "code",
   "execution_count": null,
   "metadata": {},
   "outputs": [],
   "source": [
    "## (iii) Decrease # of hidden layers\n",
    "\n",
    "# Total weight params ~= 201,344\n",
    "network_topologies = [\n",
    "    [3072, 64, 10], # 197,248\n",
    "]\n",
    "plot_name = 'iii_dec_hl'\n",
    "plot_topology_config(network_topologies, config, plot_name)"
   ]
  }
 ],
 "metadata": {
  "interpreter": {
   "hash": "005f4ed24810181fa8b2266ec303702d6575bedfaa41c7848d327e7f780b3129"
  },
  "kernelspec": {
   "display_name": "Python 3 (ipykernel)",
   "language": "python",
   "name": "python3"
  },
  "language_info": {
   "codemirror_mode": {
    "name": "ipython",
    "version": 3
   },
   "file_extension": ".py",
   "mimetype": "text/x-python",
   "name": "python",
   "nbconvert_exporter": "python",
   "pygments_lexer": "ipython3",
   "version": "3.9.10"
  }
 },
 "nbformat": 4,
 "nbformat_minor": 2
}
