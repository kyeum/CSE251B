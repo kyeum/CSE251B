{
 "cells": [
  {
   "cell_type": "markdown",
   "metadata": {},
   "source": [
    "## Classification (b)"
   ]
  },
  {
   "cell_type": "code",
   "execution_count": 1,
   "metadata": {},
   "outputs": [],
   "source": [
    "from neuralnet import *\n",
    "from random import shuffle\n",
    "import numpy as np\n",
    "\n",
    "# Load the configuration.\n",
    "config = load_config(\"./data\")\n",
    "\n",
    "# Create the model\n",
    "#model  = Neuralnetwork(config)\n",
    "# Load the data\n",
    "#x_train, y_train = load_data(path=\"./data\", mode=\"train\") # output normalized and one hot encoding\n",
    "#x_test, y_test = load_data(path=\"./data\", mode=\"test\")# output normalized and one hot encoding\n",
    "\n",
    "# Use 10 examples one from each category"
   ]
  },
  {
   "cell_type": "code",
   "execution_count": 2,
   "metadata": {},
   "outputs": [
    {
     "data": {
      "text/plain": [
       "array([2, 2], dtype=int64)"
      ]
     },
     "execution_count": 2,
     "metadata": {},
     "output_type": "execute_result"
    }
   ],
   "source": [
    "test = np.array([[1,2,3],[4,5,6]])\n",
    "onehot_decode(test)"
   ]
  },
  {
   "cell_type": "code",
   "execution_count": 3,
   "metadata": {},
   "outputs": [
    {
     "name": "stdout",
     "output_type": "stream",
     "text": [
      "(50000, 32, 32, 3)\n",
      "inp: (50000, 32, 32, 3)\n",
      "(50000, 32, 32, 3)\n"
     ]
    }
   ],
   "source": [
    "\n",
    "# Data loading and spliting\n",
    "X_b, y_b, X_stats = load_data(path=\"./data\", mode=\"train\")\n",
    "print(X_b.shape)"
   ]
  },
  {
   "cell_type": "code",
   "execution_count": 4,
   "metadata": {},
   "outputs": [
    {
     "name": "stdout",
     "output_type": "stream",
     "text": [
      "(1, 32, 32, 3)\n",
      "(1, 10)\n"
     ]
    }
   ],
   "source": [
    "\n",
    "X_train = []\n",
    "y_train = []\n",
    "class_num = list(range(10))\n",
    "\n",
    "\n",
    "X_train, y_train = [], []\n",
    "for idx in range(y_b.shape[0]):\n",
    "    if len(class_num) == 0:\n",
    "        break\n",
    "    temp = y_b[idx].reshape(1, -1)\n",
    "    indice = onehot_decode(temp)\n",
    "    if indice[0] in class_num:\n",
    "        X_train.append(X_b[idx])\n",
    "        y_train.append(temp)\n",
    "        class_num.remove(indice[0])\n",
    "        \n",
    "X_train = np.array(X_train)        \n",
    "y_train = np.array(y_train)       \n",
    "X_train = X_train[0][np.newaxis, :]\n",
    "y_train = y_train[0] \n",
    "print(X_train.shape)\n",
    "print(y_train.shape)\n"
   ]
  },
  {
   "cell_type": "code",
   "execution_count": 5,
   "metadata": {},
   "outputs": [
    {
     "name": "stdout",
     "output_type": "stream",
     "text": [
      "IN Layer forward\n",
      "IN Layer forward\n"
     ]
    },
    {
     "data": {
      "text/plain": [
       "(array([[1.51853153e-03, 2.00367909e-03, 2.93471167e-03, 1.21053994e-03,\n",
       "         6.91180876e-02, 1.80349897e-05, 7.00666220e-03, 3.30817404e-05,\n",
       "         4.50461003e-05, 9.16111625e-01]]),\n",
       " 4.960893824909614)"
      ]
     },
     "execution_count": 5,
     "metadata": {},
     "output_type": "execute_result"
    }
   ],
   "source": [
    "# Load model para\n",
    "config_prob_b = {}\n",
    "config_prob_b['layer_specs'] = [3072, 10, 10]\n",
    "config_prob_b['activation'] = 'tanh'\n",
    "config_prob_b['learning_rate'] = 0.15 \n",
    "config_prob_b['batch_size'] = 128 \n",
    "config_prob_b['epochs'] = 100  \n",
    "config_prob_b['early_stop'] = True \n",
    "config_prob_b['early_stop_epoch'] = 5  \n",
    "config_prob_b['L2_penalty'] = 0  \n",
    "config_prob_b['momentum'] = True  \n",
    "config_prob_b['momentum_gamma'] = 0.9  \n",
    "\n",
    "model_b = Neuralnetwork(config_prob_b)\n",
    "model_b.forward(X_train, y_train)\n",
    "# model_b.backward()\n"
   ]
  },
  {
   "cell_type": "code",
   "execution_count": 6,
   "metadata": {},
   "outputs": [
    {
     "ename": "NameError",
     "evalue": "name 'eps' is not defined",
     "output_type": "error",
     "traceback": [
      "\u001b[1;31m---------------------------------------------------------------------------\u001b[0m",
      "\u001b[1;31mNameError\u001b[0m                                 Traceback (most recent call last)",
      "\u001b[1;32m~\\AppData\\Local\\Temp/ipykernel_9632/4117214937.py\u001b[0m in \u001b[0;36m<module>\u001b[1;34m\u001b[0m\n\u001b[0;32m     13\u001b[0m \u001b[1;33m\u001b[0m\u001b[0m\n\u001b[0;32m     14\u001b[0m \u001b[0mlayer_0\u001b[0m \u001b[1;33m=\u001b[0m \u001b[0mmodel_b\u001b[0m\u001b[1;33m.\u001b[0m\u001b[0mlayers\u001b[0m\u001b[1;33m[\u001b[0m\u001b[1;36m0\u001b[0m\u001b[1;33m]\u001b[0m\u001b[1;33m\u001b[0m\u001b[1;33m\u001b[0m\u001b[0m\n\u001b[1;32m---> 15\u001b[1;33m \u001b[0mne_w\u001b[0m\u001b[1;33m(\u001b[0m\u001b[0mmodel_b\u001b[0m\u001b[1;33m,\u001b[0m \u001b[0mlayer_0\u001b[0m\u001b[1;33m,\u001b[0m \u001b[0meps\u001b[0m\u001b[1;33m,\u001b[0m \u001b[1;36m0\u001b[0m\u001b[1;33m,\u001b[0m \u001b[1;36m0\u001b[0m\u001b[1;33m)\u001b[0m\u001b[1;33m\u001b[0m\u001b[1;33m\u001b[0m\u001b[0m\n\u001b[0m",
      "\u001b[1;31mNameError\u001b[0m: name 'eps' is not defined"
     ]
    }
   ],
   "source": [
    "def ne_w(model, layer, eps, input_idx, output_idx):\n",
    "    print(\"before:\", layer.w[input_idx])\n",
    "    layer.w[input_idx][output_idx] += eps # E(w+e)\n",
    "    print(\"after:\", layer.w[input_idx])\n",
    "    print(layer.forward(X_train))\n",
    "\n",
    "    layer.w[input_idx][output_idx] -= 2*eps # E(w-e)\n",
    "    print(layer.forward(X_train))\n",
    "    print(\"after2:\", layer.w[input_idx])\n",
    "    \n",
    "    layer.w[input_idx][output_idx] += eps # back to normal\n",
    "    \n",
    "\n",
    "layer_0 = model_b.layers[0]\n",
    "ne_w(model_b, layer_0, eps, 0, 0)"
   ]
  },
  {
   "cell_type": "code",
   "execution_count": null,
   "metadata": {},
   "outputs": [],
   "source": [
    "eps = 10e-2 # difference expectation to 10e-4\n",
    "\n",
    "print(len(model_b.layers))\n",
    "# Hidden Layer 1\n",
    "layer_0 = model_b.layers[0]\n",
    "# Activation layer\n",
    "layer_1 = model_b.layers[1]\n",
    "# Output layer (softmax)\n",
    "layer_2 = model_b.layers[2]\n",
    "layer_2.w[0][0] += eps\n",
    "\n",
    "input = X_train\n",
    "for i, layer in enumerate(model_b.layers):\n",
    "    if i == len(model_b.layers):\n",
    "        continue\n",
    "    print(i)\n",
    "    input = layer.forward(input)\n",
    "    print(input)\n",
    "print()\n",
    "y_hat_1, loss_1 = model_b.layers[-1].forward(input, y_train)\n",
    "\n",
    "layer_2.w[0][0] -= 2 * eps\n",
    "\n",
    "input = X_train\n",
    "for i, layer in enumerate(model_b.layers):\n",
    "    if i == len(model_b.layers):\n",
    "        continue\n",
    "    print(i)\n",
    "    input = layer.forward(input)\n",
    "    print(input)\n",
    "\n",
    "y_hat_2, loss_2 = model_b.layers[-1].forward(input, y_train)\n",
    "\n",
    "\n",
    "layer_2.w[0][0] += eps\n",
    "\n",
    "ne_grad = (loss_1 - loss_2) / (2 * eps)\n",
    "print(\"ne_grad:\", ne_grad)\n",
    "\n"
   ]
  },
  {
   "cell_type": "code",
   "execution_count": null,
   "metadata": {},
   "outputs": [],
   "source": [
    "y_hat, loss = model_b.forward(X_train, y_train)\n",
    "model_b.backward()\n",
    "print(loss)"
   ]
  },
  {
   "cell_type": "code",
   "execution_count": null,
   "metadata": {},
   "outputs": [],
   "source": [
    "print(10e-4)\n",
    "print(0.00001)"
   ]
  },
  {
   "cell_type": "code",
   "execution_count": null,
   "metadata": {},
   "outputs": [],
   "source": []
  }
 ],
 "metadata": {
  "interpreter": {
   "hash": "005f4ed24810181fa8b2266ec303702d6575bedfaa41c7848d327e7f780b3129"
  },
  "kernelspec": {
   "display_name": "Python 3 (ipykernel)",
   "language": "python",
   "name": "python3"
  },
  "language_info": {
   "codemirror_mode": {
    "name": "ipython",
    "version": 3
   },
   "file_extension": ".py",
   "mimetype": "text/x-python",
   "name": "python",
   "nbconvert_exporter": "python",
   "pygments_lexer": "ipython3",
   "version": "3.8.8"
  }
 },
 "nbformat": 4,
 "nbformat_minor": 2
}
