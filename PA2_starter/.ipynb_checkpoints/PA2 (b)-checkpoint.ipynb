{
 "cells": [
  {
   "cell_type": "markdown",
   "metadata": {},
   "source": [
    "## Classification (b)"
   ]
  },
  {
   "cell_type": "code",
   "execution_count": 1,
   "metadata": {},
   "outputs": [],
   "source": [
    "from neuralnet import *\n",
    "from random import shuffle\n",
    "import numpy as np\n",
    "\n",
    "# Load the configuration.\n",
    "config = load_config(\"./data\")\n",
    "\n",
    "# Create the model\n",
    "#model  = Neuralnetwork(config)\n",
    "# Load the data\n",
    "#x_train, y_train = load_data(path=\"./data\", mode=\"train\") # output normalized and one hot encoding\n",
    "#x_test, y_test = load_data(path=\"./data\", mode=\"test\")# output normalized and one hot encoding\n",
    "\n",
    "# Use 10 examples one from each category"
   ]
  },
  {
   "cell_type": "code",
   "execution_count": 2,
   "metadata": {},
   "outputs": [],
   "source": [
    "\n",
    "# Data loading and spliting\n",
    "x_b, y_b = load_data(path=\"./data\", mode=\"train\")\n",
    "\n",
    "xtrain = []\n",
    "ytrain = []\n",
    "\n",
    "p = 0;\n",
    "for k in range(5):\n",
    "    xtrain.extend(x_b[p :p+10])\n",
    "    ytrain.extend(y_b[p :p+10])\n",
    "    p += 10000\n",
    "        \n",
    "xtrain = np.array(xtrain)\n",
    "ytrain = np.array(ytrain)\n"
   ]
  },
  {
   "cell_type": "code",
   "execution_count": 3,
   "metadata": {},
   "outputs": [
    {
     "data": {
      "text/plain": [
       "array([[ 2.73889574e+001, -5.30624852e+001, -2.31885315e+001, ...,\n",
       "        -1.27680901e+001, -6.89952795e+001,  2.75510320e+001],\n",
       "       [-9.54164444e+000,  1.59587202e+001, -1.20804399e+001, ...,\n",
       "         1.18632812e+001, -1.44246347e+001, -3.34259769e+001],\n",
       "       [ 3.40306688e+001, -2.25775479e+001,  3.82638783e+000, ...,\n",
       "        -1.61362236e+001, -7.81379976e+000,  1.50836274e+001],\n",
       "       ...,\n",
       "       [ 2.52036162e+001,  2.54091176e+001, -4.73831886e+001, ...,\n",
       "         6.36402252e+001,  1.54768732e+001,  3.55441409e+001],\n",
       "       [ 4.32648190e-208,  2.86442538e-208, -3.64763869e-208, ...,\n",
       "        -1.01943238e-208,  7.06325453e-208,  3.51790149e-208],\n",
       "       [ 3.35966225e+001,  1.34533738e+001, -3.69758131e+001, ...,\n",
       "         4.49671495e+001,  2.56739003e+001,  4.33933252e+001]])"
      ]
     },
     "execution_count": 3,
     "metadata": {},
     "output_type": "execute_result"
    }
   ],
   "source": [
    "# Load model para\n",
    "config_prob_b = {}\n",
    "config_prob_b['layer_specs'] = [3072, 50, 50, 10]\n",
    "config_prob_b['activation'] = 'ReLU'\n",
    "config_prob_b['learning_rate'] = 0.15 \n",
    "config_prob_b['batch_size'] = 128 \n",
    "config_prob_b['epochs'] = 100  \n",
    "config_prob_b['early_stop'] = True \n",
    "config_prob_b['early_stop_epoch'] = 5  \n",
    "config_prob_b['L2_penalty'] = 0  \n",
    "config_prob_b['momentum'] = True  \n",
    "config_prob_b['momentum_gamma'] = 0.9  \n",
    "\n",
    "model_b = Neuralnetwork(config_prob_b)\n",
    "model_b.forward(xtrain,ytrain)\n",
    "model_b.backward()\n"
   ]
  },
  {
   "cell_type": "code",
   "execution_count": 4,
   "metadata": {},
   "outputs": [
    {
     "name": "stdout",
     "output_type": "stream",
     "text": [
      "(db - db_est): [-2.46360175e-01 -1.14245712e-01  4.81279231e-07]\n",
      "(dw - dw_est): [[ -1.05069756  -0.97181213]\n",
      " [-15.4772594   -6.40126366]\n",
      " [-15.63377804  -5.91144036]]\n",
      "(db ): [-2.46360175e-01 -1.14245712e-01  4.81279231e-07]\n",
      "(db_est): [0. 0. 0.]\n"
     ]
    }
   ],
   "source": [
    "# d_b d_w comparison\n",
    "\n",
    "## Part (b) Estimation of bias weight and weight\n",
    "def Num_Est_b(model, layer, eps, input_idx, output_idx):\n",
    "    layer.b[0][output_idx] += eps # E(w+e)\n",
    "    loss_1 = model.forward(xtrain, ytrain)\n",
    "    layer.b[0][output_idx] -= 2*eps # E(w-e)\n",
    "    loss_2 = model.forward(xtrain, ytrain)\n",
    "    layer.b[0][output_idx] += eps # back to normal\n",
    "    return (loss_1 - loss_2) / (2 * eps) # Numerical estimation for dEdW\n",
    "\n",
    "def Num_Est_w(model, layer, eps, input_idx, output_idx):\n",
    "    layer.w[input_idx][output_idx] += eps # E(w+e)\n",
    "    loss_1 = model.forward(xtrain, ytrain)\n",
    "    layer.w[input_idx][output_idx] -= 2*eps # E(w-e)\n",
    "    loss_2 = model.forward(xtrain, ytrain)\n",
    "    layer.w[input_idx][output_idx] += eps # back to normal\n",
    "    return (loss_1 - loss_2) / (2 * eps) # Numerical estimation for dEdW\n",
    "\n",
    "eps = 1e-2 # difference expectation to 10e-4\n",
    "\n",
    "\n",
    "db = []\n",
    "dw = []\n",
    "db_est = []\n",
    "dw_est = []\n",
    "for layer in model_b.layers:\n",
    "    if isinstance(layer, Activation):\n",
    "        continue\n",
    "    db_est.append(Num_Est_b(model_b, layer, eps, 0, 1))\n",
    "    db.append(layer.d_b[1]) \n",
    "    dw_est.append([Num_Est_w(model_b, layer, eps, 0, 0), Num_Est_w(model_b,layer, eps, 0, 1)])\n",
    "    dw.append([layer.d_w[0][0] ,layer.d_w[0][1]])\n",
    "        \n",
    "print('(db - db_est): {}'.format(np.array(db)-np.array(db_est)))\n",
    "print('(dw - dw_est): {}'.format(np.array(dw)-np.array(dw_est)))\n",
    "\n",
    "print('(db ): {}'.format(np.array(db)))\n",
    "print('(db_est): {}'.format(np.array(db_est)))\n"
   ]
  },
  {
   "cell_type": "code",
   "execution_count": null,
   "metadata": {},
   "outputs": [],
   "source": []
  }
 ],
 "metadata": {
  "interpreter": {
   "hash": "005f4ed24810181fa8b2266ec303702d6575bedfaa41c7848d327e7f780b3129"
  },
  "kernelspec": {
   "display_name": "Python 3 (ipykernel)",
   "language": "python",
   "name": "python3"
  },
  "language_info": {
   "codemirror_mode": {
    "name": "ipython",
    "version": 3
   },
   "file_extension": ".py",
   "mimetype": "text/x-python",
   "name": "python",
   "nbconvert_exporter": "python",
   "pygments_lexer": "ipython3",
   "version": "3.8.8"
  }
 },
 "nbformat": 4,
 "nbformat_minor": 2
}
