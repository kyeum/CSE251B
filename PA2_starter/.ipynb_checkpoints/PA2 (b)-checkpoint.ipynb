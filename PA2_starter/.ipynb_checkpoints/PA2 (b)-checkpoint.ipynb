{
 "cells": [
  {
   "cell_type": "markdown",
   "metadata": {},
   "source": [
    "## Classification (b)"
   ]
  },
  {
   "cell_type": "code",
   "execution_count": 1,
   "metadata": {},
   "outputs": [
    {
     "name": "stdout",
     "output_type": "stream",
     "text": [
      "(50000, 32, 32, 3)\n",
      "inp: (50000, 32, 32, 3)\n",
      "10 10\n"
     ]
    }
   ],
   "source": [
    "from neuralnet import *\n",
    "from random import shuffle\n",
    "import numpy as np\n",
    "\n",
    "# Load the configuration.\n",
    "\n",
    "x_train, y_train, stats = load_data(path=\"./data\",stats = None, mode=\"train\")\n",
    "# Get 10 examples, 1 from each category.\n",
    "X_sub = []\n",
    "y_sub = []\n",
    "for k in range(10):\n",
    "    indices = y_train[:,k] == 1\n",
    "    X_sub.append(x_train[indices][0])\n",
    "    y_sub.append(y_train[indices][0])\n",
    "print(len(X_sub), len(y_sub))\n",
    "\n",
    "# Load model para\n",
    "config_prob_b = {}\n",
    "config_prob_b['layer_specs'] = [3072, 10, 10]\n",
    "config_prob_b['activation'] = 'ReLU'\n",
    "config_prob_b['learning_rate'] = 0.15 \n",
    "config_prob_b['batch_size'] = 128 \n",
    "config_prob_b['epochs'] = 100  \n",
    "config_prob_b['early_stop'] = True \n",
    "config_prob_b['early_stop_epoch'] = 5  \n",
    "config_prob_b['L2_penalty'] = 0  \n",
    "config_prob_b['momentum'] = True  \n",
    "config_prob_b['momentum_gamma'] = 0.9  \n",
    "\n",
    "model_b = Neuralnetwork(config_prob_b)\n",
    "model_b.forward(np.array(X_sub), np.array(y_sub))\n",
    "model_b.backward()\n",
    "\n",
    "\n"
   ]
  },
  {
   "cell_type": "code",
   "execution_count": 2,
   "metadata": {},
   "outputs": [
    {
     "name": "stdout",
     "output_type": "stream",
     "text": [
      "(dw - dw_est): [array([[ 0.19399662,  0.23052656],\n",
      "       [-3.60210521,  2.31543866]])]\n",
      "(db - db_est): [array([-0.21688454, -0.3       ])]\n",
      "(db_est): [array([0., 0.])]\n",
      "(db): [array([-0.21688454, -0.3       ])]\n",
      "(dw - dw_est): [array([[ 0.19399662,  0.23052656],\n",
      "       [-3.60210521,  2.31543866]])]\n",
      "(db - db_est): [array([-0.21688454, -0.3       ])]\n",
      "(db_est): [array([0., 0.])]\n",
      "(db): [array([-0.21688454, -0.3       ])]\n"
     ]
    }
   ],
   "source": [
    "# d_b d_w comparison\n",
    "\n",
    "## Part (b) Estimation of bias weight and weight\n",
    "def Num_Est_b(model, layer, eps, input_idx, output_idx):\n",
    "    layer.b[0][output_idx] += eps # E(w+e)\n",
    "    loss_1 = model.forward(np.array(X_sub), np.array(y_sub))[1]\n",
    "    layer.b[0][output_idx] -= 2*eps # E(w-e)\n",
    "    loss_2 = model.forward(np.array(X_sub), np.array(y_sub))[1]\n",
    "    layer.b[0][output_idx] += eps # back to normal\n",
    "    return abs(loss_1 - loss_2) / (2 * eps) # Numerical estimation for dEdW\n",
    "\n",
    "def Num_Est_w(model, layer, eps, input_idx, output_idx):\n",
    "    layer.w[input_idx][output_idx] += eps # E(w+e)\n",
    "    loss_1 = model.forward(np.array(X_sub), np.array(y_sub))[1]\n",
    "    layer.w[input_idx][output_idx] -= 2*eps # E(w-e)\n",
    "    loss_2 = model.forward(np.array(X_sub), np.array(y_sub))[1]\n",
    "    layer.w[input_idx][output_idx] += eps # back to normal\n",
    "    return abs(loss_1 - loss_2) / (2 * eps) # Numerical estimation for dEdW\n",
    "\n",
    "epss = [1e-2, 1e-4] # difference expectation to 1e-4\n",
    "db = []\n",
    "dw = []\n",
    "db_est = []\n",
    "dw_est = []\n",
    "\n",
    "for eps in epss:\n",
    "    db = []\n",
    "    dw = []\n",
    "    db_est = []\n",
    "    dw_est = []\n",
    "    for layer in model_b.layers:\n",
    "        if isinstance(layer, Layer):\n",
    "            db_est.append(Num_Est_b(model_b, layer, eps, 0, 1))\n",
    "            db.append(layer.d_b[1]) \n",
    "            dw_est.append([Num_Est_w(model_b, layer, eps, 0, 0), Num_Est_w(model_b,layer, eps, 0, 2)])\n",
    "            dw.append([layer.d_w[0][0] ,layer.d_w[0][2]])   \n",
    "    print('(dw - dw_est): {}'.format([(np.array(dw)-np.array(dw_est))]))\n",
    "    print('(db - db_est): {}'.format([(np.array(db)-np.array(db_est))]))\n",
    "    print('(db_est): {}'.format([(np.array(db_est))]))\n",
    "    print('(db): {}'.format([(np.array(db))]))\n",
    "    \n"
   ]
  },
  {
   "cell_type": "code",
   "execution_count": null,
   "metadata": {},
   "outputs": [],
   "source": []
  },
  {
   "cell_type": "code",
   "execution_count": null,
   "metadata": {},
   "outputs": [],
   "source": []
  }
 ],
 "metadata": {
  "interpreter": {
   "hash": "005f4ed24810181fa8b2266ec303702d6575bedfaa41c7848d327e7f780b3129"
  },
  "kernelspec": {
   "display_name": "Python 3 (ipykernel)",
   "language": "python",
   "name": "python3"
  },
  "language_info": {
   "codemirror_mode": {
    "name": "ipython",
    "version": 3
   },
   "file_extension": ".py",
   "mimetype": "text/x-python",
   "name": "python",
   "nbconvert_exporter": "python",
   "pygments_lexer": "ipython3",
   "version": "3.8.8"
  }
 },
 "nbformat": 4,
 "nbformat_minor": 2
}
