{
 "cells": [
  {
   "cell_type": "markdown",
   "metadata": {},
   "source": [
    "## Classification (b)"
   ]
  },
  {
   "cell_type": "code",
   "execution_count": 1,
   "metadata": {},
   "outputs": [
    {
     "name": "stdout",
     "output_type": "stream",
     "text": [
      "(50000, 32, 32, 3)\n",
      "inp: (50000, 32, 32, 3)\n",
      "10 10\n"
     ]
    },
    {
     "data": {
      "text/plain": [
       "array([[ -7.14199715,  11.14350244,  -4.48210217, ...,  -1.65153343,\n",
       "         -0.2883384 ,  -2.64664696],\n",
       "       [  1.45028845,  -0.06862354,   5.99158268, ...,  -1.29913303,\n",
       "          5.67268689,   1.66183716],\n",
       "       [ -1.91105087,   5.7138    ,  -1.51221227, ...,  -1.42083821,\n",
       "         -2.02807566,  -3.18753261],\n",
       "       ...,\n",
       "       [  8.56366946, -16.3347432 ,   6.43408517, ...,  -3.36892803,\n",
       "          6.63631059,  10.91878253],\n",
       "       [  1.17099796,  -5.20406935,   7.7488078 , ...,  -6.2632238 ,\n",
       "          2.71724809,   4.90810642],\n",
       "       [ -0.41711556,   0.50218155,   4.28414628, ...,  -5.94220333,\n",
       "          2.10431011,   3.91605854]])"
      ]
     },
     "execution_count": 1,
     "metadata": {},
     "output_type": "execute_result"
    }
   ],
   "source": [
    "from neuralnet import *\n",
    "from random import shuffle\n",
    "import numpy as np\n",
    "\n",
    "# Load the configuration.\n",
    "config = load_config(\"./data\")\n",
    "\n",
    "# Create the model\n",
    "#model  = Neuralnetwork(config)\n",
    "# Load the data\n",
    "#x_train, y_train = load_data(path=\"./data\", mode=\"train\") # output normalized and one hot encoding\n",
    "#x_test, y_test = load_data(path=\"./data\", mode=\"test\")# output normalized and one hot encoding\n",
    "\n",
    "# Use 10 examples one from each category\n",
    "'''\n",
    "# Data loading and spliting\n",
    "X_b, y_b, X_stats = load_data(path=\"./data\", mode=\"train\")\n",
    "\n",
    "X_train = []\n",
    "y_train = []\n",
    "class_num = list(range(10))\n",
    "\n",
    "\n",
    "X_train, y_train = [], []\n",
    "for idx in range(y_b.shape[0]):\n",
    "    if len(class_num) == 0:\n",
    "        break\n",
    "    indice = onehot_decode(y_b[idx])\n",
    "    \n",
    "    if indice in class_num:\n",
    "        X_train.append(X_b[idx])\n",
    "        y_train.append(y_b[idx])\n",
    "        class_num.remove(indice)\n",
    "        \n",
    "        \n",
    "X_train = np.array(X_train)        \n",
    "y_train = np.array(y_train)       \n",
    "'''\n",
    "\n",
    "X_train, y_train, X_stats = load_data(path=\"./data\", mode=\"train\")\n",
    "\n",
    "# Get 10 examples, 1 from each category.\n",
    "X_sub = []\n",
    "y_sub = []\n",
    "for k in range(10):\n",
    "    indices = y_train[:,k] == 1\n",
    "    X_sub.append(X_train[indices][0])\n",
    "    y_sub.append(y_train[indices][0])\n",
    "print(len(X_sub), len(y_sub))\n",
    "\n",
    "# Load model para\n",
    "config_prob_b = {}\n",
    "config_prob_b['layer_specs'] = [3072, 10, 10]\n",
    "config_prob_b['activation'] = 'ReLU'\n",
    "config_prob_b['learning_rate'] = 0.15 \n",
    "config_prob_b['batch_size'] = 128 \n",
    "config_prob_b['epochs'] = 100  \n",
    "config_prob_b['early_stop'] = True \n",
    "config_prob_b['early_stop_epoch'] = 5  \n",
    "config_prob_b['L2_penalty'] = 0  \n",
    "config_prob_b['momentum'] = True  \n",
    "config_prob_b['momentum_gamma'] = 0.9  \n",
    "\n",
    "model_b = Neuralnetwork(config_prob_b)\n",
    "model_b.forward(np.array(X_sub), np.array(y_sub))\n",
    "model_b.backward()\n",
    "\n",
    "\n"
   ]
  },
  {
   "cell_type": "code",
   "execution_count": 42,
   "metadata": {},
   "outputs": [
    {
     "name": "stdout",
     "output_type": "stream",
     "text": [
      "233.1006351357912\n",
      "233.1492037960526\n",
      "(db - db_est): -9.095502129241595e-14\n",
      "(dw - dw_est): [array([[ 4.41663149e-02,  8.47150213e-01],\n",
      "       [-4.60525051e-04,  1.75307069e-76]])]\n",
      "233.15334692985644\n",
      "233.15820379605262\n",
      "(db - db_est): -9.436063042045362e-13\n",
      "(dw - dw_est): [array([[ 4.41663149e-02,  8.47150213e-01],\n",
      "       [-2.03339515e-06,  1.75307069e-76]])]\n"
     ]
    }
   ],
   "source": [
    "# d_b d_w comparison\n",
    "\n",
    "## Part (b) Estimation of bias weight and weight\n",
    "def Num_Est_b(model, layer, eps, input_idx, output_idx):\n",
    "    layer.b[0][output_idx] += eps # E(w+e)\n",
    "    loss_1 = model.forward(np.array(X_sub), np.array(y_sub))[1]\n",
    "    print(loss_1)\n",
    "    layer.b[0][output_idx] -= 2*eps # E(w-e)\n",
    "    loss_2 = model.forward(np.array(X_sub), np.array(y_sub))[1]\n",
    "    layer.b[0][output_idx] += eps # back to normal\n",
    "    return (loss_1 - loss_2) / (2 * eps) # Numerical estimation for dEdW\n",
    "\n",
    "def Num_Est_w(model, layer, eps, input_idx, output_idx):\n",
    "    layer.w[input_idx][output_idx] += eps # E(w+e)\n",
    "    loss_1 = model.forward(np.array(X_sub), np.array(y_sub))[1]\n",
    "    layer.w[input_idx][output_idx] -= 2*eps # E(w-e)\n",
    "    loss_2 = model.forward(np.array(X_sub), np.array(y_sub))[1]\n",
    "    layer.w[input_idx][output_idx] += eps # back to normal\n",
    "    return (loss_1 - loss_2) / (2 * eps) # Numerical estimation for dEdW\n",
    "\n",
    "epss = [0.1, 0.01] # difference expectation to 1e-4\n",
    "db = []\n",
    "dw = []\n",
    "db_est = []\n",
    "dw_est = []\n",
    "\n",
    "for eps in epss:\n",
    "    db = []\n",
    "    dw = []\n",
    "    db_est = []\n",
    "    dw_est = []\n",
    "    for layer in model_b.layers:\n",
    "        if isinstance(layer, Activation):\n",
    "            continue\n",
    "        db_est.append(Num_Est_b(model_b, layer, eps, 0, 1))\n",
    "        db.append(layer.d_b[1]) \n",
    "        dw_est.append([Num_Est_w(model_b, layer, eps, 0, 0), Num_Est_w(model_b,layer, eps, 0, 2)])\n",
    "        dw.append([layer.d_w[0][0] ,layer.d_w[0][2]])\n",
    "\n",
    "    print('(db - db_est): {}'.format(np.array(db[1])-np.array(db_est[1])))\n",
    "    print('(dw - dw_est): {}'.format([(np.array(dw)-np.array(dw_est))]))\n"
   ]
  },
  {
   "cell_type": "code",
   "execution_count": null,
   "metadata": {},
   "outputs": [],
   "source": []
  },
  {
   "cell_type": "code",
   "execution_count": null,
   "metadata": {},
   "outputs": [],
   "source": []
  }
 ],
 "metadata": {
  "interpreter": {
   "hash": "005f4ed24810181fa8b2266ec303702d6575bedfaa41c7848d327e7f780b3129"
  },
  "kernelspec": {
   "display_name": "Python 3 (ipykernel)",
   "language": "python",
   "name": "python3"
  },
  "language_info": {
   "codemirror_mode": {
    "name": "ipython",
    "version": 3
   },
   "file_extension": ".py",
   "mimetype": "text/x-python",
   "name": "python",
   "nbconvert_exporter": "python",
   "pygments_lexer": "ipython3",
   "version": "3.8.8"
  }
 },
 "nbformat": 4,
 "nbformat_minor": 2
}
