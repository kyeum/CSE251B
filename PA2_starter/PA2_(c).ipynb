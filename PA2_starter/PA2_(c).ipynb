{
 "cells": [
  {
   "cell_type": "markdown",
   "metadata": {},
   "source": [
    "## Classification (c)"
   ]
  },
  {
   "cell_type": "code",
   "execution_count": 1,
   "metadata": {},
   "outputs": [
    {
     "name": "stdout",
     "output_type": "stream",
     "text": [
      "(50000, 32, 32, 3)\n",
      "Epoch: 1, train accuracy: 0.2455, train_loss_norm:1198.7480, valid_acc: 0.2474, valid_loss_norm: 1422.7113\n",
      "Valid loss going down!\n",
      "Epoch: 2, train accuracy: 0.2787, train_loss_norm:1700.9019, valid_acc: 0.2510, valid_loss_norm: 2016.9249\n",
      "Valid loss go up!\n",
      "Current patience count: 1\n",
      "Epoch: 3, train accuracy: 0.2834, train_loss_norm:2411.2299, valid_acc: 0.2610, valid_loss_norm: 2859.1705\n",
      "Valid loss go up!\n",
      "Current patience count: 2\n",
      "Epoch: 4, train accuracy: 0.2805, train_loss_norm:3418.0332, valid_acc: 0.2480, valid_loss_norm: 4052.9045\n",
      "Valid loss go up!\n",
      "Current patience count: 3\n",
      "Epoch: 5, train accuracy: 0.2844, train_loss_norm:4844.8987, valid_acc: 0.2356, valid_loss_norm: 5744.6608\n",
      "Valid loss go up!\n",
      "Current patience count: 4\n",
      "Epoch: 6, train accuracy: 0.2868, train_loss_norm:6867.1191, valid_acc: 0.2350, valid_loss_norm: 8142.2848\n",
      "Valid loss go up!\n",
      "Current patience count: 5\n",
      "Earlystop!\n",
      "Epoch: 1, train accuracy: 0.2372, train_loss_norm:103.8659, valid_acc: 0.2294, valid_loss_norm: 105.8626\n",
      "Valid loss going down!\n",
      "Epoch: 2, train accuracy: 0.2775, train_loss_norm:107.7641, valid_acc: 0.2406, valid_loss_norm: 109.7062\n",
      "Valid loss go up!\n",
      "Current patience count: 1\n",
      "Epoch: 3, train accuracy: 0.2864, train_loss_norm:111.6780, valid_acc: 0.2620, valid_loss_norm: 113.6953\n",
      "Valid loss go up!\n",
      "Current patience count: 2\n",
      "Epoch: 4, train accuracy: 0.2938, train_loss_norm:115.7353, valid_acc: 0.2660, valid_loss_norm: 117.8321\n",
      "Valid loss go up!\n",
      "Current patience count: 3\n",
      "Epoch: 5, train accuracy: 0.3054, train_loss_norm:119.9394, valid_acc: 0.2760, valid_loss_norm: 122.1072\n",
      "Valid loss go up!\n",
      "Current patience count: 4\n",
      "Epoch: 6, train accuracy: 0.3087, train_loss_norm:124.2949, valid_acc: 0.2774, valid_loss_norm: 126.5383\n",
      "Valid loss go up!\n",
      "Current patience count: 5\n",
      "Earlystop!\n",
      "Epoch: 1, train accuracy: 0.2490, train_loss_norm:10.5013, valid_acc: 0.2524, valid_loss_norm: 10.4655\n",
      "Valid loss going down!\n",
      "Epoch: 2, train accuracy: 0.2822, train_loss_norm:10.4871, valid_acc: 0.2594, valid_loss_norm: 10.5051\n",
      "Valid loss go up!\n",
      "Current patience count: 1\n",
      "Epoch: 3, train accuracy: 0.2976, train_loss_norm:10.5277, valid_acc: 0.2930, valid_loss_norm: 10.5475\n",
      "Valid loss go up!\n",
      "Current patience count: 2\n",
      "Epoch: 4, train accuracy: 0.3042, train_loss_norm:10.5693, valid_acc: 0.2832, valid_loss_norm: 10.5924\n",
      "Valid loss go up!\n",
      "Current patience count: 3\n",
      "Epoch: 5, train accuracy: 0.3120, train_loss_norm:10.6097, valid_acc: 0.2760, valid_loss_norm: 10.6358\n",
      "Valid loss go up!\n",
      "Current patience count: 4\n",
      "Epoch: 6, train accuracy: 0.3153, train_loss_norm:10.6522, valid_acc: 0.2764, valid_loss_norm: 10.6759\n",
      "Valid loss go up!\n",
      "Current patience count: 5\n",
      "Earlystop!\n"
     ]
    }
   ],
   "source": [
    "# from neuralnet_update_PC import *\n",
    "# from neuralnet_works_FC import *\n",
    "from neuralnet import *\n",
    "from random import shuffle\n",
    "import numpy as np\n",
    "import matplotlib.pyplot as plt\n",
    "\n",
    "config_c = {}\n",
    "config_c['layer_specs'] = [3072, 64, 64, 10]\n",
    "config_c['activation'] = 'tanh'\n",
    "config_c['learning_rate'] = 0.01\n",
    "config_c['batch_size'] = 256\n",
    "config_c['epochs'] = 200  \n",
    "config_c['early_stop'] = True \n",
    "config_c['early_stop_epoch'] = 5\n",
    "config_c['L2_penalty'] = 0  \n",
    "config_c['momentum'] = True  \n",
    "config_c['momentum_gamma'] = 0.9\n",
    "# Create the model\n",
    "\n",
    "#TODO\n",
    "#momentum, early stop , expect accuracy around 37%\n",
    "\n",
    "\"\"\"\n",
    "Train your model here.\n",
    "Implement batch SGD to train the model.\n",
    "Implement Early Stopping.\n",
    "Use config to set parameters for training like learning rate, momentum, etc.\n",
    "\"\"\"\n",
    "model_c  = Neuralnetwork(config_c)\n",
    "\n",
    "# Load the data\n",
    "x_train, y_train, stats = load_data(path=\"./data\",stats = None, mode=\"train\")\n",
    "x_test, y_test = load_data(path=\"./data\",stats = stats, mode=\"test\")\n",
    "\n",
    "x_train, y_train, x_valid, y_valid = split_data(x_train,y_train)\n",
    "\n",
    "epoch, train_loss_record, train_accuracy_record, holdout_loss_record, holdout_accuracy_record = train(model_c,x_train,y_train,x_valid,y_valid,config_c)\n",
    "\n",
    "# Recall parameters with minimum validation loss\n",
    "model_c.save_load_weight(save=False) # load data\n",
    "test_accuracy = test(model_c, x_test, y_test) \n",
    "\n"
   ]
  },
  {
   "cell_type": "code",
   "execution_count": 1,
   "metadata": {},
   "outputs": [
    {
     "ename": "NameError",
     "evalue": "name 'test_accuracy' is not defined",
     "output_type": "error",
     "traceback": [
      "\u001b[0;31m---------------------------------------------------------------------------\u001b[0m",
      "\u001b[0;31mNameError\u001b[0m                                 Traceback (most recent call last)",
      "\u001b[0;32m/var/folders/wt/l4n6hhns3dz9d7ljspfyxvd40000gn/T/ipykernel_70747/3483940119.py\u001b[0m in \u001b[0;36m<module>\u001b[0;34m\u001b[0m\n\u001b[0;32m----> 1\u001b[0;31m \u001b[0mprint\u001b[0m\u001b[0;34m(\u001b[0m\u001b[0;34m'test set result : '\u001b[0m \u001b[0;34m,\u001b[0m\u001b[0mtest_accuracy\u001b[0m\u001b[0;34m)\u001b[0m\u001b[0;34m\u001b[0m\u001b[0;34m\u001b[0m\u001b[0m\n\u001b[0m\u001b[1;32m      2\u001b[0m \u001b[0;34m\u001b[0m\u001b[0m\n\u001b[1;32m      3\u001b[0m \u001b[0mplt\u001b[0m\u001b[0;34m.\u001b[0m\u001b[0mfigure\u001b[0m\u001b[0;34m(\u001b[0m\u001b[0;36m1\u001b[0m\u001b[0;34m)\u001b[0m\u001b[0;34m\u001b[0m\u001b[0;34m\u001b[0m\u001b[0m\n\u001b[1;32m      4\u001b[0m \u001b[0mplt\u001b[0m\u001b[0;34m.\u001b[0m\u001b[0mplot\u001b[0m\u001b[0;34m(\u001b[0m\u001b[0mnp\u001b[0m\u001b[0;34m.\u001b[0m\u001b[0marange\u001b[0m\u001b[0;34m(\u001b[0m\u001b[0mepoch\u001b[0m\u001b[0;34m+\u001b[0m\u001b[0;36m1\u001b[0m\u001b[0;34m)\u001b[0m\u001b[0;34m,\u001b[0m \u001b[0mtrain_loss_record\u001b[0m\u001b[0;34m,\u001b[0m \u001b[0mlabel\u001b[0m\u001b[0;34m=\u001b[0m\u001b[0;34m'train'\u001b[0m\u001b[0;34m)\u001b[0m\u001b[0;34m\u001b[0m\u001b[0;34m\u001b[0m\u001b[0m\n\u001b[1;32m      5\u001b[0m \u001b[0mplt\u001b[0m\u001b[0;34m.\u001b[0m\u001b[0mplot\u001b[0m\u001b[0;34m(\u001b[0m\u001b[0mnp\u001b[0m\u001b[0;34m.\u001b[0m\u001b[0marange\u001b[0m\u001b[0;34m(\u001b[0m\u001b[0mepoch\u001b[0m\u001b[0;34m+\u001b[0m\u001b[0;36m1\u001b[0m\u001b[0;34m)\u001b[0m\u001b[0;34m,\u001b[0m \u001b[0mholdout_loss_record\u001b[0m\u001b[0;34m,\u001b[0m \u001b[0mlabel\u001b[0m\u001b[0;34m=\u001b[0m\u001b[0;34m'valid'\u001b[0m\u001b[0;34m)\u001b[0m\u001b[0;34m\u001b[0m\u001b[0;34m\u001b[0m\u001b[0m\n",
      "\u001b[0;31mNameError\u001b[0m: name 'test_accuracy' is not defined"
     ]
    }
   ],
   "source": [
    "\n",
    "print('test set result : ' ,test_accuracy)\n",
    "\n",
    "plt.figure(1)\n",
    "plt.plot(np.arange(epoch+1), train_loss_record, label='train')\n",
    "plt.plot(np.arange(epoch+1), holdout_loss_record, label='valid')\n",
    "plt.xlabel('Epoch')\n",
    "plt.ylabel('Loss')\n",
    "plt.title('Training and validation loss vs epochs')\n",
    "plt.legend()\n",
    "plt.show()\n",
    "\n",
    "\n",
    "plt.figure(2)\n",
    "plt.plot(np.arange(epoch+1), train_accuracy_record, label='train')\n",
    "plt.plot(np.arange(epoch+1), holdout_accuracy_record, label='valid')\n",
    "plt.xlabel('Epoch')\n",
    "plt.ylabel('Accuracy')\n",
    "plt.title('Training and validation accuracy vs epochs')\n",
    "plt.legend()\n",
    "plt.show()\n",
    "\n"
   ]
  },
  {
   "cell_type": "code",
   "execution_count": 3,
   "metadata": {},
   "outputs": [
    {
     "data": {
      "text/plain": [
       "0.01"
      ]
     },
     "execution_count": 3,
     "metadata": {},
     "output_type": "execute_result"
    }
   ],
   "source": [
    "1e-2"
   ]
  },
  {
   "cell_type": "code",
   "execution_count": null,
   "metadata": {},
   "outputs": [],
   "source": []
  }
 ],
 "metadata": {
  "interpreter": {
   "hash": "005f4ed24810181fa8b2266ec303702d6575bedfaa41c7848d327e7f780b3129"
  },
  "kernelspec": {
   "display_name": "Python 3 (ipykernel)",
   "language": "python",
   "name": "python3"
  },
  "language_info": {
   "codemirror_mode": {
    "name": "ipython",
    "version": 3
   },
   "file_extension": ".py",
   "mimetype": "text/x-python",
   "name": "python",
   "nbconvert_exporter": "python",
   "pygments_lexer": "ipython3",
   "version": "3.8.8"
  }
 },
 "nbformat": 4,
 "nbformat_minor": 2
}
