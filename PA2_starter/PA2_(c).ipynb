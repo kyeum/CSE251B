{
 "cells": [
  {
   "cell_type": "markdown",
   "metadata": {},
   "source": [
    "## Classification (c) - Update inside of batch"
   ]
  },
  {
   "cell_type": "code",
   "execution_count": null,
   "metadata": {},
   "outputs": [
    {
     "name": "stdout",
     "output_type": "stream",
     "text": [
      "(50000, 32, 32, 3)\n",
      "Epoch: 1, train accuracy: 0.2441, train_loss_norm:0.3080, valid_acc: 0.2650, valid_loss_norm: 0.2046\n",
      "Valid loss going down!\n",
      "Epoch: 2, train accuracy: 0.2878, train_loss_norm:0.2028, valid_acc: 0.2754, valid_loss_norm: 0.2023\n",
      "Valid loss going down!\n",
      "Epoch: 3, train accuracy: 0.2992, train_loss_norm:0.2001, valid_acc: 0.2914, valid_loss_norm: 0.1987\n",
      "Valid loss going down!\n",
      "Epoch: 4, train accuracy: 0.3078, train_loss_norm:0.1975, valid_acc: 0.2938, valid_loss_norm: 0.1963\n",
      "Valid loss going down!\n",
      "Epoch: 5, train accuracy: 0.3147, train_loss_norm:0.1962, valid_acc: 0.3130, valid_loss_norm: 0.1957\n",
      "Valid loss going down!\n",
      "Epoch: 6, train accuracy: 0.3231, train_loss_norm:0.1942, valid_acc: 0.3118, valid_loss_norm: 0.1930\n",
      "Valid loss going down!\n",
      "Epoch: 7, train accuracy: 0.3267, train_loss_norm:0.1931, valid_acc: 0.3130, valid_loss_norm: 0.1950\n",
      "Valid loss go up!\n",
      "Current patience count: 1\n"
     ]
    }
   ],
   "source": [
    "# from neuralnet_update_PC import *\n",
    "# from neuralnet_works_FC import *\n",
    "from neuralnet import *\n",
    "from random import shuffle\n",
    "import numpy as np\n",
    "import matplotlib.pyplot as plt\n",
    "\n",
    "config_c = {}\n",
    "config_c['layer_specs'] = [3072, 64, 64, 10]\n",
    "config_c['activation'] = 'tanh'\n",
    "config_c['learning_rate'] = 0.005\n",
    "config_c['batch_size'] = 128\n",
    "config_c['epochs'] = 100  \n",
    "config_c['early_stop'] = True \n",
    "config_c['early_stop_epoch'] = 5\n",
    "config_c['L2_penalty'] = 0  \n",
    "config_c['momentum'] = True  \n",
    "config_c['momentum_gamma'] = 0.9  \n",
    "# Create the model\n",
    "\n",
    "#TODO\n",
    "#momentum, early stop , expect accuracy around 37%\n",
    "\n",
    "\"\"\"\n",
    "Train your model here.\n",
    "Implement batch SGD to train the model.\n",
    "Implement Early Stopping.\n",
    "Use config to set parameters for training like learning rate, momentum, etc.\n",
    "\"\"\"\n",
    "model_c  = Neuralnetwork(config_c)\n",
    "\n",
    "# Load the data\n",
    "x_train, y_train, stats = load_data(path=\"./data\",stats = None, mode=\"train\")\n",
    "x_test, y_test = load_data(path=\"./data\",stats = stats, mode=\"test\")\n",
    "\n",
    "x_train, y_train, x_valid, y_valid = split_data(x_train,y_train)\n",
    "\n",
    "epoch, train_loss_record, train_accuracy_record, holdout_loss_record, holdout_accuracy_record = train(model_c,x_train,y_train,x_valid,y_valid,config_c)\n",
    "\n",
    "# Recall parameters with minimum validation loss\n",
    "model_c.save_load_weight(save=False) # load data\n",
    "test_accuracy = test(model_c, x_test, y_test) \n"
   ]
  },
  {
   "cell_type": "code",
   "execution_count": null,
   "metadata": {},
   "outputs": [],
   "source": [
    "print('test set result : ' ,test_accuracy)\n",
    "\n",
    "plt.figure(1)\n",
    "plt.plot(np.arange(epoch), train_loss_record, label='train')\n",
    "plt.plot(np.arange(epoch), holdout_loss_record, label='valid')\n",
    "plt.xlabel('Epoch')\n",
    "plt.ylabel('Loss')\n",
    "plt.title('Training and validation loss vs epochs')\n",
    "plt.legend()\n",
    "plt.show()\n",
    "\n",
    "\n",
    "plt.figure(2)\n",
    "plt.plot(np.arange(epoch), train_accuracy_record, label='train')\n",
    "plt.plot(np.arange(epoch), holdout_accuracy_record, label='valid')\n",
    "plt.xlabel('Epoch')\n",
    "plt.ylabel('Accuracy')\n",
    "plt.title('Training and validation accuracy vs epochs')\n",
    "plt.legend()\n",
    "plt.show()"
   ]
  },
  {
   "cell_type": "code",
   "execution_count": null,
   "metadata": {},
   "outputs": [],
   "source": [
    "train_loss_record"
   ]
  },
  {
   "cell_type": "code",
   "execution_count": null,
   "metadata": {},
   "outputs": [],
   "source": []
  }
 ],
 "metadata": {
  "interpreter": {
   "hash": "005f4ed24810181fa8b2266ec303702d6575bedfaa41c7848d327e7f780b3129"
  },
  "kernelspec": {
   "display_name": "Python 3 (ipykernel)",
   "language": "python",
   "name": "python3"
  },
  "language_info": {
   "codemirror_mode": {
    "name": "ipython",
    "version": 3
   },
   "file_extension": ".py",
   "mimetype": "text/x-python",
   "name": "python",
   "nbconvert_exporter": "python",
   "pygments_lexer": "ipython3",
   "version": "3.8.8"
  }
 },
 "nbformat": 4,
 "nbformat_minor": 2
}
