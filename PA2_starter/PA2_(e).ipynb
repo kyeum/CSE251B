{
 "cells": [
  {
   "cell_type": "markdown",
   "metadata": {},
   "source": [
    "## Activations (e)"
   ]
  },
  {
   "cell_type": "code",
   "execution_count": 1,
   "metadata": {},
   "outputs": [],
   "source": [
    "from neuralnet import *\n",
    "from random import shuffle\n",
    "import numpy as np\n",
    "\n",
    "# Load the configuration.\n",
    "config = load_config(\"./data\")\n"
   ]
  },
  {
   "cell_type": "code",
   "execution_count": 2,
   "metadata": {},
   "outputs": [],
   "source": [
    "# Load model parameters\n",
    "# TODO: GET BEST PARAMS FROM (d) Regularization\n",
    "config = {}\n",
    "config['layer_specs'] = [3072, 64, 64, 10]\n",
    "config['learning_rate'] = 0.05\n",
    "config['batch_size'] = 128 \n",
    "config['epochs'] = 10\n",
    "config['early_stop'] = True \n",
    "config['early_stop_epoch'] = 5  \n",
    "config['L2_penalty'] = 0  \n",
    "config['momentum'] = True  \n",
    "config['momentum_gamma'] = 0.9  \n",
    "\n",
    "# Test different activations (not including tanh)\n",
    "activations = ['ReLU', 'leakyReLU', 'sigmoid']\n"
   ]
  },
  {
   "cell_type": "code",
   "execution_count": 3,
   "metadata": {},
   "outputs": [
    {
     "name": "stdout",
     "output_type": "stream",
     "text": [
      "(50000, 32, 32, 3)\n",
      "inp: (50000, 32, 32, 3)\n"
     ]
    }
   ],
   "source": [
    "# Load the data\n",
    "X_train, y_train, X_stats = load_data(path=\"./data\", stats=None, mode=\"train\")\n",
    "X_test, y_test = load_data(path=\"./data\", stats=X_stats, mode=\"test\")\n",
    "X_train, y_train, X_valid, y_valid = split_data(X_train,y_train)\n"
   ]
  },
  {
   "cell_type": "code",
   "execution_count": 5,
   "metadata": {},
   "outputs": [
    {
     "ename": "TypeError",
     "evalue": "accuracy() missing 2 required positional arguments: 'x' and 'target'",
     "output_type": "error",
     "traceback": [
      "\u001b[1;31m---------------------------------------------------------------------------\u001b[0m",
      "\u001b[1;31mTypeError\u001b[0m                                 Traceback (most recent call last)",
      "\u001b[1;32m~\\AppData\\Local\\Temp/ipykernel_50940/3985144598.py\u001b[0m in \u001b[0;36m<module>\u001b[1;34m\u001b[0m\n\u001b[0;32m     10\u001b[0m     \u001b[0mconfig\u001b[0m\u001b[1;33m[\u001b[0m\u001b[1;34m'activation'\u001b[0m\u001b[1;33m]\u001b[0m \u001b[1;33m=\u001b[0m \u001b[0mactivation\u001b[0m\u001b[1;33m\u001b[0m\u001b[1;33m\u001b[0m\u001b[0m\n\u001b[0;32m     11\u001b[0m     \u001b[0mmodel\u001b[0m \u001b[1;33m=\u001b[0m \u001b[0mNeuralnetwork\u001b[0m\u001b[1;33m(\u001b[0m\u001b[0mconfig\u001b[0m\u001b[1;33m)\u001b[0m\u001b[1;33m\u001b[0m\u001b[1;33m\u001b[0m\u001b[0m\n\u001b[1;32m---> 12\u001b[1;33m     \u001b[0mtrain_loss_record\u001b[0m\u001b[1;33m,\u001b[0m \u001b[0mtrain_accuracy_record\u001b[0m\u001b[1;33m,\u001b[0m \u001b[0mvalid_loss_record\u001b[0m\u001b[1;33m,\u001b[0m \u001b[0mvalid_accuracy_record\u001b[0m \u001b[1;33m=\u001b[0m \u001b[0mtrain\u001b[0m\u001b[1;33m(\u001b[0m\u001b[0mmodel\u001b[0m\u001b[1;33m,\u001b[0m\u001b[0mX_train\u001b[0m\u001b[1;33m,\u001b[0m\u001b[0my_train\u001b[0m\u001b[1;33m,\u001b[0m\u001b[0mX_valid\u001b[0m\u001b[1;33m,\u001b[0m\u001b[0my_valid\u001b[0m\u001b[1;33m,\u001b[0m\u001b[0mconfig\u001b[0m\u001b[1;33m)\u001b[0m\u001b[1;33m\u001b[0m\u001b[1;33m\u001b[0m\u001b[0m\n\u001b[0m\u001b[0;32m     13\u001b[0m     \u001b[0mall_train_loss_record\u001b[0m\u001b[1;33m.\u001b[0m\u001b[0mappend\u001b[0m\u001b[1;33m(\u001b[0m\u001b[0mtrain_loss_record\u001b[0m\u001b[1;33m)\u001b[0m\u001b[1;33m\u001b[0m\u001b[1;33m\u001b[0m\u001b[0m\n\u001b[0;32m     14\u001b[0m     \u001b[0mall_train_acc_record\u001b[0m\u001b[1;33m.\u001b[0m\u001b[0mappend\u001b[0m\u001b[1;33m(\u001b[0m\u001b[0mtrain_accuracy_record\u001b[0m\u001b[1;33m)\u001b[0m\u001b[1;33m\u001b[0m\u001b[1;33m\u001b[0m\u001b[0m\n",
      "\u001b[1;32mc:\\Users\\Victor\\OneDrive\\Documents\\UCSD\\0CSE251B\\CSE251B\\PA2_starter\\neuralnet.py\u001b[0m in \u001b[0;36mtrain\u001b[1;34m(model, x_train, y_train, x_valid, y_valid, config, patience)\u001b[0m\n\u001b[0;32m    554\u001b[0m \u001b[1;33m\u001b[0m\u001b[0m\n\u001b[0;32m    555\u001b[0m             \u001b[1;31m# Calculate the accuracy of the batch.\u001b[0m\u001b[1;33m\u001b[0m\u001b[1;33m\u001b[0m\u001b[0m\n\u001b[1;32m--> 556\u001b[1;33m             \u001b[0mbatch_accuracy\u001b[0m\u001b[1;33m.\u001b[0m\u001b[0mappend\u001b[0m\u001b[1;33m(\u001b[0m\u001b[0mmodel\u001b[0m\u001b[1;33m.\u001b[0m\u001b[0maccuracy\u001b[0m\u001b[1;33m(\u001b[0m\u001b[1;33m)\u001b[0m\u001b[1;33m)\u001b[0m\u001b[1;33m\u001b[0m\u001b[1;33m\u001b[0m\u001b[0m\n\u001b[0m\u001b[0;32m    557\u001b[0m \u001b[1;33m\u001b[0m\u001b[0m\n\u001b[0;32m    558\u001b[0m         \u001b[1;31m# Update the weights once per epoch.\u001b[0m\u001b[1;33m\u001b[0m\u001b[1;33m\u001b[0m\u001b[0m\n",
      "\u001b[1;31mTypeError\u001b[0m: accuracy() missing 2 required positional arguments: 'x' and 'target'"
     ]
    }
   ],
   "source": [
    "all_train_loss_record = []\n",
    "all_train_acc_record = []\n",
    "\n",
    "all_valid_loss_record = []\n",
    "all_valid_acc_record = []\n",
    "\n",
    "all_test_acc_record = []\n",
    "\n",
    "for activation in activations:\n",
    "    config['activation'] = activation\n",
    "    model = Neuralnetwork(config)\n",
    "    train_loss_record, train_accuracy_record, valid_loss_record, valid_accuracy_record = train(model,X_train,y_train,X_valid,y_valid,config)\n",
    "    all_train_loss_record.append(train_loss_record)\n",
    "    all_train_acc_record.append(train_accuracy_record)\n",
    "    all_valid_loss_record.append(valid_loss_record)\n",
    "    all_valid_acc_record.append(valid_accuracy_record)\n",
    "\n",
    "    # Recall parameters with minimum validation loss\n",
    "    model.save_load_weight(save=False) # load best weights\n",
    "    test_accuracy = test(model, X_test, y_test) \n",
    "    all_test_acc_record.append(test_accuracy)"
   ]
  },
  {
   "cell_type": "code",
   "execution_count": null,
   "metadata": {},
   "outputs": [],
   "source": [
    "import matplotlib.pyplot as plt\n",
    "num_epochs = [i for i in range(config['epochs'])]\n"
   ]
  },
  {
   "cell_type": "code",
   "execution_count": null,
   "metadata": {},
   "outputs": [],
   "source": [
    "## Plot train and valid loss on one graph\n",
    "\n",
    "# Line type\n",
    "train_loss_lt = ['-b', '-r', '-g']\n",
    "valid_loss_lt = ['--b', '--r', '--g']\n",
    "\n",
    "for i, activation in enumerate(activations):\n",
    "    plt.plot(num_epochs, all_train_loss_record[i], train_loss_lt[i], label=f\"Train Loss: {activation}\")\n",
    "    plt.plot(num_epochs, all_valid_loss_record[i], valid_loss_lt[i], label=f\"Valid Loss: {activation}\")\n",
    "plt.xlabel('Epochs')\n",
    "plt.ylabel('Normalized Loss')\n",
    "plt.title(\"Train and Validation Loss vs. Epochs\")\n",
    "plt.legend()\n",
    "plt.savefig('plots/(e)_act_loss.png')\n",
    "plt.show()"
   ]
  },
  {
   "cell_type": "code",
   "execution_count": null,
   "metadata": {},
   "outputs": [],
   "source": [
    "## Plot Train and valid acc on another\n",
    "\n",
    "# Line type\n",
    "train_acc_lt = ['-b', '-r', '-g']\n",
    "valid_acc_lt = ['--b', '--r', '--g']\n",
    "\n",
    "for i, activation in enumerate(activations):\n",
    "    plt.plot(num_epochs, all_train_acc_record[i], train_acc_lt[i], label=f\"Train Acc: {activation}\")\n",
    "    plt.plot(num_epochs, all_valid_acc_record[i], valid_acc_lt[i], label=f\"Valid Acc: {activation}\")\n",
    "plt.xlabel('Epochs')\n",
    "plt.ylabel('Accuracy')\n",
    "plt.title(\"Train and Validation Accuracy vs. Epochs\")\n",
    "plt.legend()\n",
    "plt.savefig('plots/(e)_act_acc.png')\n",
    "plt.show()"
   ]
  },
  {
   "cell_type": "code",
   "execution_count": null,
   "metadata": {},
   "outputs": [],
   "source": [
    "# Report final test accuracy\n",
    "for i, activation in enumerate(activations):\n",
    "    print(f\"Final Test Accuracy for {activation}: {all_test_acc_record[i]:.4f}\")\n"
   ]
  },
  {
   "cell_type": "code",
   "execution_count": null,
   "metadata": {},
   "outputs": [],
   "source": []
  }
 ],
 "metadata": {
  "interpreter": {
   "hash": "005f4ed24810181fa8b2266ec303702d6575bedfaa41c7848d327e7f780b3129"
  },
  "kernelspec": {
   "display_name": "Python 3 (ipykernel)",
   "language": "python",
   "name": "python3"
  },
  "language_info": {
   "codemirror_mode": {
    "name": "ipython",
    "version": 3
   },
   "file_extension": ".py",
   "mimetype": "text/x-python",
   "name": "python",
   "nbconvert_exporter": "python",
   "pygments_lexer": "ipython3",
   "version": "3.8.8"
  }
 },
 "nbformat": 4,
 "nbformat_minor": 2
}
