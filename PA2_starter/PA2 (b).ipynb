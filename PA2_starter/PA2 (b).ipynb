{
 "cells": [
  {
   "cell_type": "markdown",
   "metadata": {},
   "source": [
    "## Classification (b)"
   ]
  },
  {
   "cell_type": "code",
   "execution_count": 1,
   "metadata": {},
   "outputs": [
    {
     "name": "stdout",
     "output_type": "stream",
     "text": [
      "$$$$$$ (3072, 50)\n",
      "$$$$$$ (50, 50)\n",
      "$$$$$$ (50, 11)\n"
     ]
    }
   ],
   "source": [
    "from neuralnet import *\n",
    "from random import shuffle\n",
    "import numpy as np\n",
    "\n",
    "# Load the configuration.\n",
    "config = load_config(\"./data\")\n",
    "\n",
    "# Create the model\n",
    "model  = Neuralnetwork(config)\n",
    "# Load the data\n",
    "x_train, y_train = load_data(path=\"./data\", mode=\"train\") # output normalized and one hot encoding\n",
    "x_test, y_test = load_data(path=\"./data\", mode=\"test\")# output normalized and one hot encoding\n",
    "\n",
    "# Use 10 examples one from each category"
   ]
  },
  {
   "cell_type": "code",
   "execution_count": 2,
   "metadata": {},
   "outputs": [],
   "source": [
    "\n",
    "# Data loading and spliting\n",
    "x_b, y_b = load_data(path=\"./data\", mode=\"train\")\n",
    "\n",
    "class_num = list(range(10)) # 10 sample in range\n",
    "xtrain = []\n",
    "ytrain = []\n",
    "\n",
    "parse = 0;\n",
    "for k in range(5):\n",
    "    xtrain.extend(x_b[parse :parse+10])\n",
    "    ytrain.extend(y_b[parse :parse+10])\n",
    "    parse += 10000\n",
    "        \n",
    "xtrain = np.array(xtrain)\n",
    "ytrain = np.array(ytrain)\n"
   ]
  },
  {
   "cell_type": "code",
   "execution_count": 4,
   "metadata": {},
   "outputs": [
    {
     "name": "stdout",
     "output_type": "stream",
     "text": [
      "$$$$$$ (3072, 50)\n",
      "$$$$$$ (50, 50)\n",
      "$$$$$$ (50, 11)\n"
     ]
    },
    {
     "data": {
      "text/plain": [
       "array([[ 2.21435121e+001,  1.21220289e+001,  1.94522751e+001, ...,\n",
       "        -2.43969964e+001, -2.01970159e+001,  5.34331816e+000],\n",
       "       [-4.35552189e-158,  1.31478795e-157, -1.51723370e-157, ...,\n",
       "        -1.25322357e-157, -1.03204203e-157,  2.89141019e-157],\n",
       "       [-1.69037190e+001,  3.92642022e+001, -2.41959006e+001, ...,\n",
       "        -3.45174435e+001,  2.19288350e+001,  5.97093389e+000],\n",
       "       ...,\n",
       "       [ 3.69138279e+000,  5.63699191e+001,  4.37535997e+001, ...,\n",
       "         1.50553224e+001,  1.52009729e+000,  8.79999837e+001],\n",
       "       [-2.20527202e+001,  4.95845634e+001,  3.45546500e+001, ...,\n",
       "        -3.03912400e+001, -3.00965247e+001, -1.40381451e+001],\n",
       "       [ 6.48280465e+001, -1.82342891e+001,  3.38145742e+001, ...,\n",
       "        -2.07644852e+001,  8.02769900e+000,  6.35492924e+001]])"
      ]
     },
     "execution_count": 4,
     "metadata": {},
     "output_type": "execute_result"
    }
   ],
   "source": [
    "# Load model para\n",
    "config_prob_b = {}\n",
    "config_prob_b['layer_specs'] = [3072, 50, 50, 11]\n",
    "config_prob_b['activation'] = 'ReLU'\n",
    "config_prob_b['learning_rate'] = 0.15 \n",
    "config_prob_b['batch_size'] = 128 \n",
    "config_prob_b['epochs'] = 100  \n",
    "config_prob_b['early_stop'] = True \n",
    "config_prob_b['early_stop_epoch'] = 5  \n",
    "config_prob_b['L2_penalty'] = 0  \n",
    "config_prob_b['momentum'] = True  \n",
    "config_prob_b['momentum_gamma'] = 0.9  \n",
    "\n",
    "model_b = Neuralnetwork(config_prob_b)\n",
    "model_b.forward(xtrain,ytrain)\n",
    "model_b.backward()\n"
   ]
  },
  {
   "cell_type": "code",
   "execution_count": 9,
   "metadata": {},
   "outputs": [
    {
     "ename": "AttributeError",
     "evalue": "'Activation' object has no attribute 'd_b'",
     "output_type": "error",
     "traceback": [
      "\u001b[0;31m---------------------------------------------------------------------------\u001b[0m",
      "\u001b[0;31mAttributeError\u001b[0m                            Traceback (most recent call last)",
      "\u001b[0;32m/var/folders/wt/l4n6hhns3dz9d7ljspfyxvd40000gn/T/ipykernel_3333/375607992.py\u001b[0m in \u001b[0;36m<module>\u001b[0;34m\u001b[0m\n\u001b[1;32m     28\u001b[0m     \u001b[0;31m#d_b_est.append(Numerical_Estimation_bias(model=model_b, layer=layer, eps=eps,input_idx=0, output_idx=1))\u001b[0m\u001b[0;34m\u001b[0m\u001b[0;34m\u001b[0m\u001b[0;34m\u001b[0m\u001b[0m\n\u001b[1;32m     29\u001b[0m     \u001b[0;31m#d_w_est.append([Numerical_Estimation_weight(model=model_b, layer=layer, eps=eps, input_idx=0, output_idx=1), Numerical_Estimation_weight(model=model, layer=layer, eps = eps, input_idx=0, output_idx=2)])\u001b[0m\u001b[0;34m\u001b[0m\u001b[0;34m\u001b[0m\u001b[0;34m\u001b[0m\u001b[0m\n\u001b[0;32m---> 30\u001b[0;31m     \u001b[0mdb\u001b[0m\u001b[0;34m.\u001b[0m\u001b[0mappend\u001b[0m\u001b[0;34m(\u001b[0m\u001b[0mlayer\u001b[0m\u001b[0;34m.\u001b[0m\u001b[0md_b\u001b[0m\u001b[0;34m[\u001b[0m\u001b[0;36m0\u001b[0m\u001b[0;34m]\u001b[0m\u001b[0;34m)\u001b[0m\u001b[0;34m\u001b[0m\u001b[0;34m\u001b[0m\u001b[0m\n\u001b[0m\u001b[1;32m     31\u001b[0m     \u001b[0mdw\u001b[0m\u001b[0;34m.\u001b[0m\u001b[0mappend\u001b[0m\u001b[0;34m(\u001b[0m\u001b[0;34m[\u001b[0m\u001b[0mlayer\u001b[0m\u001b[0;34m.\u001b[0m\u001b[0md_w\u001b[0m\u001b[0;34m[\u001b[0m\u001b[0;36m0\u001b[0m\u001b[0;34m]\u001b[0m\u001b[0;34m[\u001b[0m\u001b[0;36m0\u001b[0m\u001b[0;34m]\u001b[0m \u001b[0;34m,\u001b[0m\u001b[0mlayer\u001b[0m\u001b[0;34m.\u001b[0m\u001b[0md_w\u001b[0m\u001b[0;34m[\u001b[0m\u001b[0;36m0\u001b[0m\u001b[0;34m]\u001b[0m\u001b[0;34m[\u001b[0m\u001b[0;36m1\u001b[0m\u001b[0;34m]\u001b[0m\u001b[0;34m]\u001b[0m\u001b[0;34m)\u001b[0m\u001b[0;34m\u001b[0m\u001b[0;34m\u001b[0m\u001b[0m\n\u001b[1;32m     32\u001b[0m \u001b[0;34m\u001b[0m\u001b[0m\n",
      "\u001b[0;31mAttributeError\u001b[0m: 'Activation' object has no attribute 'd_b'"
     ]
    }
   ],
   "source": [
    "# d_b d_w comparison\n",
    "\n",
    "## Part (b) Estimation of bias weight and weight\n",
    "def Numerical_Estimation_bias(model, layer, eps, input_idx, output_idx):\n",
    "    layer.b[0][output_idx] += eps # E(w+e)\n",
    "    loss_1 = model.forward(np.array(xtrain), np.array(ytrain))[1]\n",
    "    layer.b[0][output_idx] -= 2*eps # E(w-e)\n",
    "    loss_2 = model.forward(np.array(xtrain), np.array(ytrain))[1]\n",
    "    layer.b[0][output_idx] += eps\n",
    "    return (loss_1 - loss_2) / (2 * eps) # Numerical estimation for dEdW\n",
    "\n",
    "def Numerical_Estimation_weight(model, layer, eps, input_idx, output_idx):\n",
    "    layer.w[input_idx][output_idx] += eps # E(w+e)\n",
    "    loss_1 = model.forward(np.array(xtrain), np.array(ytrain))[1]\n",
    "    layer.w[input_idx][output_idx] -= 2*eps # E(w-e)\n",
    "    loss_2 = model.forward(np.array(xtrain), np.array(ytrain))[1]\n",
    "    layer.w[input_idx][output_idx] += eps\n",
    "    return (loss_1 - loss_2) / (2 * eps) # Numerical estimation for dEdW\n",
    "\n",
    "eps = 10e-2 # difference expectation to 10e-4\n",
    "\n",
    "\n",
    "db = []\n",
    "dw = []\n",
    "db_est = []\n",
    "dw_est = []\n",
    "for layer in model_b.layers:\n",
    "    #d_b_est.append(Numerical_Estimation_bias(model=model_b, layer=layer, eps=eps,input_idx=0, output_idx=1))\n",
    "    #d_w_est.append([Numerical_Estimation_weight(model=model_b, layer=layer, eps=eps, input_idx=0, output_idx=1), Numerical_Estimation_weight(model=model, layer=layer, eps = eps, input_idx=0, output_idx=2)])\n",
    "    db.append(layer.d_b[0]) \n",
    "    dw.append([layer.d_w[0][0] ,layer.d_w[0][1]])\n",
    "        \n",
    "print('db: {}'.format(d_b))\n",
    "print('db est: {}'.format(d_b_estimate))\n",
    "print('dw: {}'.format(d_w))\n",
    "print('dw est: {}'.format( d_w_estimate))"
   ]
  },
  {
   "cell_type": "code",
   "execution_count": 21,
   "metadata": {},
   "outputs": [
    {
     "data": {
      "text/plain": [
       "(50, 50)"
      ]
     },
     "execution_count": 21,
     "metadata": {},
     "output_type": "execute_result"
    }
   ],
   "source": [
    "np.random.seed(42)\n",
    "w = np.random.randn(50, 3072)\n",
    "x = xtrain\n",
    "\n",
    "k = np.dot(x,w.T)\n",
    "np.shape(k)\n"
   ]
  },
  {
   "cell_type": "code",
   "execution_count": null,
   "metadata": {},
   "outputs": [],
   "source": []
  }
 ],
 "metadata": {
  "interpreter": {
   "hash": "005f4ed24810181fa8b2266ec303702d6575bedfaa41c7848d327e7f780b3129"
  },
  "kernelspec": {
   "display_name": "Python 3 (ipykernel)",
   "language": "python",
   "name": "python3"
  },
  "language_info": {
   "codemirror_mode": {
    "name": "ipython",
    "version": 3
   },
   "file_extension": ".py",
   "mimetype": "text/x-python",
   "name": "python",
   "nbconvert_exporter": "python",
   "pygments_lexer": "ipython3",
   "version": "3.8.8"
  }
 },
 "nbformat": 4,
 "nbformat_minor": 2
}
