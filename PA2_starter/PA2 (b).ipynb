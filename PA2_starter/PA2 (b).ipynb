{
 "cells": [
  {
   "cell_type": "markdown",
   "metadata": {},
   "source": [
    "## Classification (b)"
   ]
  },
  {
   "cell_type": "code",
   "execution_count": 13,
   "metadata": {},
   "outputs": [],
   "source": [
    "from neuralnet import *\n",
    "from random import shuffle\n",
    "import numpy as np\n",
    "\n",
    "# Load the configuration.\n",
    "config = load_config(\"./data\")\n",
    "\n",
    "# Create the model\n",
    "#model  = Neuralnetwork(config)\n",
    "# Load the data\n",
    "#x_train, y_train = load_data(path=\"./data\", mode=\"train\") # output normalized and one hot encoding\n",
    "#x_test, y_test = load_data(path=\"./data\", mode=\"test\")# output normalized and one hot encoding\n",
    "\n",
    "# Use 10 examples one from each category"
   ]
  },
  {
   "cell_type": "code",
   "execution_count": 16,
   "metadata": {},
   "outputs": [],
   "source": [
    "\n",
    "# Data loading and spliting\n",
    "x_b, y_b = load_data(path=\"./data\", mode=\"train\")\n",
    "\n",
    "xtrain = []\n",
    "ytrain = []\n",
    "class_num = list(range(10))\n",
    "\n",
    "def onehot_decode(y):\n",
    "    indices = np.argmax(y)\n",
    "    return indices\n",
    "\n",
    "xtrain, ytrain = [], []\n",
    "for idx in range(y_b.shape[0]):\n",
    "    if len(class_num) == 0:\n",
    "        break\n",
    "    indice = onehot_decode(y_b[idx])\n",
    "    \n",
    "    if indice in class_num:\n",
    "        xtrain.append(x_b[idx])\n",
    "        ytrain.append(y_b[idx])\n",
    "        class_num.remove(indice)\n",
    "        \n",
    "        \n",
    "xtrain = np.array(xtrain)        \n",
    "ytrain = np.array(ytrain)        "
   ]
  },
  {
   "cell_type": "code",
   "execution_count": 19,
   "metadata": {},
   "outputs": [
    {
     "data": {
      "text/plain": [
       "array([[ 1.98217630e+00, -5.78175447e-01, -1.84858573e+00, ...,\n",
       "        -1.29285963e+00,  1.62773347e+01, -1.69883513e+01],\n",
       "       [-3.54427901e-87,  7.28374523e-88, -2.28696942e-87, ...,\n",
       "        -5.57114351e-87, -1.50458852e-86,  4.99080557e-87],\n",
       "       [ 1.63293094e+01, -2.11315749e+01, -2.10467371e+01, ...,\n",
       "        -1.15482739e+01, -1.29470276e+00, -1.35259577e+01],\n",
       "       ...,\n",
       "       [-3.22972831e+00,  1.25685804e+01, -3.06404500e+00, ...,\n",
       "        -1.57546395e+01, -3.38555649e+00, -3.60930976e+01],\n",
       "       [-3.67867164e+00, -7.94126962e+00, -2.91366184e+00, ...,\n",
       "        -1.10872086e+01, -1.36846219e+00, -1.20618211e+01],\n",
       "       [ 9.71083951e+00, -1.51999364e+01, -9.84996320e+00, ...,\n",
       "         4.30202733e+00, -6.35391691e+00, -1.22660306e+01]])"
      ]
     },
     "execution_count": 19,
     "metadata": {},
     "output_type": "execute_result"
    }
   ],
   "source": [
    "# Load model para\n",
    "config_prob_b = {}\n",
    "config_prob_b['layer_specs'] = [3072, 10, 10, 11]\n",
    "config_prob_b['activation'] = 'ReLU'\n",
    "config_prob_b['learning_rate'] = 0.15 \n",
    "config_prob_b['batch_size'] = 128 \n",
    "config_prob_b['epochs'] = 100  \n",
    "config_prob_b['early_stop'] = True \n",
    "config_prob_b['early_stop_epoch'] = 5  \n",
    "config_prob_b['L2_penalty'] = 0  \n",
    "config_prob_b['momentum'] = True  \n",
    "config_prob_b['momentum_gamma'] = 0.9  \n",
    "\n",
    "model_b = Neuralnetwork(config_prob_b)\n",
    "model_b.forward(xtrain,ytrain)\n",
    "model_b.backward()\n"
   ]
  },
  {
   "cell_type": "code",
   "execution_count": 21,
   "metadata": {},
   "outputs": [
    {
     "name": "stdout",
     "output_type": "stream",
     "text": [
      "(db - db_est): [-3.55187434  1.05605173 -0.1       ]\n",
      "(dw - dw_est): [[ 1.39409747e-01  1.26588959e-01]\n",
      " [-3.64494800e+00  1.21245300e+01]\n",
      " [-1.88196446e+01  2.28382977e-70]]\n",
      "(db ): [-3.55187434  1.05605173 -0.1       ]\n",
      "(db_est): [0. 0. 0.]\n",
      "(dw ): [[ 1.39409747e-01  1.26588959e-01]\n",
      " [-3.64494800e+00  1.21245300e+01]\n",
      " [-1.88196446e+01  2.28382977e-70]]\n",
      "(dw_est): [[0. 0.]\n",
      " [0. 0.]\n",
      " [0. 0.]]\n"
     ]
    }
   ],
   "source": [
    "# d_b d_w comparison\n",
    "\n",
    "## Part (b) Estimation of bias weight and weight\n",
    "def Num_Est_b(model, layer, eps, input_idx, output_idx):\n",
    "    layer.b[0][output_idx] += eps # E(w+e)\n",
    "    loss_1 = model.forward(xtrain, ytrain)\n",
    "    layer.b[0][output_idx] -= 2*eps # E(w-e)\n",
    "    loss_2 = model.forward(xtrain, ytrain)\n",
    "    layer.b[0][output_idx] += eps # back to normal\n",
    "    return (loss_1 - loss_2) / (2 * eps) # Numerical estimation for dEdW\n",
    "\n",
    "def Num_Est_w(model, layer, eps, input_idx, output_idx):\n",
    "    layer.w[input_idx][output_idx] += eps # E(w+e)\n",
    "    loss_1 = model.forward(xtrain, ytrain)\n",
    "    layer.w[input_idx][output_idx] -= 2*eps # E(w-e)\n",
    "    loss_2 = model.forward(xtrain, ytrain)\n",
    "    layer.w[input_idx][output_idx] += eps # back to normal\n",
    "    return (loss_1 - loss_2) / (2 * eps) # Numerical estimation for dEdW\n",
    "\n",
    "eps = 1e-2 # difference expectation to 10e-4\n",
    "db = []\n",
    "dw = []\n",
    "db_est = []\n",
    "dw_est = []\n",
    "\n",
    "for layer in model_b.layers:\n",
    "    if isinstance(layer, Activation):\n",
    "        continue\n",
    "    db_est.append(Num_Est_b(model_b, layer, eps, 0, 1))\n",
    "    db.append(layer.d_b[1]) \n",
    "    dw_est.append([Num_Est_w(model_b, layer, eps, 0, 0), Num_Est_w(model_b,layer, eps, 0, 1)])\n",
    "    dw.append([layer.d_w[0][0] ,layer.d_w[0][1]])\n",
    "        \n",
    "print('(db - db_est): {}'.format(np.array(db)-np.array(db_est)))\n",
    "print('(dw - dw_est): {}'.format(np.array(dw)-np.array(dw_est)))\n",
    "print('(db ): {}'.format(np.array(db)))\n",
    "print('(db_est): {}'.format(np.array(db_est)))\n",
    "print('(dw ): {}'.format(np.array(dw)))\n",
    "print('(dw_est): {}'.format(np.array(dw_est)))"
   ]
  },
  {
   "cell_type": "code",
   "execution_count": null,
   "metadata": {},
   "outputs": [],
   "source": []
  }
 ],
 "metadata": {
  "interpreter": {
   "hash": "005f4ed24810181fa8b2266ec303702d6575bedfaa41c7848d327e7f780b3129"
  },
  "kernelspec": {
   "display_name": "Python 3 (ipykernel)",
   "language": "python",
   "name": "python3"
  },
  "language_info": {
   "codemirror_mode": {
    "name": "ipython",
    "version": 3
   },
   "file_extension": ".py",
   "mimetype": "text/x-python",
   "name": "python",
   "nbconvert_exporter": "python",
   "pygments_lexer": "ipython3",
   "version": "3.8.8"
  }
 },
 "nbformat": 4,
 "nbformat_minor": 2
}
