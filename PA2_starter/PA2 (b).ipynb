{
 "cells": [
  {
   "cell_type": "markdown",
   "metadata": {},
   "source": [
    "## Classification (b)"
   ]
  },
  {
   "cell_type": "code",
   "execution_count": 1,
   "metadata": {},
   "outputs": [],
   "source": [
    "from neuralnet import *\n",
    "from random import shuffle\n",
    "import numpy as np\n",
    "\n",
    "# Load the configuration.\n",
    "config = load_config(\"./data\")\n",
    "\n",
    "# Create the model\n",
    "#model  = Neuralnetwork(config)\n",
    "# Load the data\n",
    "#x_train, y_train = load_data(path=\"./data\", mode=\"train\") # output normalized and one hot encoding\n",
    "#x_test, y_test = load_data(path=\"./data\", mode=\"test\")# output normalized and one hot encoding\n",
    "\n",
    "# Use 10 examples one from each category"
   ]
  },
  {
   "cell_type": "code",
   "execution_count": 2,
   "metadata": {},
   "outputs": [],
   "source": [
    "\n",
    "# Data loading and spliting\n",
    "X_b, y_b, X_stats = load_data(path=\"./data\", mode=\"train\")\n",
    "\n",
    "X_train = []\n",
    "y_train = []\n",
    "class_num = list(range(10))\n",
    "\n",
    "\n",
    "X_train, y_train = [], []\n",
    "for idx in range(y_b.shape[0]):\n",
    "    if len(class_num) == 0:\n",
    "        break\n",
    "    indice = onehot_decode(y_b[idx])\n",
    "    \n",
    "    if indice in class_num:\n",
    "        X_train.append(X_b[idx])\n",
    "        y_train.append(y_b[idx])\n",
    "        class_num.remove(indice)\n",
    "        \n",
    "        \n",
    "X_train = np.array(X_train)        \n",
    "y_train = np.array(y_train)        "
   ]
  },
  {
   "cell_type": "code",
   "execution_count": 3,
   "metadata": {},
   "outputs": [
    {
     "data": {
      "text/plain": [
       "array([[ -9.79886062,  13.59701097,  18.47396975, ...,  22.88539403,\n",
       "         -0.78263025, -13.16211926],\n",
       "       [ -9.12626439,  21.62410503,  17.24807043, ...,  23.84501683,\n",
       "        -13.85896364, -21.88255205],\n",
       "       [  1.20463813,   6.53872047,   7.94031121, ...,  29.2017095 ,\n",
       "        -19.80950099,  31.39316161],\n",
       "       ...,\n",
       "       [  7.02411135,  -7.06996153, -16.45616821, ..., -32.75096404,\n",
       "         12.25307948, -47.16858759],\n",
       "       [ -0.86306036,   4.52222992,   8.01977243, ...,  14.15783482,\n",
       "        -19.00879671, -15.9398642 ],\n",
       "       [ -0.9417694 ,  -1.50564644,  -0.49143815, ...,   3.30761467,\n",
       "         -7.81585914,  34.73061464]])"
      ]
     },
     "execution_count": 3,
     "metadata": {},
     "output_type": "execute_result"
    }
   ],
   "source": [
    "# Load model para\n",
    "config_prob_b = {}\n",
    "config_prob_b['layer_specs'] = [3072, 10, 10, 10]\n",
    "config_prob_b['activation'] = 'ReLU'\n",
    "config_prob_b['learning_rate'] = 0.15 \n",
    "config_prob_b['batch_size'] = 128 \n",
    "config_prob_b['epochs'] = 100  \n",
    "config_prob_b['early_stop'] = True \n",
    "config_prob_b['early_stop_epoch'] = 5  \n",
    "config_prob_b['L2_penalty'] = 0  \n",
    "config_prob_b['momentum'] = True  \n",
    "config_prob_b['momentum_gamma'] = 0.9  \n",
    "\n",
    "model_b = Neuralnetwork(config_prob_b)\n",
    "model_b.forward(X_train, y_train)\n",
    "model_b.backward()\n"
   ]
  },
  {
   "cell_type": "code",
   "execution_count": 4,
   "metadata": {},
   "outputs": [
    {
     "name": "stdout",
     "output_type": "stream",
     "text": [
      "(db - db_est): [-0.66830518  0.28061107  0.10005199]\n",
      "(dw - dw_est): [[ -0.42866988   1.14612641]\n",
      " [ -7.76988313  11.99803262]\n",
      " [-18.81964457   5.93045641]]\n",
      "(db ): [-0.66830518  0.28061107  0.10005199]\n",
      "(db_est): [0. 0. 0.]\n",
      "(dw ): [[ -0.42866988   1.14612641]\n",
      " [ -7.76988313  11.99803262]\n",
      " [-18.81964457   5.93045641]]\n",
      "(dw_est): [[0. 0.]\n",
      " [0. 0.]\n",
      " [0. 0.]]\n"
     ]
    }
   ],
   "source": [
    "# d_b d_w comparison\n",
    "\n",
    "## Part (b) Estimation of bias weight and weight\n",
    "def Num_Est_b(model, layer, eps, input_idx, output_idx):\n",
    "    layer.b[0][output_idx] += eps # E(w+e)\n",
    "    loss_1 = model.forward(X_train, y_train)\n",
    "    layer.b[0][output_idx] -= 2*eps # E(w-e)\n",
    "    loss_2 = model.forward(X_train, y_train)\n",
    "    layer.b[0][output_idx] += eps # back to normal\n",
    "    return (loss_1 - loss_2) / (2 * eps) # Numerical estimation for dEdW\n",
    "\n",
    "def Num_Est_w(model, layer, eps, input_idx, output_idx):\n",
    "    layer.w[input_idx][output_idx] += eps # E(w+e)\n",
    "    loss_1 = model.forward(X_train, y_train)\n",
    "    layer.w[input_idx][output_idx] -= 2*eps # E(w-e)\n",
    "    loss_2 = model.forward(X_train, y_train)\n",
    "    layer.w[input_idx][output_idx] += eps # back to normal\n",
    "    return (loss_1 - loss_2) / (2 * eps) # Numerical estimation for dEdW\n",
    "\n",
    "eps = 1e-2 # difference expectation to 10e-4\n",
    "db = []\n",
    "dw = []\n",
    "db_est = []\n",
    "dw_est = []\n",
    "\n",
    "for layer in model_b.layers:\n",
    "    if isinstance(layer, Activation):\n",
    "        continue\n",
    "    db_est.append(Num_Est_b(model_b, layer, eps, 0, 1))\n",
    "    db.append(layer.d_b[1]) \n",
    "    dw_est.append([Num_Est_w(model_b, layer, eps, 0, 0), Num_Est_w(model_b,layer, eps, 0, 1)])\n",
    "    dw.append([layer.d_w[0][0] ,layer.d_w[0][1]])\n",
    "        \n",
    "print('(db - db_est): {}'.format(np.array(db)-np.array(db_est)))\n",
    "print('(dw - dw_est): {}'.format(np.array(dw)-np.array(dw_est)))\n",
    "print('(db ): {}'.format(np.array(db)))\n",
    "print('(db_est): {}'.format(np.array(db_est)))\n",
    "print('(dw ): {}'.format(np.array(dw)))\n",
    "print('(dw_est): {}'.format(np.array(dw_est)))"
   ]
  },
  {
   "cell_type": "code",
   "execution_count": null,
   "metadata": {},
   "outputs": [],
   "source": []
  }
 ],
 "metadata": {
  "interpreter": {
   "hash": "005f4ed24810181fa8b2266ec303702d6575bedfaa41c7848d327e7f780b3129"
  },
  "kernelspec": {
   "display_name": "Python 3 (ipykernel)",
   "language": "python",
   "name": "python3"
  },
  "language_info": {
   "codemirror_mode": {
    "name": "ipython",
    "version": 3
   },
   "file_extension": ".py",
   "mimetype": "text/x-python",
   "name": "python",
   "nbconvert_exporter": "python",
   "pygments_lexer": "ipython3",
   "version": "3.8.8"
  }
 },
 "nbformat": 4,
 "nbformat_minor": 2
}
