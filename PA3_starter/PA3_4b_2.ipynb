{
 "cells": [
  {
   "cell_type": "markdown",
   "metadata": {},
   "source": [
    "## Q4(b) Weighted Loss"
   ]
  },
  {
   "cell_type": "code",
   "execution_count": 1,
   "metadata": {},
   "outputs": [
    {
     "name": "stdout",
     "output_type": "stream",
     "text": [
      "in starter_4\n",
      "GPU_STATUS: True\n"
     ]
    }
   ],
   "source": [
    "from basic_fcn import *\n",
    "from utils import *\n",
    "import torch.optim as optim\n",
    "import time\n",
    "from torch.utils.data import DataLoader\n",
    "import torch\n",
    "import gc\n",
    "import copy\n",
    "from dataloader_4 import *\n",
    "from starter_4 import *"
   ]
  },
  {
   "cell_type": "code",
   "execution_count": 2,
   "metadata": {},
   "outputs": [],
   "source": [
    "class_weights = 1.0 / torch.FloatTensor([1.7796e-01, 6.1295e-01, 4.1182e-02, 8.9837e-03, 1.0163e-01, 6.8722e-03,\n",
    "        1.4485e-03, 1.5937e-04, 4.7746e-02, 1.0698e-03])\n",
    "class_weights[9] = 0 # ignore unlabeled class\n",
    "# class_weights"
   ]
  },
  {
   "cell_type": "code",
   "execution_count": 3,
   "metadata": {},
   "outputs": [],
   "source": [
    "# def compute_class_weights(dataloader):\n",
    "#     # Labels: batch_size x height x width\n",
    "#     total_num_pixels = 0\n",
    "#     n_class = 10\n",
    "#     class_weights = torch.zeros(n_class)\n",
    "#     for i, (inputs, labels) in enumerate(dataloader):\n",
    "#         total_num_pixels += labels.shape[0] * labels.shape[1] * labels.shape[2]\n",
    "#         for cur_class in range(n_class):\n",
    "#             class_weights[cur_class] += torch.sum(labels == cur_class)\n",
    "#         print(\"SANITY CHECK:\", total_num_pixels, class_weights.sum())\n",
    "#         print(\"class_weights:\", class_weights)\n",
    "        \n",
    "#     return class_weights / total_num_pixels"
   ]
  },
  {
   "cell_type": "code",
   "execution_count": 4,
   "metadata": {},
   "outputs": [],
   "source": [
    "# train_dataset_original_1 = TASDataset('tas500v1.1') \n",
    "# train_loader_1 = DataLoader(dataset=train_dataset_original_1, batch_size= 16, shuffle=False)\n",
    "\n",
    "# class_weights = compute_class_weights(train_loader_1)\n",
    "# print(class_weights)"
   ]
  },
  {
   "cell_type": "code",
   "execution_count": 5,
   "metadata": {},
   "outputs": [
    {
     "name": "stdout",
     "output_type": "stream",
     "text": [
      "creating model...\n",
      "GPU: True\n",
      "Training...\n",
      "in val\n"
     ]
    },
    {
     "name": "stderr",
     "output_type": "stream",
     "text": [
      "/opt/conda/lib/python3.9/site-packages/torchvision/transforms/functional.py:114: UserWarning: The given NumPy array is not writeable, and PyTorch does not support non-writeable tensors. This means you can write to the underlying (supposedly non-writeable) NumPy array using the tensor. You may want to copy the array to protect its data or make it writeable before converting it to a tensor. This type of warning will be suppressed for the rest of this program. (Triggered internally at  /pytorch/torch/csrc/utils/tensor_numpy.cpp:180.)\n",
      "  img = torch.from_numpy(pic.transpose((2, 0, 1))).contiguous()\n"
     ]
    },
    {
     "name": "stdout",
     "output_type": "stream",
     "text": [
      "Loss at epoch: 0 is 3.039128269468035\n",
      "IoU at epoch: 0 is 0.0008389227175551874\n",
      "Pixel acc at epoch: 0 is 0.006198363145813346\n",
      "in train\n"
     ]
    },
    {
     "name": "stderr",
     "output_type": "stream",
     "text": [
      "\r",
      "  0%|          | 0/50 [00:00<?, ?it/s]"
     ]
    },
    {
     "name": "stdout",
     "output_type": "stream",
     "text": [
      "epoch0, iter0, loss: 2.449401617050171\n",
      "epoch0, iter10, loss: 1.9243085384368896\n",
      "epoch0, iter20, loss: 1.7340160608291626\n",
      "epoch0, iter30, loss: 1.8973051309585571\n",
      "epoch0, iter40, loss: 1.735914945602417\n",
      "epoch0, iter50, loss: 1.5601239204406738\n",
      "Finish epoch 0, time elapsed 77.14116549491882\n",
      "in val\n"
     ]
    },
    {
     "name": "stderr",
     "output_type": "stream",
     "text": [
      "\r",
      "  2%|▏         | 1/50 [01:23<1:08:00, 83.28s/it]"
     ]
    },
    {
     "name": "stdout",
     "output_type": "stream",
     "text": [
      "Loss at epoch: 0 is 3.0560307843344554\n",
      "IoU at epoch: 0 is 0.12639890211665347\n",
      "Pixel acc at epoch: 0 is 0.5925720248903547\n",
      "epoch1, iter0, loss: 1.617706060409546\n",
      "epoch1, iter10, loss: 1.2196420431137085\n",
      "epoch1, iter20, loss: 1.3503001928329468\n",
      "epoch1, iter30, loss: 1.4635581970214844\n",
      "epoch1, iter40, loss: 1.0997388362884521\n",
      "epoch1, iter50, loss: 0.9633467793464661\n",
      "Finish epoch 1, time elapsed 71.2395670413971\n",
      "in val\n"
     ]
    },
    {
     "name": "stderr",
     "output_type": "stream",
     "text": [
      "\r",
      "  4%|▍         | 2/50 [02:39<1:03:30, 79.38s/it]"
     ]
    },
    {
     "name": "stdout",
     "output_type": "stream",
     "text": [
      "Loss at epoch: 1 is 1.1501920052937098\n",
      "IoU at epoch: 1 is 0.21074709390328888\n",
      "Pixel acc at epoch: 1 is 0.7212053792817252\n",
      "epoch2, iter0, loss: 1.2467083930969238\n",
      "epoch2, iter10, loss: 1.2386711835861206\n",
      "epoch2, iter20, loss: 1.1501051187515259\n",
      "epoch2, iter30, loss: 1.4471815824508667\n",
      "epoch2, iter40, loss: 0.9818721413612366\n",
      "epoch2, iter50, loss: 1.3897038698196411\n",
      "Finish epoch 2, time elapsed 64.65665054321289\n",
      "in val\n"
     ]
    },
    {
     "name": "stderr",
     "output_type": "stream",
     "text": [
      "\r",
      "  6%|▌         | 3/50 [03:49<58:41, 74.93s/it]  "
     ]
    },
    {
     "name": "stdout",
     "output_type": "stream",
     "text": [
      "Loss at epoch: 2 is 1.2170909132276262\n",
      "IoU at epoch: 2 is 0.18764050255479164\n",
      "Pixel acc at epoch: 2 is 0.6904478711741311\n",
      "epoch3, iter0, loss: 1.183841347694397\n",
      "epoch3, iter10, loss: 1.0313047170639038\n",
      "epoch3, iter20, loss: 0.8879886269569397\n",
      "epoch3, iter30, loss: 1.136121153831482\n",
      "epoch3, iter40, loss: 0.7838551998138428\n",
      "epoch3, iter50, loss: 0.9442058205604553\n",
      "Finish epoch 3, time elapsed 68.22497534751892\n",
      "in val\n"
     ]
    },
    {
     "name": "stderr",
     "output_type": "stream",
     "text": [
      "\r",
      "  8%|▊         | 4/50 [05:02<56:59, 74.34s/it]"
     ]
    },
    {
     "name": "stdout",
     "output_type": "stream",
     "text": [
      "Loss at epoch: 3 is 1.032560842377799\n",
      "IoU at epoch: 3 is 0.2252575219295284\n",
      "Pixel acc at epoch: 3 is 0.7478157452174595\n",
      "epoch4, iter0, loss: 0.9385664463043213\n",
      "epoch4, iter10, loss: 1.5177454948425293\n",
      "epoch4, iter20, loss: 0.7040082812309265\n",
      "epoch4, iter30, loss: 0.8544285893440247\n",
      "epoch4, iter40, loss: 0.9256837368011475\n",
      "epoch4, iter50, loss: 1.0341342687606812\n",
      "Finish epoch 4, time elapsed 66.23075294494629\n",
      "in val\n"
     ]
    },
    {
     "name": "stderr",
     "output_type": "stream",
     "text": [
      "\r",
      " 10%|█         | 5/50 [06:14<55:02, 73.39s/it]"
     ]
    },
    {
     "name": "stdout",
     "output_type": "stream",
     "text": [
      "Loss at epoch: 4 is 0.9016471334866115\n",
      "IoU at epoch: 4 is 0.2509993702754224\n",
      "Pixel acc at epoch: 4 is 0.7524653673171997\n",
      "epoch5, iter0, loss: 1.141067385673523\n",
      "epoch5, iter10, loss: 0.5909228920936584\n",
      "epoch5, iter20, loss: 1.265331745147705\n",
      "epoch5, iter30, loss: 0.8353868126869202\n",
      "epoch5, iter40, loss: 0.6751768589019775\n",
      "epoch5, iter50, loss: 1.0861934423446655\n",
      "Finish epoch 5, time elapsed 66.62717342376709\n",
      "in val\n"
     ]
    },
    {
     "name": "stderr",
     "output_type": "stream",
     "text": [
      "\r",
      " 12%|█▏        | 6/50 [07:26<53:31, 72.99s/it]"
     ]
    },
    {
     "name": "stdout",
     "output_type": "stream",
     "text": [
      "Loss at epoch: 5 is 0.8988515564373561\n",
      "IoU at epoch: 5 is 0.2826759525707237\n",
      "Pixel acc at epoch: 5 is 0.7417828440666199\n",
      "epoch6, iter0, loss: 0.9453623294830322\n",
      "epoch6, iter10, loss: 0.8369112610816956\n",
      "epoch6, iter20, loss: 0.5046642422676086\n",
      "epoch6, iter30, loss: 0.8546770215034485\n",
      "epoch6, iter40, loss: 0.6648706793785095\n",
      "epoch6, iter50, loss: 0.6533527970314026\n",
      "Finish epoch 6, time elapsed 64.42085433006287\n",
      "in val\n"
     ]
    },
    {
     "name": "stderr",
     "output_type": "stream",
     "text": [
      "\r",
      " 14%|█▍        | 7/50 [08:36<51:31, 71.88s/it]"
     ]
    },
    {
     "name": "stdout",
     "output_type": "stream",
     "text": [
      "Loss at epoch: 6 is 0.8027631299836295\n",
      "IoU at epoch: 6 is 0.2999877837953266\n",
      "Pixel acc at epoch: 6 is 0.7687447922570365\n",
      "epoch7, iter0, loss: 0.8282588124275208\n",
      "epoch7, iter10, loss: 0.5873410701751709\n",
      "epoch7, iter20, loss: 0.9855042695999146\n",
      "epoch7, iter30, loss: 0.5211012959480286\n",
      "epoch7, iter40, loss: 0.7439435124397278\n",
      "epoch7, iter50, loss: 0.8795802593231201\n",
      "Finish epoch 7, time elapsed 67.90305924415588\n",
      "in val\n"
     ]
    },
    {
     "name": "stderr",
     "output_type": "stream",
     "text": [
      "\r",
      " 16%|█▌        | 8/50 [09:50<50:42, 72.43s/it]"
     ]
    },
    {
     "name": "stdout",
     "output_type": "stream",
     "text": [
      "Loss at epoch: 7 is 0.6799425312450954\n",
      "IoU at epoch: 7 is 0.3547814857945123\n",
      "Pixel acc at epoch: 7 is 0.800277726990836\n",
      "epoch8, iter0, loss: 0.5015159845352173\n",
      "epoch8, iter10, loss: 0.7355996966362\n",
      "epoch8, iter20, loss: 0.8614333868026733\n",
      "epoch8, iter30, loss: 0.5104532241821289\n",
      "epoch8, iter40, loss: 0.4804013967514038\n",
      "epoch8, iter50, loss: 0.6289156675338745\n",
      "Finish epoch 8, time elapsed 66.96058201789856\n",
      "in val\n"
     ]
    },
    {
     "name": "stderr",
     "output_type": "stream",
     "text": [
      "\r",
      " 18%|█▊        | 9/50 [11:02<49:33, 72.52s/it]"
     ]
    },
    {
     "name": "stdout",
     "output_type": "stream",
     "text": [
      "Loss at epoch: 8 is 0.6362480734075818\n",
      "IoU at epoch: 8 is 0.34062618344753337\n",
      "Pixel acc at epoch: 8 is 0.8141090614455087\n",
      "epoch9, iter0, loss: 0.5002571940422058\n",
      "epoch9, iter10, loss: 0.7587248682975769\n",
      "epoch9, iter20, loss: 0.6364719271659851\n",
      "epoch9, iter30, loss: 0.659366250038147\n",
      "epoch9, iter40, loss: 0.7777352333068848\n",
      "epoch9, iter50, loss: 0.38930633664131165\n",
      "Finish epoch 9, time elapsed 66.13900446891785\n",
      "in val\n"
     ]
    },
    {
     "name": "stderr",
     "output_type": "stream",
     "text": [
      "\r",
      " 20%|██        | 10/50 [12:14<48:11, 72.28s/it]"
     ]
    },
    {
     "name": "stdout",
     "output_type": "stream",
     "text": [
      "Loss at epoch: 9 is 0.5720943510532379\n",
      "IoU at epoch: 9 is 0.35228784581617917\n",
      "Pixel acc at epoch: 9 is 0.8188872337341309\n",
      "epoch10, iter0, loss: 0.5432355403900146\n",
      "epoch10, iter10, loss: 0.4595886468887329\n",
      "epoch10, iter20, loss: 0.6796965003013611\n",
      "epoch10, iter30, loss: 0.4945843517780304\n",
      "epoch10, iter40, loss: 0.4501466155052185\n",
      "epoch10, iter50, loss: 0.43345755338668823\n",
      "Finish epoch 10, time elapsed 66.06824946403503\n",
      "in val\n"
     ]
    },
    {
     "name": "stderr",
     "output_type": "stream",
     "text": [
      "\r",
      " 22%|██▏       | 11/50 [13:25<46:47, 71.99s/it]"
     ]
    },
    {
     "name": "stdout",
     "output_type": "stream",
     "text": [
      "Loss at epoch: 10 is 0.709046334028244\n",
      "IoU at epoch: 10 is 0.3174502834500301\n",
      "Pixel acc at epoch: 10 is 0.7749384215899876\n",
      "epoch11, iter0, loss: 0.8729752898216248\n",
      "epoch11, iter10, loss: 0.6152502298355103\n",
      "epoch11, iter20, loss: 0.46235334873199463\n",
      "epoch11, iter30, loss: 0.45349550247192383\n",
      "epoch11, iter40, loss: 0.800162672996521\n",
      "epoch11, iter50, loss: 0.6606054306030273\n",
      "Finish epoch 11, time elapsed 64.69131135940552\n",
      "in val\n"
     ]
    },
    {
     "name": "stderr",
     "output_type": "stream",
     "text": [
      "\r",
      " 24%|██▍       | 12/50 [14:36<45:14, 71.43s/it]"
     ]
    },
    {
     "name": "stdout",
     "output_type": "stream",
     "text": [
      "Loss at epoch: 11 is 0.5393897891044617\n",
      "IoU at epoch: 11 is 0.3913652936925433\n",
      "Pixel acc at epoch: 11 is 0.8265363659177508\n",
      "epoch12, iter0, loss: 0.5575172901153564\n",
      "epoch12, iter10, loss: 0.4865707755088806\n",
      "epoch12, iter20, loss: 0.6117264628410339\n",
      "epoch12, iter30, loss: 0.536980390548706\n",
      "epoch12, iter40, loss: 0.453692764043808\n",
      "epoch12, iter50, loss: 0.5746344923973083\n",
      "Finish epoch 12, time elapsed 66.66521120071411\n",
      "in val\n"
     ]
    },
    {
     "name": "stderr",
     "output_type": "stream",
     "text": [
      "\r",
      " 26%|██▌       | 13/50 [15:48<44:09, 71.60s/it]"
     ]
    },
    {
     "name": "stdout",
     "output_type": "stream",
     "text": [
      "Loss at epoch: 12 is 0.5443517054830279\n",
      "IoU at epoch: 12 is 0.38566632660609385\n",
      "Pixel acc at epoch: 12 is 0.826129538672311\n",
      "epoch13, iter0, loss: 0.3699127435684204\n",
      "epoch13, iter10, loss: 0.583876371383667\n",
      "epoch13, iter20, loss: 0.626585841178894\n",
      "epoch13, iter30, loss: 0.46401944756507874\n",
      "epoch13, iter40, loss: 0.6487504243850708\n",
      "epoch13, iter50, loss: 0.4164329469203949\n",
      "Finish epoch 13, time elapsed 67.99003481864929\n",
      "in val\n"
     ]
    },
    {
     "name": "stderr",
     "output_type": "stream",
     "text": [
      "\r",
      " 28%|██▊       | 14/50 [17:01<43:17, 72.16s/it]"
     ]
    },
    {
     "name": "stdout",
     "output_type": "stream",
     "text": [
      "Loss at epoch: 13 is 0.46607994181769236\n",
      "IoU at epoch: 13 is 0.4196490141773773\n",
      "Pixel acc at epoch: 13 is 0.8528688549995422\n",
      "epoch14, iter0, loss: 0.29131844639778137\n",
      "epoch14, iter10, loss: 0.5040843486785889\n",
      "epoch14, iter20, loss: 0.44905534386634827\n",
      "epoch14, iter30, loss: 0.3160198926925659\n",
      "epoch14, iter40, loss: 0.46292686462402344\n",
      "epoch14, iter50, loss: 0.5262753367424011\n",
      "Finish epoch 14, time elapsed 66.00103497505188\n",
      "in val\n"
     ]
    },
    {
     "name": "stderr",
     "output_type": "stream",
     "text": [
      "\r",
      " 30%|███       | 15/50 [18:13<42:01, 72.03s/it]"
     ]
    },
    {
     "name": "stdout",
     "output_type": "stream",
     "text": [
      "Loss at epoch: 14 is 0.47415462136268616\n",
      "IoU at epoch: 14 is 0.4225728888291077\n",
      "Pixel acc at epoch: 14 is 0.8522495712552752\n",
      "epoch15, iter0, loss: 0.8063415288925171\n",
      "epoch15, iter10, loss: 0.5265151858329773\n",
      "epoch15, iter20, loss: 0.492637574672699\n",
      "epoch15, iter30, loss: 0.5442245006561279\n",
      "epoch15, iter40, loss: 0.35468557476997375\n",
      "epoch15, iter50, loss: 0.5566746592521667\n",
      "Finish epoch 15, time elapsed 65.37975287437439\n",
      "in val\n"
     ]
    },
    {
     "name": "stderr",
     "output_type": "stream",
     "text": [
      "\r",
      " 32%|███▏      | 16/50 [19:24<40:36, 71.66s/it]"
     ]
    },
    {
     "name": "stdout",
     "output_type": "stream",
     "text": [
      "Loss at epoch: 15 is 0.5695270810808454\n",
      "IoU at epoch: 15 is 0.3934588683930135\n",
      "Pixel acc at epoch: 15 is 0.822689243725368\n",
      "epoch16, iter0, loss: 0.36588817834854126\n",
      "epoch16, iter10, loss: 0.49166998267173767\n",
      "epoch16, iter20, loss: 0.30685698986053467\n",
      "epoch16, iter30, loss: 0.6667324900627136\n",
      "epoch16, iter40, loss: 0.7893258333206177\n",
      "epoch16, iter50, loss: 0.5279877185821533\n",
      "Finish epoch 16, time elapsed 65.18316411972046\n",
      "in val\n"
     ]
    },
    {
     "name": "stderr",
     "output_type": "stream",
     "text": [
      "\r",
      " 34%|███▍      | 17/50 [20:34<39:12, 71.28s/it]"
     ]
    },
    {
     "name": "stdout",
     "output_type": "stream",
     "text": [
      "Loss at epoch: 16 is 0.6426264941692352\n",
      "IoU at epoch: 16 is 0.361209802909769\n",
      "Pixel acc at epoch: 16 is 0.8200815916061401\n",
      "epoch17, iter0, loss: 0.47177308797836304\n",
      "epoch17, iter10, loss: 0.4764541983604431\n",
      "epoch17, iter20, loss: 0.3566044569015503\n",
      "epoch17, iter30, loss: 0.5168604850769043\n",
      "epoch17, iter40, loss: 0.6349539160728455\n",
      "epoch17, iter50, loss: 0.5464729070663452\n",
      "Finish epoch 17, time elapsed 67.17807340621948\n",
      "in val\n"
     ]
    },
    {
     "name": "stderr",
     "output_type": "stream",
     "text": [
      "\r",
      " 36%|███▌      | 18/50 [21:47<38:19, 71.85s/it]"
     ]
    },
    {
     "name": "stdout",
     "output_type": "stream",
     "text": [
      "Loss at epoch: 17 is 0.49825890575136456\n",
      "IoU at epoch: 17 is 0.4259746035194957\n",
      "Pixel acc at epoch: 17 is 0.8458758933203561\n",
      "epoch18, iter0, loss: 0.42307478189468384\n",
      "epoch18, iter10, loss: 0.6611588001251221\n",
      "epoch18, iter20, loss: 0.5287967324256897\n",
      "epoch18, iter30, loss: 0.28400900959968567\n",
      "epoch18, iter40, loss: 0.39651310443878174\n",
      "epoch18, iter50, loss: 0.3381318747997284\n",
      "Finish epoch 18, time elapsed 68.59236526489258\n",
      "in val\n"
     ]
    },
    {
     "name": "stderr",
     "output_type": "stream",
     "text": [
      "\r",
      " 38%|███▊      | 19/50 [23:01<37:26, 72.47s/it]"
     ]
    },
    {
     "name": "stdout",
     "output_type": "stream",
     "text": [
      "Loss at epoch: 18 is 0.4212382435798645\n",
      "IoU at epoch: 18 is 0.4395679214225695\n",
      "Pixel acc at epoch: 18 is 0.8658021518162319\n",
      "epoch19, iter0, loss: 0.3980642259120941\n",
      "epoch19, iter10, loss: 0.3333824872970581\n",
      "epoch19, iter20, loss: 0.3416811525821686\n",
      "epoch19, iter30, loss: 0.5424116849899292\n",
      "epoch19, iter40, loss: 0.5747470259666443\n",
      "epoch19, iter50, loss: 0.5953239798545837\n",
      "Finish epoch 19, time elapsed 67.19901585578918\n",
      "in val\n"
     ]
    },
    {
     "name": "stderr",
     "output_type": "stream",
     "text": [
      "\r",
      " 40%|████      | 20/50 [24:13<36:13, 72.45s/it]"
     ]
    },
    {
     "name": "stdout",
     "output_type": "stream",
     "text": [
      "Loss at epoch: 19 is 0.5120668113231659\n",
      "IoU at epoch: 19 is 0.4378955822217562\n",
      "Pixel acc at epoch: 19 is 0.8369749784469604\n",
      "epoch20, iter0, loss: 0.43428775668144226\n",
      "epoch20, iter10, loss: 0.6689093112945557\n",
      "epoch20, iter20, loss: 0.34963443875312805\n",
      "epoch20, iter30, loss: 0.40255698561668396\n",
      "epoch20, iter40, loss: 0.7181321382522583\n",
      "epoch20, iter50, loss: 0.5096462965011597\n",
      "Finish epoch 20, time elapsed 67.2157781124115\n",
      "in val\n"
     ]
    },
    {
     "name": "stderr",
     "output_type": "stream",
     "text": [
      "\r",
      " 42%|████▏     | 21/50 [25:26<35:05, 72.62s/it]"
     ]
    },
    {
     "name": "stdout",
     "output_type": "stream",
     "text": [
      "Loss at epoch: 20 is 0.419246569275856\n",
      "IoU at epoch: 20 is 0.4266882311042984\n",
      "Pixel acc at epoch: 20 is 0.8707097343036106\n",
      "epoch21, iter0, loss: 0.24671882390975952\n",
      "epoch21, iter10, loss: 0.3707035779953003\n",
      "epoch21, iter20, loss: 0.3769334852695465\n",
      "epoch21, iter30, loss: 0.40228450298309326\n",
      "epoch21, iter40, loss: 0.23308531939983368\n",
      "epoch21, iter50, loss: 0.46206262707710266\n",
      "Finish epoch 21, time elapsed 65.37054514884949\n",
      "in val\n"
     ]
    },
    {
     "name": "stderr",
     "output_type": "stream",
     "text": [
      "\r",
      " 44%|████▍     | 22/50 [26:37<33:37, 72.07s/it]"
     ]
    },
    {
     "name": "stdout",
     "output_type": "stream",
     "text": [
      "Loss at epoch: 21 is 0.40003470863614765\n",
      "IoU at epoch: 21 is 0.47168307997370923\n",
      "Pixel acc at epoch: 21 is 0.8758161408560616\n",
      "epoch22, iter0, loss: 0.47455930709838867\n",
      "epoch22, iter10, loss: 0.4665429890155792\n",
      "epoch22, iter20, loss: 0.582940399646759\n",
      "epoch22, iter30, loss: 0.2709757387638092\n",
      "epoch22, iter40, loss: 0.4471031725406647\n",
      "epoch22, iter50, loss: 0.5723080039024353\n",
      "Finish epoch 22, time elapsed 66.4542543888092\n",
      "in val\n"
     ]
    },
    {
     "name": "stderr",
     "output_type": "stream",
     "text": [
      "\r",
      " 46%|████▌     | 23/50 [27:49<32:22, 71.94s/it]"
     ]
    },
    {
     "name": "stdout",
     "output_type": "stream",
     "text": [
      "Loss at epoch: 22 is 0.41221058794430326\n",
      "IoU at epoch: 22 is 0.4732420605533681\n",
      "Pixel acc at epoch: 22 is 0.8628652436392648\n",
      "epoch23, iter0, loss: 0.3084421753883362\n",
      "epoch23, iter10, loss: 0.5000221729278564\n",
      "epoch23, iter20, loss: 0.410230427980423\n",
      "epoch23, iter30, loss: 0.5251490473747253\n",
      "epoch23, iter40, loss: 0.27923843264579773\n",
      "epoch23, iter50, loss: 0.3729981780052185\n",
      "Finish epoch 23, time elapsed 65.15946364402771\n",
      "in val\n"
     ]
    },
    {
     "name": "stderr",
     "output_type": "stream",
     "text": [
      "\r",
      " 48%|████▊     | 24/50 [28:59<30:59, 71.53s/it]"
     ]
    },
    {
     "name": "stdout",
     "output_type": "stream",
     "text": [
      "Loss at epoch: 23 is 0.42805491600717815\n",
      "IoU at epoch: 23 is 0.4299028466219112\n",
      "Pixel acc at epoch: 23 is 0.8624909520149231\n",
      "epoch24, iter0, loss: 0.4675556719303131\n",
      "epoch24, iter10, loss: 0.24222606420516968\n",
      "epoch24, iter20, loss: 0.46162086725234985\n",
      "epoch24, iter30, loss: 0.35860487818717957\n",
      "epoch24, iter40, loss: 0.556261420249939\n",
      "epoch24, iter50, loss: 0.21048395335674286\n",
      "Finish epoch 24, time elapsed 66.97214388847351\n",
      "in val\n"
     ]
    },
    {
     "name": "stderr",
     "output_type": "stream",
     "text": [
      "\r",
      " 50%|█████     | 25/50 [30:12<29:53, 71.75s/it]"
     ]
    },
    {
     "name": "stdout",
     "output_type": "stream",
     "text": [
      "Loss at epoch: 24 is 0.4274625416312899\n",
      "IoU at epoch: 24 is 0.4455073849558278\n",
      "Pixel acc at epoch: 24 is 0.8719797474997384\n",
      "epoch25, iter0, loss: 0.3658919334411621\n",
      "epoch25, iter10, loss: 0.482974648475647\n",
      "epoch25, iter20, loss: 0.3190174400806427\n",
      "epoch25, iter30, loss: 0.3534614145755768\n",
      "epoch25, iter40, loss: 0.29265540838241577\n",
      "epoch25, iter50, loss: 0.25273454189300537\n",
      "Finish epoch 25, time elapsed 68.92804646492004\n",
      "in val\n"
     ]
    },
    {
     "name": "stderr",
     "output_type": "stream",
     "text": [
      "\r",
      " 52%|█████▏    | 26/50 [31:26<29:02, 72.58s/it]"
     ]
    },
    {
     "name": "stdout",
     "output_type": "stream",
     "text": [
      "Loss at epoch: 25 is 0.3795218531574522\n",
      "IoU at epoch: 25 is 0.48910607600186784\n",
      "Pixel acc at epoch: 25 is 0.8766492690358844\n",
      "epoch26, iter0, loss: 0.34135356545448303\n",
      "epoch26, iter10, loss: 0.25793829560279846\n",
      "epoch26, iter20, loss: 0.34141895174980164\n",
      "epoch26, iter30, loss: 0.35316991806030273\n",
      "epoch26, iter40, loss: 0.481244832277298\n",
      "epoch26, iter50, loss: 0.24147646129131317\n",
      "Finish epoch 26, time elapsed 63.697189807891846\n",
      "in val\n"
     ]
    },
    {
     "name": "stderr",
     "output_type": "stream",
     "text": [
      "\r",
      " 54%|█████▍    | 27/50 [32:35<27:25, 71.56s/it]"
     ]
    },
    {
     "name": "stdout",
     "output_type": "stream",
     "text": [
      "Loss at epoch: 26 is 0.36945883078234537\n",
      "IoU at epoch: 26 is 0.48097729420209145\n",
      "Pixel acc at epoch: 26 is 0.8766523259026664\n",
      "epoch27, iter0, loss: 0.28269851207733154\n",
      "epoch27, iter10, loss: 0.3352509140968323\n",
      "epoch27, iter20, loss: 0.34052038192749023\n",
      "epoch27, iter30, loss: 1.1289982795715332\n",
      "epoch27, iter40, loss: 0.27775654196739197\n",
      "epoch27, iter50, loss: 0.420045405626297\n",
      "Finish epoch 27, time elapsed 64.93745708465576\n",
      "in val\n"
     ]
    },
    {
     "name": "stderr",
     "output_type": "stream",
     "text": [
      "\r",
      " 56%|█████▌    | 28/50 [33:46<26:09, 71.32s/it]"
     ]
    },
    {
     "name": "stdout",
     "output_type": "stream",
     "text": [
      "Loss at epoch: 27 is 0.4414896752153124\n",
      "IoU at epoch: 27 is 0.42363195317519725\n",
      "Pixel acc at epoch: 27 is 0.8503130418913705\n",
      "epoch28, iter0, loss: 0.38435566425323486\n",
      "epoch28, iter10, loss: 0.2513064444065094\n",
      "epoch28, iter20, loss: 0.3537222146987915\n",
      "epoch28, iter30, loss: 0.3893451690673828\n",
      "epoch28, iter40, loss: 0.21758872270584106\n",
      "epoch28, iter50, loss: 0.22637970745563507\n",
      "Finish epoch 28, time elapsed 67.83567523956299\n",
      "in val\n"
     ]
    },
    {
     "name": "stderr",
     "output_type": "stream",
     "text": [
      "\r",
      " 58%|█████▊    | 29/50 [35:00<25:13, 72.09s/it]"
     ]
    },
    {
     "name": "stdout",
     "output_type": "stream",
     "text": [
      "Loss at epoch: 28 is 0.34937563112803866\n",
      "IoU at epoch: 28 is 0.4521761103759571\n",
      "Pixel acc at epoch: 28 is 0.8865094610622951\n",
      "epoch29, iter0, loss: 0.28171560168266296\n",
      "epoch29, iter10, loss: 0.3305000960826874\n",
      "epoch29, iter20, loss: 0.2585870623588562\n",
      "epoch29, iter30, loss: 0.31285804510116577\n",
      "epoch29, iter40, loss: 0.3016666769981384\n",
      "epoch29, iter50, loss: 0.3413940370082855\n",
      "Finish epoch 29, time elapsed 65.77218008041382\n",
      "in val\n"
     ]
    },
    {
     "name": "stderr",
     "output_type": "stream",
     "text": [
      "\r",
      " 60%|██████    | 30/50 [36:11<23:55, 71.79s/it]"
     ]
    },
    {
     "name": "stdout",
     "output_type": "stream",
     "text": [
      "Loss at epoch: 29 is 0.32404753778662\n",
      "IoU at epoch: 29 is 0.48212328158983103\n",
      "Pixel acc at epoch: 29 is 0.8930438501494271\n",
      "epoch30, iter0, loss: 0.5260419845581055\n",
      "epoch30, iter10, loss: 0.31121203303337097\n",
      "epoch30, iter20, loss: 0.2877342104911804\n",
      "epoch30, iter30, loss: 0.5214595794677734\n",
      "epoch30, iter40, loss: 0.362662672996521\n",
      "epoch30, iter50, loss: 0.3510757088661194\n",
      "Finish epoch 30, time elapsed 67.12809252738953\n",
      "in val\n"
     ]
    },
    {
     "name": "stderr",
     "output_type": "stream",
     "text": [
      "\r",
      " 62%|██████▏   | 31/50 [37:24<22:48, 72.01s/it]"
     ]
    },
    {
     "name": "stdout",
     "output_type": "stream",
     "text": [
      "Loss at epoch: 30 is 0.35468511496271404\n",
      "IoU at epoch: 30 is 0.4770633904391573\n",
      "Pixel acc at epoch: 30 is 0.8862147671835763\n",
      "epoch31, iter0, loss: 0.36832141876220703\n",
      "epoch31, iter10, loss: 0.4299638569355011\n",
      "epoch31, iter20, loss: 0.41364753246307373\n",
      "epoch31, iter30, loss: 0.47763708233833313\n",
      "epoch31, iter40, loss: 0.3457956314086914\n",
      "epoch31, iter50, loss: 0.22438457608222961\n",
      "Finish epoch 31, time elapsed 70.02511286735535\n",
      "in val\n"
     ]
    },
    {
     "name": "stderr",
     "output_type": "stream",
     "text": [
      "\r",
      " 64%|██████▍   | 32/50 [38:39<21:53, 72.98s/it]"
     ]
    },
    {
     "name": "stdout",
     "output_type": "stream",
     "text": [
      "Loss at epoch: 31 is 0.37248635079179493\n",
      "IoU at epoch: 31 is 0.4499941449227793\n",
      "Pixel acc at epoch: 31 is 0.8784096411296299\n",
      "epoch32, iter0, loss: 0.30944162607192993\n",
      "epoch32, iter10, loss: 0.202019602060318\n",
      "epoch32, iter20, loss: 0.3304417133331299\n",
      "epoch32, iter30, loss: 0.19048582017421722\n",
      "epoch32, iter40, loss: 0.2912534177303314\n",
      "epoch32, iter50, loss: 0.19407272338867188\n",
      "Finish epoch 32, time elapsed 65.37045454978943\n",
      "in val\n"
     ]
    },
    {
     "name": "stderr",
     "output_type": "stream",
     "text": [
      "\r",
      " 66%|██████▌   | 33/50 [39:49<20:27, 72.20s/it]"
     ]
    },
    {
     "name": "stdout",
     "output_type": "stream",
     "text": [
      "Loss at epoch: 32 is 0.37590725081307547\n",
      "IoU at epoch: 32 is 0.4612061726673144\n",
      "Pixel acc at epoch: 32 is 0.8620140211922782\n",
      "epoch33, iter0, loss: 0.3243732154369354\n",
      "epoch33, iter10, loss: 0.3103886842727661\n",
      "epoch33, iter20, loss: 0.36252227425575256\n",
      "epoch33, iter30, loss: 0.27724969387054443\n",
      "epoch33, iter40, loss: 0.43111029267311096\n",
      "epoch33, iter50, loss: 0.36113616824150085\n",
      "Finish epoch 33, time elapsed 66.13271427154541\n",
      "in val\n"
     ]
    },
    {
     "name": "stderr",
     "output_type": "stream",
     "text": [
      "\r",
      " 68%|██████▊   | 34/50 [41:01<19:13, 72.09s/it]"
     ]
    },
    {
     "name": "stdout",
     "output_type": "stream",
     "text": [
      "Loss at epoch: 33 is 0.3094303160905838\n",
      "IoU at epoch: 33 is 0.5111187508789998\n",
      "Pixel acc at epoch: 33 is 0.8935808454241071\n",
      "epoch34, iter0, loss: 0.2683838903903961\n",
      "epoch34, iter10, loss: 0.3000510036945343\n",
      "epoch34, iter20, loss: 0.5283051133155823\n",
      "epoch34, iter30, loss: 0.4185527265071869\n",
      "epoch34, iter40, loss: 0.3858948051929474\n",
      "epoch34, iter50, loss: 0.2780519127845764\n",
      "Finish epoch 34, time elapsed 65.89828658103943\n",
      "in val\n"
     ]
    },
    {
     "name": "stderr",
     "output_type": "stream",
     "text": [
      "\r",
      " 70%|███████   | 35/50 [42:12<17:57, 71.80s/it]"
     ]
    },
    {
     "name": "stdout",
     "output_type": "stream",
     "text": [
      "Loss at epoch: 34 is 0.3245542347431183\n",
      "IoU at epoch: 34 is 0.5233302196259969\n",
      "Pixel acc at epoch: 34 is 0.895176615033831\n",
      "epoch35, iter0, loss: 0.5227791666984558\n",
      "epoch35, iter10, loss: 0.21113567054271698\n",
      "epoch35, iter20, loss: 0.3194493353366852\n",
      "epoch35, iter30, loss: 0.3483302593231201\n",
      "epoch35, iter40, loss: 0.31870371103286743\n",
      "epoch35, iter50, loss: 0.4346185028553009\n",
      "Finish epoch 35, time elapsed 67.96929574012756\n",
      "in val\n"
     ]
    },
    {
     "name": "stderr",
     "output_type": "stream",
     "text": [
      "\r",
      " 72%|███████▏  | 36/50 [43:26<16:51, 72.27s/it]"
     ]
    },
    {
     "name": "stdout",
     "output_type": "stream",
     "text": [
      "Loss at epoch: 35 is 0.3766801506280899\n",
      "IoU at epoch: 35 is 0.49558150652128685\n",
      "Pixel acc at epoch: 35 is 0.8796077455793109\n",
      "epoch36, iter0, loss: 0.2362760454416275\n",
      "epoch36, iter10, loss: 0.40132254362106323\n",
      "epoch36, iter20, loss: 0.2738392651081085\n",
      "epoch36, iter30, loss: 0.203511044383049\n",
      "epoch36, iter40, loss: 0.37134382128715515\n",
      "epoch36, iter50, loss: 0.33865833282470703\n",
      "Finish epoch 36, time elapsed 67.0193932056427\n",
      "in val\n"
     ]
    },
    {
     "name": "stderr",
     "output_type": "stream",
     "text": [
      "\r",
      " 74%|███████▍  | 37/50 [44:38<15:41, 72.39s/it]"
     ]
    },
    {
     "name": "stdout",
     "output_type": "stream",
     "text": [
      "Loss at epoch: 36 is 0.401984446815082\n",
      "IoU at epoch: 36 is 0.46283390172128935\n",
      "Pixel acc at epoch: 36 is 0.8771728447505406\n",
      "epoch37, iter0, loss: 0.3602086901664734\n",
      "epoch37, iter10, loss: 0.48390069603919983\n",
      "epoch37, iter20, loss: 0.23917900025844574\n",
      "epoch37, iter30, loss: 0.19487839937210083\n",
      "epoch37, iter40, loss: 0.15533766150474548\n",
      "epoch37, iter50, loss: 0.22263434529304504\n",
      "Finish epoch 37, time elapsed 67.03375720977783\n",
      "in val\n"
     ]
    },
    {
     "name": "stderr",
     "output_type": "stream",
     "text": [
      "\r",
      " 76%|███████▌  | 38/50 [45:51<14:28, 72.38s/it]"
     ]
    },
    {
     "name": "stdout",
     "output_type": "stream",
     "text": [
      "Loss at epoch: 37 is 0.3162325918674469\n",
      "IoU at epoch: 37 is 0.530733563174022\n",
      "Pixel acc at epoch: 37 is 0.8977049929755074\n",
      "epoch38, iter0, loss: 0.23580853641033173\n",
      "epoch38, iter10, loss: 0.18008364737033844\n",
      "epoch38, iter20, loss: 0.4232664704322815\n",
      "epoch38, iter30, loss: 0.21896488964557648\n",
      "epoch38, iter40, loss: 0.3180190324783325\n",
      "epoch38, iter50, loss: 0.3407772183418274\n",
      "Finish epoch 38, time elapsed 64.79215145111084\n",
      "in val\n"
     ]
    },
    {
     "name": "stderr",
     "output_type": "stream",
     "text": [
      "\r",
      " 78%|███████▊  | 39/50 [47:01<13:09, 71.76s/it]"
     ]
    },
    {
     "name": "stdout",
     "output_type": "stream",
     "text": [
      "Loss at epoch: 38 is 0.34492817733969006\n",
      "IoU at epoch: 38 is 0.5126567097603771\n",
      "Pixel acc at epoch: 38 is 0.8821794220379421\n",
      "epoch39, iter0, loss: 0.3235306441783905\n",
      "epoch39, iter10, loss: 0.41322118043899536\n",
      "epoch39, iter20, loss: 0.27555885910987854\n",
      "epoch39, iter30, loss: 0.4350975751876831\n",
      "epoch39, iter40, loss: 0.2588261365890503\n",
      "epoch39, iter50, loss: 0.2438129037618637\n",
      "Finish epoch 39, time elapsed 63.261817932128906\n",
      "in val\n"
     ]
    },
    {
     "name": "stderr",
     "output_type": "stream",
     "text": [
      "\r",
      " 80%|████████  | 40/50 [48:09<11:47, 70.72s/it]"
     ]
    },
    {
     "name": "stdout",
     "output_type": "stream",
     "text": [
      "Loss at epoch: 39 is 0.28529357058661325\n",
      "IoU at epoch: 39 is 0.5434455150934232\n",
      "Pixel acc at epoch: 39 is 0.9068895578384399\n",
      "epoch40, iter0, loss: 0.28271210193634033\n",
      "epoch40, iter10, loss: 0.2587190568447113\n",
      "epoch40, iter20, loss: 0.5583587288856506\n",
      "epoch40, iter30, loss: 0.221075639128685\n",
      "epoch40, iter40, loss: 0.27426066994667053\n",
      "epoch40, iter50, loss: 0.3991719186306\n",
      "Finish epoch 40, time elapsed 66.79074025154114\n",
      "in val\n"
     ]
    },
    {
     "name": "stderr",
     "output_type": "stream",
     "text": [
      "\r",
      " 82%|████████▏ | 41/50 [49:21<10:39, 71.08s/it]"
     ]
    },
    {
     "name": "stdout",
     "output_type": "stream",
     "text": [
      "Loss at epoch: 40 is 0.3102978638240269\n",
      "IoU at epoch: 40 is 0.5347112797664725\n",
      "Pixel acc at epoch: 40 is 0.9009905798094613\n",
      "epoch41, iter0, loss: 0.45007753372192383\n",
      "epoch41, iter10, loss: 0.25143277645111084\n",
      "epoch41, iter20, loss: 0.1705237478017807\n",
      "epoch41, iter30, loss: 0.304732084274292\n",
      "epoch41, iter40, loss: 0.3569733500480652\n",
      "epoch41, iter50, loss: 0.2178935408592224\n",
      "Finish epoch 41, time elapsed 69.87266087532043\n",
      "in val\n"
     ]
    },
    {
     "name": "stderr",
     "output_type": "stream",
     "text": [
      "\r",
      " 84%|████████▍ | 42/50 [50:36<09:38, 72.30s/it]"
     ]
    },
    {
     "name": "stdout",
     "output_type": "stream",
     "text": [
      "Loss at epoch: 41 is 0.32421633175441195\n",
      "IoU at epoch: 41 is 0.5350104324174926\n",
      "Pixel acc at epoch: 41 is 0.8960644858224052\n",
      "epoch42, iter0, loss: 0.23818625509738922\n",
      "epoch42, iter10, loss: 0.22989977896213531\n",
      "epoch42, iter20, loss: 0.4035715162754059\n",
      "epoch42, iter30, loss: 0.3832620084285736\n",
      "epoch42, iter40, loss: 0.2220468670129776\n",
      "epoch42, iter50, loss: 0.2873688340187073\n",
      "Finish epoch 42, time elapsed 64.51991844177246\n",
      "in val\n"
     ]
    },
    {
     "name": "stderr",
     "output_type": "stream",
     "text": [
      "\r",
      " 86%|████████▌ | 43/50 [51:46<08:20, 71.53s/it]"
     ]
    },
    {
     "name": "stdout",
     "output_type": "stream",
     "text": [
      "Loss at epoch: 42 is 0.2887717123542513\n",
      "IoU at epoch: 42 is 0.49479382720938514\n",
      "Pixel acc at epoch: 42 is 0.9055669903755188\n",
      "epoch43, iter0, loss: 0.32056725025177\n",
      "epoch43, iter10, loss: 0.308689147233963\n",
      "epoch43, iter20, loss: 0.296505331993103\n",
      "epoch43, iter30, loss: 0.32867494225502014\n",
      "epoch43, iter40, loss: 0.3745800256729126\n",
      "epoch43, iter50, loss: 0.19233404099941254\n",
      "Finish epoch 43, time elapsed 70.52684926986694\n",
      "in val\n"
     ]
    },
    {
     "name": "stderr",
     "output_type": "stream",
     "text": [
      "\r",
      " 88%|████████▊ | 44/50 [53:02<07:16, 72.81s/it]"
     ]
    },
    {
     "name": "stdout",
     "output_type": "stream",
     "text": [
      "Loss at epoch: 43 is 0.2815612852573395\n",
      "IoU at epoch: 43 is 0.48821989115556724\n",
      "Pixel acc at epoch: 43 is 0.9047425474439349\n",
      "epoch44, iter0, loss: 0.2727490961551666\n",
      "epoch44, iter10, loss: 0.23116829991340637\n",
      "epoch44, iter20, loss: 0.6854932308197021\n",
      "epoch44, iter30, loss: 0.3608815371990204\n",
      "epoch44, iter40, loss: 0.25379183888435364\n",
      "epoch44, iter50, loss: 0.5045034289360046\n",
      "Finish epoch 44, time elapsed 70.98247146606445\n",
      "in val\n"
     ]
    },
    {
     "name": "stderr",
     "output_type": "stream",
     "text": [
      "\r",
      " 90%|█████████ | 45/50 [54:19<06:10, 74.06s/it]"
     ]
    },
    {
     "name": "stdout",
     "output_type": "stream",
     "text": [
      "Loss at epoch: 44 is 0.29944796008723124\n",
      "IoU at epoch: 44 is 0.5538325773160313\n",
      "Pixel acc at epoch: 44 is 0.905635688986097\n",
      "epoch45, iter0, loss: 0.333773136138916\n",
      "epoch45, iter10, loss: 0.1837363988161087\n",
      "epoch45, iter20, loss: 0.32540300488471985\n",
      "epoch45, iter30, loss: 0.26054081320762634\n",
      "epoch45, iter40, loss: 0.29702818393707275\n",
      "epoch45, iter50, loss: 0.2670213282108307\n",
      "Finish epoch 45, time elapsed 75.6471962928772\n",
      "in val\n"
     ]
    },
    {
     "name": "stderr",
     "output_type": "stream",
     "text": [
      "\r",
      " 92%|█████████▏| 46/50 [55:40<05:05, 76.27s/it]"
     ]
    },
    {
     "name": "stdout",
     "output_type": "stream",
     "text": [
      "Loss at epoch: 45 is 0.28380626865795683\n",
      "IoU at epoch: 45 is 0.5578712870240755\n",
      "Pixel acc at epoch: 45 is 0.9070930566106524\n",
      "epoch46, iter0, loss: 0.186240091919899\n",
      "epoch46, iter10, loss: 0.2497706115245819\n",
      "epoch46, iter20, loss: 0.2626764178276062\n",
      "epoch46, iter30, loss: 0.12268491834402084\n",
      "epoch46, iter40, loss: 0.4936996102333069\n",
      "epoch46, iter50, loss: 0.19879819452762604\n",
      "Finish epoch 46, time elapsed 73.15909457206726\n",
      "in val\n"
     ]
    },
    {
     "name": "stderr",
     "output_type": "stream",
     "text": [
      "\r",
      " 94%|█████████▍| 47/50 [56:59<03:51, 77.04s/it]"
     ]
    },
    {
     "name": "stdout",
     "output_type": "stream",
     "text": [
      "Loss at epoch: 46 is 0.32395760289260317\n",
      "IoU at epoch: 46 is 0.5091338773379989\n",
      "Pixel acc at epoch: 46 is 0.8902114374297005\n",
      "epoch47, iter0, loss: 0.2218017429113388\n",
      "epoch47, iter10, loss: 0.4299938976764679\n",
      "epoch47, iter20, loss: 0.549650251865387\n",
      "epoch47, iter30, loss: 0.7863978743553162\n",
      "epoch47, iter40, loss: 0.2305961698293686\n",
      "epoch47, iter50, loss: 0.2996503710746765\n",
      "Finish epoch 47, time elapsed 74.63509583473206\n",
      "in val\n"
     ]
    },
    {
     "name": "stderr",
     "output_type": "stream",
     "text": [
      "\r",
      " 96%|█████████▌| 48/50 [58:20<02:36, 78.11s/it]"
     ]
    },
    {
     "name": "stdout",
     "output_type": "stream",
     "text": [
      "Loss at epoch: 47 is 0.4340419088091169\n",
      "IoU at epoch: 47 is 0.4679625220570805\n",
      "Pixel acc at epoch: 47 is 0.8628650307655334\n",
      "epoch48, iter0, loss: 0.3786914050579071\n",
      "epoch48, iter10, loss: 0.35402947664260864\n",
      "epoch48, iter20, loss: 0.3285258114337921\n",
      "epoch48, iter30, loss: 0.24412409961223602\n",
      "epoch48, iter40, loss: 0.32282939553260803\n",
      "epoch48, iter50, loss: 0.40514782071113586\n",
      "Finish epoch 48, time elapsed 73.11738061904907\n",
      "in val\n"
     ]
    },
    {
     "name": "stderr",
     "output_type": "stream",
     "text": [
      "\r",
      " 98%|█████████▊| 49/50 [59:38<01:18, 78.31s/it]"
     ]
    },
    {
     "name": "stdout",
     "output_type": "stream",
     "text": [
      "Loss at epoch: 48 is 0.2895305092845644\n",
      "IoU at epoch: 48 is 0.5356612562706384\n",
      "Pixel acc at epoch: 48 is 0.9019201568194798\n",
      "epoch49, iter0, loss: 0.37005215883255005\n",
      "epoch49, iter10, loss: 0.3846791088581085\n",
      "epoch49, iter20, loss: 0.39416229724884033\n",
      "epoch49, iter30, loss: 0.22745826840400696\n",
      "epoch49, iter40, loss: 0.2835825979709625\n",
      "epoch49, iter50, loss: 0.1837807297706604\n",
      "Finish epoch 49, time elapsed 78.49410438537598\n",
      "in val\n"
     ]
    },
    {
     "name": "stderr",
     "output_type": "stream",
     "text": [
      "100%|██████████| 50/50 [1:01:03<00:00, 73.28s/it]"
     ]
    },
    {
     "name": "stdout",
     "output_type": "stream",
     "text": [
      "Loss at epoch: 49 is 0.3121795505285263\n",
      "IoU at epoch: 49 is 0.5447578835157232\n",
      "Pixel acc at epoch: 49 is 0.902599172932761\n"
     ]
    },
    {
     "name": "stderr",
     "output_type": "stream",
     "text": [
      "\n"
     ]
    }
   ],
   "source": [
    "#hyper param\n",
    "epochs = 50   \n",
    "lr = 0.0004\n",
    "criterion = nn.CrossEntropyLoss(weight=class_weights, reduction=\"mean\")# Choose an appropriate loss function from https://pytorch.org/docs/stable/_modules/torch/nn/modules/loss.html\n",
    "n_class = 10\n",
    "\n",
    "print(\"creating model...\")\n",
    "fcn_model = FCN(n_class=n_class)\n",
    "fcn_model.apply(init_weights)\n",
    "\n",
    "# gpu\n",
    "gpu_status = torch.cuda.is_available()\n",
    "print(\"GPU:\", gpu_status)\n",
    "\n",
    "if gpu_status : \n",
    "    device = torch.device('cuda') # determine which device to use (gpu or cpu)\n",
    "else : \n",
    "    device = torch.device('cpu')\n",
    "\n",
    "fcn_model.to(device)\n",
    "    \n",
    "print(\"Training...\")\n",
    "val(fcn_model, 0)  # show the accuracy before training\n",
    "model_name=\"latest_model_4b_50e_no9\"\n",
    "train_loss_record, valid_loss_record = train(fcn_model, epochs,lr, save_fp=model_name) "
   ]
  },
  {
   "cell_type": "code",
   "execution_count": 6,
   "metadata": {},
   "outputs": [
    {
     "name": "stdout",
     "output_type": "stream",
     "text": [
      "<class 'basic_fcn.FCN'>\n",
      "in test\n",
      "Loss :is 0.2541762835213116\n",
      "IoU is 0.5531417219037534\n",
      "Pixel is 0.9191985726356506\n"
     ]
    },
    {
     "data": {
      "text/plain": [
       "0"
      ]
     },
     "execution_count": 6,
     "metadata": {},
     "output_type": "execute_result"
    }
   ],
   "source": [
    "latest_fcn_model = torch.load(model_name)\n",
    "print(type(latest_fcn_model))\n",
    "latest_fcn_model.to(device)\n",
    "test(latest_fcn_model)"
   ]
  },
  {
   "cell_type": "code",
   "execution_count": 7,
   "metadata": {},
   "outputs": [
    {
     "data": {
      "image/png": "[encoded data removed]",
      "text/plain": [
       "<Figure size 432x288 with 1 Axes>"
      ]
     },
     "metadata": {
      "needs_background": "light"
     },
     "output_type": "display_data"
    }
   ],
   "source": [
    "# Plot\n",
    "plt.plot(np.arange(epochs), train_loss_record, label= \"Training Loss\")\n",
    "plt.plot(np.arange(epochs), valid_loss_record, label=\"Validation Loss\")\n",
    "plt.xlabel(\"Epoches\")\n",
    "plt.ylabel(\"Loss\")\n",
    "plt.legend()\n",
    "plt.title(\"4(b) Weighted loss with data augmentation\")\n",
    "plt.savefig(\"plots/Q4_b_50e_no9\")\n",
    "plt.show()"
   ]
  },
  {
   "cell_type": "code",
   "execution_count": 8,
   "metadata": {},
   "outputs": [
    {
     "data": {
      "image/png": "[encoded data removed]",
      "text/plain": [
       "<Figure size 432x288 with 1 Axes>"
      ]
     },
     "metadata": {
      "needs_background": "light"
     },
     "output_type": "display_data"
    },
    {
     "data": {
      "image/png": "[encoded data removed]",
      "text/plain": [
       "<Figure size 432x288 with 1 Axes>"
      ]
     },
     "metadata": {
      "needs_background": "light"
     },
     "output_type": "display_data"
    },
    {
     "data": {
      "text/plain": [
       "0"
      ]
     },
     "execution_count": 8,
     "metadata": {},
     "output_type": "execute_result"
    }
   ],
   "source": [
    "test_dataset = TASDataset('tas500v1.1', eval_mode=True, mode='test')\n",
    "test_loader = DataLoader(dataset=test_dataset, batch_size= batch_size, shuffle=False)\n",
    "visualize(model_name, test_loader, device)"
   ]
  },
  {
   "cell_type": "code",
   "execution_count": null,
   "metadata": {},
   "outputs": [],
   "source": []
  }
 ],
 "metadata": {
  "interpreter": {
   "hash": "005f4ed24810181fa8b2266ec303702d6575bedfaa41c7848d327e7f780b3129"
  },
  "kernelspec": {
   "display_name": "Python 3 (ipykernel)",
   "language": "python",
   "name": "python3"
  },
  "language_info": {
   "codemirror_mode": {
    "name": "ipython",
    "version": 3
   },
   "file_extension": ".py",
   "mimetype": "text/x-python",
   "name": "python",
   "nbconvert_exporter": "python",
   "pygments_lexer": "ipython3",
   "version": "3.9.5"
  }
 },
 "nbformat": 4,
 "nbformat_minor": 2
}
