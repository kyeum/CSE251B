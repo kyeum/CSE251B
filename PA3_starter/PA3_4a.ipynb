{
 "cells": [
  {
   "cell_type": "markdown",
   "metadata": {},
   "source": [
    "## Classification (PA3.4)"
   ]
  },
  {
   "cell_type": "code",
   "execution_count": 1,
   "metadata": {},
   "outputs": [],
   "source": [
    "## Data generation"
   ]
  },
  {
   "cell_type": "code",
   "execution_count": null,
   "metadata": {
    "scrolled": false
   },
   "outputs": [
    {
     "name": "stdout",
     "output_type": "stream",
     "text": [
      "in starter_4\n",
      "GPU_STATUS: True\n",
      "creating model...\n",
      "GPU: True\n",
      "Training...\n",
      "in val\n"
     ]
    },
    {
     "name": "stderr",
     "output_type": "stream",
     "text": [
      "/opt/conda/lib/python3.9/site-packages/torchvision/transforms/functional.py:114: UserWarning: The given NumPy array is not writeable, and PyTorch does not support non-writeable tensors. This means you can write to the underlying (supposedly non-writeable) NumPy array using the tensor. You may want to copy the array to protect its data or make it writeable before converting it to a tensor. This type of warning will be suppressed for the rest of this program. (Triggered internally at  /pytorch/torch/csrc/utils/tensor_numpy.cpp:180.)\n",
      "  img = torch.from_numpy(pic.transpose((2, 0, 1))).contiguous()\n"
     ]
    },
    {
     "name": "stdout",
     "output_type": "stream",
     "text": [
      "Loss at epoch: 0 is 2.870547430855887\n",
      "IoU at epoch: 0 is 0.007432223337252631\n",
      "Pixel acc at epoch: 0 is 0.056416015539850504\n",
      "in train\n",
      "epoch0, iter0, loss: 3.3122634887695312\n",
      "epoch0, iter10, loss: 2.628126859664917\n",
      "epoch0, iter20, loss: 2.3879804611206055\n",
      "epoch0, iter30, loss: 2.191875696182251\n",
      "epoch0, iter40, loss: 1.7061996459960938\n",
      "epoch0, iter50, loss: 1.653233528137207\n",
      "Finish epoch 0, time elapsed 73.01053929328918\n",
      "in val\n",
      "Loss at epoch: 0 is 1.5897355249949865\n",
      "IoU at epoch: 0 is 0.1570846277267958\n",
      "Pixel acc at epoch: 0 is 0.6993386660303388\n",
      "epoch1, iter0, loss: 1.7544958591461182\n",
      "epoch1, iter10, loss: 1.3181185722351074\n",
      "epoch1, iter20, loss: 1.23395574092865\n",
      "epoch1, iter30, loss: 1.6364248991012573\n",
      "epoch1, iter40, loss: 1.227688193321228\n",
      "epoch1, iter50, loss: 1.307323694229126\n",
      "Finish epoch 1, time elapsed 72.84658813476562\n",
      "in val\n",
      "Loss at epoch: 1 is 1.2178969638688224\n",
      "IoU at epoch: 1 is 0.21170500758019026\n",
      "Pixel acc at epoch: 1 is 0.767808164869036\n",
      "epoch2, iter0, loss: 1.2497563362121582\n",
      "epoch2, iter10, loss: 1.2667499780654907\n",
      "epoch2, iter20, loss: 1.126574993133545\n",
      "epoch2, iter30, loss: 1.1297619342803955\n",
      "epoch2, iter40, loss: 0.9220688939094543\n",
      "epoch2, iter50, loss: 0.785290002822876\n",
      "Finish epoch 2, time elapsed 73.59698700904846\n",
      "in val\n",
      "Loss at epoch: 2 is 1.100718080997467\n",
      "IoU at epoch: 2 is 0.24969619009725788\n",
      "Pixel acc at epoch: 2 is 0.7886094876698085\n",
      "epoch3, iter0, loss: 1.0768743753433228\n",
      "epoch3, iter10, loss: 1.056643009185791\n",
      "epoch3, iter20, loss: 1.1191550493240356\n",
      "epoch3, iter30, loss: 0.9271345138549805\n",
      "epoch3, iter40, loss: 0.8473014831542969\n",
      "epoch3, iter50, loss: 1.0731265544891357\n"
     ]
    }
   ],
   "source": [
    "from basic_fcn import *\n",
    "from utils import *\n",
    "import torch.optim as optim\n",
    "import time\n",
    "from torch.utils.data import DataLoader\n",
    "import torch\n",
    "import gc\n",
    "import copy\n",
    "from dataloader_4 import *\n",
    "from starter_4 import *\n",
    "\n",
    "\n",
    "#hyper param\n",
    "epochs = 30   \n",
    "lr = 0.0004\n",
    "criterion = nn.CrossEntropyLoss()# Choose an appropriate loss function from https://pytorch.org/docs/stable/_modules/torch/nn/modules/loss.html\n",
    "n_class = 10\n",
    "\n",
    "print(\"creating model...\")\n",
    "fcn_model = FCN(n_class=n_class)\n",
    "fcn_model.apply(init_weights)\n",
    "\n",
    "# gpu\n",
    "gpu_status = torch.cuda.is_available()\n",
    "print(\"GPU:\", gpu_status)\n",
    "\n",
    "if gpu_status : \n",
    "    device = torch.device('cuda') # determine which device to use (gpu or cpu)\n",
    "else : \n",
    "    device = torch.device('cpu')\n",
    "\n",
    "fcn_model.to(device)\n",
    "    \n",
    "print(\"Training...\")\n",
    "val(fcn_model, 0)  # show the accuracy before training\n",
    "model_name=\"latest_model_4a\"\n",
    "train_loss_record, valid_loss_record = train(fcn_model, epochs,lr, save_fp=model_name) "
   ]
  },
  {
   "cell_type": "code",
   "execution_count": null,
   "metadata": {},
   "outputs": [],
   "source": [
    "latest_fcn_model = torch.load(model_name)\n",
    "latest_fcn_model.to(device)\n",
    "test(latest_fcn_model)"
   ]
  },
  {
   "cell_type": "code",
   "execution_count": null,
   "metadata": {},
   "outputs": [],
   "source": [
    "# # Continue training\n",
    "# model_name = \"latest_model_4a_50e\"\n",
    "# # Train for 10 more epochs\n",
    "# train_loss_record, valid_loss_record = train(fcn_model, 20,lr, save_fp=model_name)\n"
   ]
  },
  {
   "cell_type": "code",
   "execution_count": null,
   "metadata": {},
   "outputs": [],
   "source": [
    "# latest_fcn_model = torch.load(model_name)\n",
    "# latest_fcn_model.to(device)\n",
    "# test(latest_fcn_model)"
   ]
  },
  {
   "cell_type": "code",
   "execution_count": null,
   "metadata": {},
   "outputs": [],
   "source": []
  }
 ],
 "metadata": {
  "interpreter": {
   "hash": "005f4ed24810181fa8b2266ec303702d6575bedfaa41c7848d327e7f780b3129"
  },
  "kernelspec": {
   "display_name": "Python 3 (ipykernel)",
   "language": "python",
   "name": "python3"
  },
  "language_info": {
   "codemirror_mode": {
    "name": "ipython",
    "version": 3
   },
   "file_extension": ".py",
   "mimetype": "text/x-python",
   "name": "python",
   "nbconvert_exporter": "python",
   "pygments_lexer": "ipython3",
   "version": "3.9.5"
  }
 },
 "nbformat": 4,
 "nbformat_minor": 2
}
