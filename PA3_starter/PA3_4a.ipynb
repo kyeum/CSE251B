{
 "cells": [
  {
   "cell_type": "markdown",
   "metadata": {},
   "source": [
    "## Classification (PA3.4)"
   ]
  },
  {
   "cell_type": "code",
   "execution_count": 1,
   "metadata": {},
   "outputs": [],
   "source": [
    "## Data generation"
   ]
  },
  {
   "cell_type": "code",
   "execution_count": 2,
   "metadata": {},
   "outputs": [
    {
     "name": "stdout",
     "output_type": "stream",
     "text": [
      "in starter_4\n",
      "GPU_STATUS: True\n",
      "creating model...\n",
      "GPU: True\n",
      "Training...\n",
      "in val\n"
     ]
    },
    {
     "name": "stderr",
     "output_type": "stream",
     "text": [
      "/opt/conda/lib/python3.9/site-packages/torchvision/transforms/functional.py:114: UserWarning: The given NumPy array is not writeable, and PyTorch does not support non-writeable tensors. This means you can write to the underlying (supposedly non-writeable) NumPy array using the tensor. You may want to copy the array to protect its data or make it writeable before converting it to a tensor. This type of warning will be suppressed for the rest of this program. (Triggered internally at  /pytorch/torch/csrc/utils/tensor_numpy.cpp:180.)\n",
      "  img = torch.from_numpy(pic.transpose((2, 0, 1))).contiguous()\n"
     ]
    },
    {
     "name": "stdout",
     "output_type": "stream",
     "text": [
      "Loss at epoch: 0 is 3.036856038229806\n",
      "IoU at epoch: 0 is 0.0170023082084996\n",
      "Pixel acc at epoch: 0 is 0.07182503385203225\n",
      "in train\n",
      "epoch0, iter0, loss: 2.6875245571136475\n",
      "epoch0, iter10, loss: 2.3713018894195557\n",
      "epoch0, iter20, loss: 2.0342416763305664\n",
      "epoch0, iter30, loss: 1.965370774269104\n",
      "epoch0, iter40, loss: 1.634555459022522\n",
      "epoch0, iter50, loss: 2.128614664077759\n",
      "epoch0, iter60, loss: 1.6389708518981934\n",
      "epoch0, iter70, loss: 1.4388515949249268\n",
      "epoch0, iter80, loss: 1.2640962600708008\n",
      "epoch0, iter90, loss: 1.413047194480896\n",
      "epoch0, iter100, loss: 1.5582668781280518\n",
      "epoch0, iter110, loss: 1.3190821409225464\n",
      "epoch0, iter120, loss: 1.3545260429382324\n",
      "epoch0, iter130, loss: 1.6749486923217773\n",
      "epoch0, iter140, loss: 1.228811264038086\n",
      "epoch0, iter150, loss: 1.1389347314834595\n",
      "epoch0, iter160, loss: 1.113353967666626\n",
      "epoch0, iter170, loss: 1.3627485036849976\n",
      "epoch0, iter180, loss: 1.3827645778656006\n",
      "epoch0, iter190, loss: 1.1117156744003296\n",
      "epoch0, iter200, loss: 1.096677541732788\n",
      "epoch0, iter210, loss: 1.1593915224075317\n",
      "Finish epoch 0, time elapsed 247.54167985916138\n",
      "in val\n",
      "Loss at epoch: 0 is 0.8824663162231445\n",
      "IoU at epoch: 0 is 0.3206522310917665\n",
      "Pixel acc at epoch: 0 is 0.7592838321413312\n"
     ]
    },
    {
     "ename": "TypeError",
     "evalue": "'>' not supported between instances of 'tuple' and 'float'",
     "output_type": "error",
     "traceback": [
      "\u001b[0;31m---------------------------------------------------------------------------\u001b[0m",
      "\u001b[0;31mTypeError\u001b[0m                                 Traceback (most recent call last)",
      "\u001b[0;32m/tmp/ipykernel_167/1867678641.py\u001b[0m in \u001b[0;36m<module>\u001b[0;34m\u001b[0m\n\u001b[1;32m     35\u001b[0m \u001b[0mval\u001b[0m\u001b[0;34m(\u001b[0m\u001b[0mfcn_model\u001b[0m\u001b[0;34m,\u001b[0m \u001b[0;36m0\u001b[0m\u001b[0;34m)\u001b[0m  \u001b[0;31m# show the accuracy before training\u001b[0m\u001b[0;34m\u001b[0m\u001b[0;34m\u001b[0m\u001b[0m\n\u001b[1;32m     36\u001b[0m \u001b[0mmodel_name\u001b[0m\u001b[0;34m=\u001b[0m\u001b[0;34m\"latest_model_4a\"\u001b[0m\u001b[0;34m\u001b[0m\u001b[0;34m\u001b[0m\u001b[0m\n\u001b[0;32m---> 37\u001b[0;31m \u001b[0mtrain_loss_record\u001b[0m\u001b[0;34m,\u001b[0m \u001b[0mvalid_loss_record\u001b[0m \u001b[0;34m=\u001b[0m \u001b[0mtrain\u001b[0m\u001b[0;34m(\u001b[0m\u001b[0mfcn_model\u001b[0m\u001b[0;34m,\u001b[0m \u001b[0mepochs\u001b[0m\u001b[0;34m,\u001b[0m\u001b[0mlr\u001b[0m\u001b[0;34m,\u001b[0m \u001b[0msave_fp\u001b[0m\u001b[0;34m=\u001b[0m\u001b[0mmodel_name\u001b[0m\u001b[0;34m)\u001b[0m\u001b[0;34m\u001b[0m\u001b[0;34m\u001b[0m\u001b[0m\n\u001b[0m",
      "\u001b[0;32m~/CSE251B/PA3_starter/starter_4.py\u001b[0m in \u001b[0;36mtrain\u001b[0;34m(fcn_model, epochs, learning_rate, save_fp)\u001b[0m\n\u001b[1;32m    101\u001b[0m         \u001b[0mcurrent_miou_score\u001b[0m \u001b[0;34m=\u001b[0m \u001b[0mval\u001b[0m\u001b[0;34m(\u001b[0m\u001b[0mfcn_model\u001b[0m\u001b[0;34m,\u001b[0m \u001b[0mepoch\u001b[0m\u001b[0;34m)\u001b[0m\u001b[0;34m\u001b[0m\u001b[0;34m\u001b[0m\u001b[0m\n\u001b[1;32m    102\u001b[0m \u001b[0;34m\u001b[0m\u001b[0m\n\u001b[0;32m--> 103\u001b[0;31m         \u001b[0;32mif\u001b[0m \u001b[0mcurrent_miou_score\u001b[0m \u001b[0;34m>\u001b[0m \u001b[0mbest_iou_score\u001b[0m\u001b[0;34m:\u001b[0m\u001b[0;34m\u001b[0m\u001b[0;34m\u001b[0m\u001b[0m\n\u001b[0m\u001b[1;32m    104\u001b[0m             \u001b[0mbest_iou_score\u001b[0m \u001b[0;34m=\u001b[0m \u001b[0mcurrent_miou_score\u001b[0m\u001b[0;34m\u001b[0m\u001b[0;34m\u001b[0m\u001b[0m\n\u001b[1;32m    105\u001b[0m             \u001b[0;31m#save the best model\u001b[0m\u001b[0;34m\u001b[0m\u001b[0;34m\u001b[0m\u001b[0;34m\u001b[0m\u001b[0m\n",
      "\u001b[0;31mTypeError\u001b[0m: '>' not supported between instances of 'tuple' and 'float'"
     ]
    }
   ],
   "source": [
    "from basic_fcn import *\n",
    "from utils import *\n",
    "import torch.optim as optim\n",
    "import time\n",
    "from torch.utils.data import DataLoader\n",
    "import torch\n",
    "import gc\n",
    "import copy\n",
    "from dataloader_4 import *\n",
    "from starter_4 import *\n",
    "\n",
    "\n",
    "#hyper param\n",
    "epochs = 30   \n",
    "lr = 0.0004\n",
    "criterion = nn.CrossEntropyLoss()# Choose an appropriate loss function from https://pytorch.org/docs/stable/_modules/torch/nn/modules/loss.html\n",
    "n_class = 10\n",
    "\n",
    "print(\"creating model...\")\n",
    "fcn_model = FCN(n_class=n_class)\n",
    "fcn_model.apply(init_weights)\n",
    "\n",
    "# gpu\n",
    "gpu_status = torch.cuda.is_available()\n",
    "print(\"GPU:\", gpu_status)\n",
    "\n",
    "if gpu_status : \n",
    "    device = torch.device('cuda') # determine which device to use (gpu or cpu)\n",
    "else : \n",
    "    device = torch.device('cpu')\n",
    "\n",
    "fcn_model.to(device)\n",
    "    \n",
    "print(\"Training...\")\n",
    "val(fcn_model, 0)  # show the accuracy before training\n",
    "model_name=\"latest_model_4a\"\n",
    "train_loss_record, valid_loss_record = train(fcn_model, epochs,lr, save_fp=model_name) "
   ]
  },
  {
   "cell_type": "code",
   "execution_count": null,
   "metadata": {},
   "outputs": [],
   "source": [
    "latest_fcn_model = torch.load(model_name)\n",
    "latest_fcn_model.to(device)\n",
    "test(latest_fcn_model)"
   ]
  },
  {
   "cell_type": "code",
   "execution_count": null,
   "metadata": {},
   "outputs": [],
   "source": [
    "# # Continue training\n",
    "# model_name = \"latest_model_4a_50e\"\n",
    "# # Train for 10 more epochs\n",
    "# train_loss_record, valid_loss_record = train(fcn_model, 20,lr, save_fp=model_name)\n"
   ]
  },
  {
   "cell_type": "code",
   "execution_count": null,
   "metadata": {},
   "outputs": [],
   "source": [
    "# latest_fcn_model = torch.load(model_name)\n",
    "# latest_fcn_model.to(device)\n",
    "# test(latest_fcn_model)"
   ]
  },
  {
   "cell_type": "code",
   "execution_count": null,
   "metadata": {},
   "outputs": [],
   "source": []
  }
 ],
 "metadata": {
  "interpreter": {
   "hash": "005f4ed24810181fa8b2266ec303702d6575bedfaa41c7848d327e7f780b3129"
  },
  "kernelspec": {
   "display_name": "Python 3 (ipykernel)",
   "language": "python",
   "name": "python3"
  },
  "language_info": {
   "codemirror_mode": {
    "name": "ipython",
    "version": 3
   },
   "file_extension": ".py",
   "mimetype": "text/x-python",
   "name": "python",
   "nbconvert_exporter": "python",
   "pygments_lexer": "ipython3",
   "version": "3.9.5"
  }
 },
 "nbformat": 4,
 "nbformat_minor": 2
}
