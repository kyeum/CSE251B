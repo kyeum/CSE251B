{
 "cells": [
  {
   "cell_type": "markdown",
   "metadata": {},
   "source": [
    "## Classification (PA3.4)"
   ]
  },
  {
   "cell_type": "code",
   "execution_count": 1,
   "metadata": {},
   "outputs": [],
   "source": [
    "## Data generation"
   ]
  },
  {
   "cell_type": "code",
   "execution_count": null,
   "metadata": {},
   "outputs": [
    {
     "name": "stdout",
     "output_type": "stream",
     "text": [
      "in starter_4\n",
      "GPU_STATUS: True\n",
      "creating model...\n",
      "GPU: True\n",
      "Training...\n",
      "in val\n"
     ]
    },
    {
     "name": "stderr",
     "output_type": "stream",
     "text": [
      "/opt/conda/lib/python3.9/site-packages/torchvision/transforms/functional.py:114: UserWarning: The given NumPy array is not writeable, and PyTorch does not support non-writeable tensors. This means you can write to the underlying (supposedly non-writeable) NumPy array using the tensor. You may want to copy the array to protect its data or make it writeable before converting it to a tensor. This type of warning will be suppressed for the rest of this program. (Triggered internally at  /pytorch/torch/csrc/utils/tensor_numpy.cpp:180.)\n",
      "  img = torch.from_numpy(pic.transpose((2, 0, 1))).contiguous()\n"
     ]
    },
    {
     "name": "stdout",
     "output_type": "stream",
     "text": [
      "Loss at epoch: 0 is 4.180442673819406\n",
      "IoU at epoch: 0 is 0.004255493616055942\n",
      "Pixel acc at epoch: 0 is 0.032016584649682045\n",
      "in train\n",
      "epoch0, iter0, loss: 3.155221462249756\n",
      "epoch0, iter10, loss: 3.069870710372925\n",
      "epoch0, iter20, loss: 2.9580492973327637\n",
      "epoch0, iter30, loss: 2.9449338912963867\n",
      "epoch0, iter40, loss: 2.6606476306915283\n",
      "epoch0, iter50, loss: 2.915097951889038\n",
      "Finish epoch 0, time elapsed 90.9675817489624\n",
      "in val\n",
      "Loss at epoch: 0 is 2.1575526850564137\n",
      "IoU at epoch: 0 is 0.05112087750214637\n",
      "Pixel acc at epoch: 0 is 0.07134779595902987\n",
      "epoch1, iter0, loss: 2.2899904251098633\n",
      "epoch1, iter10, loss: 2.461554765701294\n",
      "epoch1, iter20, loss: 2.5046815872192383\n",
      "epoch1, iter30, loss: 2.322816848754883\n",
      "epoch1, iter40, loss: 1.869006633758545\n",
      "epoch1, iter50, loss: 2.344867706298828\n",
      "Finish epoch 1, time elapsed 89.74666237831116\n",
      "in val\n",
      "Loss at epoch: 1 is 2.023697222982134\n",
      "IoU at epoch: 1 is 0.13863845292334667\n",
      "Pixel acc at epoch: 1 is 0.2994518450328282\n",
      "epoch2, iter0, loss: 2.0120699405670166\n",
      "epoch2, iter10, loss: 2.022643566131592\n",
      "epoch2, iter20, loss: 1.775217890739441\n",
      "epoch2, iter30, loss: 2.047381639480591\n",
      "epoch2, iter40, loss: 1.993319034576416\n",
      "epoch2, iter50, loss: 2.22231125831604\n",
      "Finish epoch 2, time elapsed 91.75658702850342\n",
      "in val\n",
      "Loss at epoch: 2 is 1.551176905632019\n",
      "IoU at epoch: 2 is 0.23114130095789384\n",
      "Pixel acc at epoch: 2 is 0.6115666627883911\n",
      "epoch3, iter0, loss: 2.145602226257324\n",
      "epoch3, iter10, loss: 1.9423861503601074\n"
     ]
    }
   ],
   "source": [
    "from basic_fcn import *\n",
    "from utils import *\n",
    "import torch.optim as optim\n",
    "import time\n",
    "from torch.utils.data import DataLoader\n",
    "import torch\n",
    "import gc\n",
    "import copy\n",
    "from dataloader_4 import *\n",
    "from starter_4 import *\n",
    "\n",
    "\n",
    "#hyper param\n",
    "epochs = 30   \n",
    "lr = 0.0004\n",
    "criterion = nn.CrossEntropyLoss()# Choose an appropriate loss function from https://pytorch.org/docs/stable/_modules/torch/nn/modules/loss.html\n",
    "n_class = 10\n",
    "\n",
    "print(\"creating model...\")\n",
    "fcn_model = FCN(n_class=n_class)\n",
    "fcn_model.apply(init_weights)\n",
    "\n",
    "# gpu\n",
    "gpu_status = torch.cuda.is_available()\n",
    "print(\"GPU:\", gpu_status)\n",
    "\n",
    "if gpu_status : \n",
    "    device = torch.device('cuda') # determine which device to use (gpu or cpu)\n",
    "else : \n",
    "    device = torch.device('cpu')\n",
    "\n",
    "fcn_model.to(device)\n",
    "    \n",
    "print(\"Training...\")\n",
    "val(fcn_model, 0)  # show the accuracy before training\n",
    "model_name=\"latest_model_4a\"\n",
    "train_loss_record, valid_loss_record = train(fcn_model, epochs,lr, save_fp=model_name) "
   ]
  },
  {
   "cell_type": "code",
   "execution_count": null,
   "metadata": {},
   "outputs": [],
   "source": [
    "latest_fcn_model = torch.load(model_name)\n",
    "latest_fcn_model.to(device)\n",
    "test(latest_fcn_model)"
   ]
  },
  {
   "cell_type": "code",
   "execution_count": null,
   "metadata": {},
   "outputs": [],
   "source": [
    "# # Continue training\n",
    "# model_name = \"latest_model_4a_50e\"\n",
    "# # Train for 10 more epochs\n",
    "# train_loss_record, valid_loss_record = train(fcn_model, 20,lr, save_fp=model_name)\n"
   ]
  },
  {
   "cell_type": "code",
   "execution_count": null,
   "metadata": {},
   "outputs": [],
   "source": [
    "# latest_fcn_model = torch.load(model_name)\n",
    "# latest_fcn_model.to(device)\n",
    "# test(latest_fcn_model)"
   ]
  },
  {
   "cell_type": "code",
   "execution_count": null,
   "metadata": {},
   "outputs": [],
   "source": []
  }
 ],
 "metadata": {
  "interpreter": {
   "hash": "005f4ed24810181fa8b2266ec303702d6575bedfaa41c7848d327e7f780b3129"
  },
  "kernelspec": {
   "display_name": "Python 3 (ipykernel)",
   "language": "python",
   "name": "python3"
  },
  "language_info": {
   "codemirror_mode": {
    "name": "ipython",
    "version": 3
   },
   "file_extension": ".py",
   "mimetype": "text/x-python",
   "name": "python",
   "nbconvert_exporter": "python",
   "pygments_lexer": "ipython3",
   "version": "3.9.5"
  }
 },
 "nbformat": 4,
 "nbformat_minor": 2
}
