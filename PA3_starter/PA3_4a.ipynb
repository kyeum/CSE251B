{
 "cells": [
  {
   "cell_type": "markdown",
   "metadata": {},
   "source": [
    "## Classification (PA3.4)"
   ]
  },
  {
   "cell_type": "code",
   "execution_count": 1,
   "metadata": {},
   "outputs": [],
   "source": [
    "## Data generation"
   ]
  },
  {
   "cell_type": "code",
   "execution_count": null,
   "metadata": {
    "scrolled": false
   },
   "outputs": [
    {
     "name": "stdout",
     "output_type": "stream",
     "text": [
      "in starter_4\n",
      "GPU_STATUS: False\n",
      "creating model...\n",
      "GPU: False\n",
      "Training...\n",
      "in val\n"
     ]
    },
    {
     "name": "stderr",
     "output_type": "stream",
     "text": [
      "/opt/conda/lib/python3.9/site-packages/torchvision/transforms/functional.py:114: UserWarning: The given NumPy array is not writeable, and PyTorch does not support non-writeable tensors. This means you can write to the underlying (supposedly non-writeable) NumPy array using the tensor. You may want to copy the array to protect its data or make it writeable before converting it to a tensor. This type of warning will be suppressed for the rest of this program. (Triggered internally at  /pytorch/torch/csrc/utils/tensor_numpy.cpp:180.)\n",
      "  img = torch.from_numpy(pic.transpose((2, 0, 1))).contiguous()\n"
     ]
    },
    {
     "name": "stdout",
     "output_type": "stream",
     "text": [
      "Loss at epoch: 0 is 3.32350492477417\n",
      "IoU at epoch: 0 is 0.005459864337425975\n",
      "Pixel acc at epoch: 0 is 0.026374728485409702\n",
      "in train\n",
      "epoch0, iter0, loss: 3.265028953552246\n",
      "epoch0, iter10, loss: 2.884209394454956\n",
      "epoch0, iter20, loss: 2.442747116088867\n",
      "epoch0, iter30, loss: 2.3285555839538574\n",
      "epoch0, iter40, loss: 2.132457733154297\n",
      "epoch0, iter50, loss: 1.92276930809021\n",
      "Finish epoch 0, time elapsed 921.2867116928101\n",
      "in val\n",
      "Loss at epoch: 0 is 1.8611749921526228\n",
      "IoU at epoch: 0 is 0.13132462232042888\n",
      "Pixel acc at epoch: 0 is 0.6786494084766933\n",
      "epoch1, iter0, loss: 2.3410537242889404\n",
      "epoch1, iter10, loss: 1.914227843284607\n",
      "epoch1, iter20, loss: 2.0619025230407715\n",
      "epoch1, iter30, loss: 1.660089373588562\n",
      "epoch1, iter40, loss: 2.0830368995666504\n",
      "epoch1, iter50, loss: 1.2904791831970215\n",
      "Finish epoch 1, time elapsed 893.8123552799225\n",
      "in val\n",
      "Loss at epoch: 1 is 1.7367916447775704\n",
      "IoU at epoch: 1 is 0.17039114925963017\n",
      "Pixel acc at epoch: 1 is 0.7399635740688869\n",
      "epoch2, iter0, loss: 2.150578498840332\n",
      "epoch2, iter10, loss: 1.42466402053833\n",
      "epoch2, iter20, loss: 1.5199004411697388\n",
      "epoch2, iter30, loss: 1.1872377395629883\n",
      "epoch2, iter40, loss: 1.2092658281326294\n",
      "epoch2, iter50, loss: 1.4121308326721191\n",
      "Finish epoch 2, time elapsed 899.325510263443\n",
      "in val\n",
      "Loss at epoch: 2 is 1.1538673383849007\n",
      "IoU at epoch: 2 is 0.2063720517774253\n",
      "Pixel acc at epoch: 2 is 0.8045457686696734\n",
      "epoch3, iter0, loss: 1.7329438924789429\n",
      "epoch3, iter10, loss: 1.703695297241211\n",
      "epoch3, iter20, loss: 1.2748169898986816\n",
      "epoch3, iter30, loss: 1.077622652053833\n",
      "epoch3, iter40, loss: 1.4188401699066162\n",
      "epoch3, iter50, loss: 1.2820210456848145\n",
      "Finish epoch 3, time elapsed 881.9715826511383\n",
      "in val\n",
      "Loss at epoch: 3 is 1.0271450281143188\n",
      "IoU at epoch: 3 is 0.2797153418429107\n",
      "Pixel acc at epoch: 3 is 0.8263840079307556\n",
      "epoch4, iter0, loss: 1.0290398597717285\n",
      "epoch4, iter10, loss: 1.2073664665222168\n",
      "epoch4, iter20, loss: 0.9001834392547607\n",
      "epoch4, iter30, loss: 0.9535782933235168\n",
      "epoch4, iter40, loss: 0.774066686630249\n",
      "epoch4, iter50, loss: 1.027601957321167\n",
      "Finish epoch 4, time elapsed 873.0057709217072\n",
      "in val\n",
      "Loss at epoch: 4 is 0.8929400273731777\n",
      "IoU at epoch: 4 is 0.27727830332695164\n",
      "Pixel acc at epoch: 4 is 0.8262640833854675\n",
      "epoch5, iter0, loss: 0.8525643348693848\n",
      "epoch5, iter10, loss: 0.8746484518051147\n",
      "epoch5, iter20, loss: 0.8189468383789062\n",
      "epoch5, iter30, loss: 0.9418152570724487\n",
      "epoch5, iter40, loss: 0.8994568586349487\n",
      "epoch5, iter50, loss: 1.0472006797790527\n",
      "Finish epoch 5, time elapsed 884.4708571434021\n",
      "in val\n",
      "Loss at epoch: 5 is 0.7717149257659912\n",
      "IoU at epoch: 5 is 0.2958176861253118\n",
      "Pixel acc at epoch: 5 is 0.8387469734464373\n",
      "epoch6, iter0, loss: 1.0629124641418457\n",
      "epoch6, iter10, loss: 1.2001948356628418\n",
      "epoch6, iter20, loss: 1.012972354888916\n",
      "epoch6, iter30, loss: 0.7533474564552307\n",
      "epoch6, iter40, loss: 1.2739368677139282\n",
      "epoch6, iter50, loss: 0.7809919118881226\n",
      "Finish epoch 6, time elapsed 878.3148286342621\n",
      "in val\n"
     ]
    }
   ],
   "source": [
    "from basic_fcn import *\n",
    "from utils import *\n",
    "import torch.optim as optim\n",
    "import time\n",
    "from torch.utils.data import DataLoader\n",
    "import torch\n",
    "import gc\n",
    "import copy\n",
    "from dataloader_4 import *\n",
    "from starter_4 import *\n",
    "\n",
    "\n",
    "#hyper param\n",
    "epochs = 50   \n",
    "lr = 0.0004\n",
    "criterion = nn.CrossEntropyLoss()# Choose an appropriate loss function from https://pytorch.org/docs/stable/_modules/torch/nn/modules/loss.html\n",
    "n_class = 10\n",
    "\n",
    "print(\"creating model...\")\n",
    "fcn_model = FCN(n_class=n_class)\n",
    "fcn_model.apply(init_weights)\n",
    "\n",
    "# gpu\n",
    "gpu_status = torch.cuda.is_available()\n",
    "print(\"GPU:\", gpu_status)\n",
    "\n",
    "if gpu_status : \n",
    "    device = torch.device('cuda') # determine which device to use (gpu or cpu)\n",
    "else : \n",
    "    device = torch.device('cpu')\n",
    "\n",
    "fcn_model.to(device)\n",
    "    \n",
    "print(\"Training...\")\n",
    "val(fcn_model, 0)  # show the accuracy before training\n",
    "model_name=\"latest_model_4a\"\n",
    "train_loss_record, valid_loss_record = train(fcn_model, epochs,lr, save_fp=model_name) "
   ]
  },
  {
   "cell_type": "code",
   "execution_count": null,
   "metadata": {},
   "outputs": [],
   "source": [
    "# def test(fcn_model):\n",
    "#     print(\"in test\")\n",
    "#     #TODO: load the best model and complete the rest of the function for testing\n",
    "#     fcn_model.eval()\n",
    "    \n",
    "#     losses = []\n",
    "#     mean_iou_scores = []\n",
    "#     accuracy = []\n",
    "\n",
    "#     with torch.no_grad(): # we don't need to calculate the gradient in the validation/testing\n",
    "\n",
    "#         for i, (inputs, labels, rawimg) in enumerate(test_loader):\n",
    "\n",
    "#             # both inputs and labels have to reside in the same device as the model's\n",
    "#             inputs = inputs.to(device) #transfer the input to the same device as the model's\n",
    "#             labels = labels.type(torch.LongTensor).to(device) #transfer the labels to the same device as the model's\n",
    "\n",
    "#             output = fcn_model(inputs)\n",
    "\n",
    "#             loss = criterion(output,labels) #calculate the loss\n",
    "#             losses.append(loss.item()) #call .item() to get the value from a tensor. The tensor can reside in gpu but item() will still work \n",
    "\n",
    "#             pred = torch.argmax(output, axis = 1) # Make sure to include an argmax to get the prediction from the outputs of your model\n",
    "\n",
    "#             mean_iou_scores.append(np.nanmean(iou_ey(pred, labels, n_class)))  # Complete this function in the util, notice the use of np.nanmean() here\n",
    "        \n",
    "#             accuracy.append(pixel_acc_ey(pred, labels)) # Complete this function in the util\n",
    "\n",
    "\n",
    "#     print(f\"Loss :is {np.mean(losses)}\")\n",
    "#     print(f\"IoU is {np.mean(mean_iou_scores)}\")\n",
    "#     print(f\"Pixel is {np.mean(accuracy)}\")\n",
    "#     return 0"
   ]
  },
  {
   "cell_type": "code",
   "execution_count": null,
   "metadata": {},
   "outputs": [],
   "source": [
    "latest_fcn_model = torch.load(model_name)\n",
    "latest_fcn_model.to(device)\n",
    "test(latest_fcn_model)"
   ]
  },
  {
   "cell_type": "code",
   "execution_count": null,
   "metadata": {},
   "outputs": [],
   "source": [
    "# # Continue training\n",
    "# model_name = \"latest_model_4a_50e\"\n",
    "# # Train for 10 more epochs\n",
    "# train_loss_record, valid_loss_record = train(fcn_model, 20,lr, save_fp=model_name)\n"
   ]
  },
  {
   "cell_type": "code",
   "execution_count": null,
   "metadata": {},
   "outputs": [],
   "source": [
    "# latest_fcn_model = torch.load(model_name)\n",
    "# latest_fcn_model.to(device)\n",
    "# test(latest_fcn_model)"
   ]
  },
  {
   "cell_type": "code",
   "execution_count": null,
   "metadata": {},
   "outputs": [],
   "source": []
  }
 ],
 "metadata": {
  "interpreter": {
   "hash": "005f4ed24810181fa8b2266ec303702d6575bedfaa41c7848d327e7f780b3129"
  },
  "kernelspec": {
   "display_name": "Python 3 (ipykernel)",
   "language": "python",
   "name": "python3"
  },
  "language_info": {
   "codemirror_mode": {
    "name": "ipython",
    "version": 3
   },
   "file_extension": ".py",
   "mimetype": "text/x-python",
   "name": "python",
   "nbconvert_exporter": "python",
   "pygments_lexer": "ipython3",
   "version": "3.9.5"
  }
 },
 "nbformat": 4,
 "nbformat_minor": 2
}
