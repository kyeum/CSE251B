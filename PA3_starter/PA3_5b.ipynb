{
 "cells": [
  {
   "cell_type": "markdown",
   "metadata": {},
   "source": [
    "## PA3.5(b) - Transfer Learning"
   ]
  },
  {
   "cell_type": "markdown",
   "metadata": {},
   "source": [
    "### Use TL to replace encoder layer of FCN"
   ]
  },
  {
   "cell_type": "code",
   "execution_count": 1,
   "metadata": {},
   "outputs": [],
   "source": [
    "## Data generation"
   ]
  },
  {
   "cell_type": "code",
   "execution_count": 2,
   "metadata": {},
   "outputs": [
    {
     "name": "stdout",
     "output_type": "stream",
     "text": [
      "in starter_4\n",
      "GPU_STATUS: True\n"
     ]
    }
   ],
   "source": [
    "from utils import *\n",
    "import torch.optim as optim\n",
    "import time\n",
    "from torch.utils.data import DataLoader\n",
    "import torch\n",
    "import gc\n",
    "import copy\n",
    "from dataloader_4 import *\n",
    "from starter_4 import *\n",
    "from tl_fcn import *\n"
   ]
  },
  {
   "cell_type": "code",
   "execution_count": 3,
   "metadata": {},
   "outputs": [],
   "source": [
    "# Precomputed Class Weights\n",
    "class_weights = torch.FloatTensor([1.7796e-01, 6.1295e-01, 4.1182e-02, 8.9837e-03, 1.0163e-01, 6.8722e-03,\n",
    "        1.4485e-03, 1.5937e-04, 4.7746e-02, 1.0698e-03])"
   ]
  },
  {
   "cell_type": "code",
   "execution_count": null,
   "metadata": {
    "scrolled": false
   },
   "outputs": [
    {
     "name": "stdout",
     "output_type": "stream",
     "text": [
      "creating model...\n",
      "GPU: True\n",
      "Training...\n",
      "in val\n"
     ]
    },
    {
     "name": "stderr",
     "output_type": "stream",
     "text": [
      "/opt/conda/lib/python3.9/site-packages/torchvision/transforms/functional.py:114: UserWarning: The given NumPy array is not writeable, and PyTorch does not support non-writeable tensors. This means you can write to the underlying (supposedly non-writeable) NumPy array using the tensor. You may want to copy the array to protect its data or make it writeable before converting it to a tensor. This type of warning will be suppressed for the rest of this program. (Triggered internally at  /pytorch/torch/csrc/utils/tensor_numpy.cpp:180.)\n",
      "  img = torch.from_numpy(pic.transpose((2, 0, 1))).contiguous()\n",
      "/opt/conda/lib/python3.9/site-packages/torch/nn/functional.py:718: UserWarning: Named tensors and all their associated APIs are an experimental feature and subject to change. Please do not use them for anything important until they are released as stable. (Triggered internally at  /pytorch/c10/core/TensorImpl.h:1156.)\n",
      "  return torch.max_pool2d(input, kernel_size, stride, padding, dilation, ceil_mode)\n"
     ]
    },
    {
     "name": "stdout",
     "output_type": "stream",
     "text": [
      "Loss at epoch: 0 is 3.18301830972944\n",
      "IoU at epoch: 0 is 0.00594139302278029\n",
      "Pixel acc at epoch: 0 is 0.013080505654215813\n",
      "in train\n"
     ]
    },
    {
     "name": "stderr",
     "output_type": "stream",
     "text": [
      "\r",
      "  0%|          | 0/30 [00:00<?, ?it/s]"
     ]
    },
    {
     "name": "stdout",
     "output_type": "stream",
     "text": [
      "epoch0, iter0, loss: 3.3011386394500732\n",
      "epoch0, iter10, loss: 3.1767382621765137\n",
      "epoch0, iter20, loss: 3.104565143585205\n",
      "epoch0, iter30, loss: 2.952092170715332\n",
      "epoch0, iter40, loss: 2.6680445671081543\n",
      "epoch0, iter50, loss: 2.904940605163574\n",
      "Finish epoch 0, time elapsed 280.26062536239624\n",
      "in val\n",
      "Loss at epoch: 0 is 2.457087142126901\n",
      "IoU at epoch: 0 is 0.029792367182258275\n",
      "Pixel acc at epoch: 0 is 0.09182053857616015\n"
     ]
    },
    {
     "name": "stderr",
     "output_type": "stream",
     "text": [
      "\r",
      "  3%|▎         | 1/30 [04:57<2:23:47, 297.50s/it]"
     ]
    },
    {
     "name": "stdout",
     "output_type": "stream",
     "text": [
      "epoch1, iter0, loss: 2.621994972229004\n",
      "epoch1, iter10, loss: 2.3036580085754395\n",
      "epoch1, iter20, loss: 2.3616445064544678\n",
      "epoch1, iter30, loss: 2.219083786010742\n",
      "epoch1, iter40, loss: 1.92655348777771\n",
      "epoch1, iter50, loss: 1.9291176795959473\n",
      "Finish epoch 1, time elapsed 288.7263078689575\n",
      "in val\n",
      "Loss at epoch: 1 is 1.5573229789733887\n",
      "IoU at epoch: 1 is 0.20919065284668625\n",
      "Pixel acc at epoch: 1 is 0.7347759519304548\n"
     ]
    },
    {
     "name": "stderr",
     "output_type": "stream",
     "text": [
      "\r",
      "  7%|▋         | 2/30 [10:02<2:20:55, 301.96s/it]"
     ]
    },
    {
     "name": "stdout",
     "output_type": "stream",
     "text": [
      "epoch2, iter0, loss: 1.7136813402175903\n",
      "epoch2, iter10, loss: 1.5934021472930908\n",
      "epoch2, iter20, loss: 1.594476342201233\n",
      "epoch2, iter30, loss: 1.6098573207855225\n",
      "epoch2, iter40, loss: 1.3361260890960693\n",
      "epoch2, iter50, loss: 1.7299176454544067\n",
      "Finish epoch 2, time elapsed 287.85591292381287\n",
      "in val\n",
      "Loss at epoch: 2 is 1.099502648626055\n",
      "IoU at epoch: 2 is 0.23756143581686912\n",
      "Pixel acc at epoch: 2 is 0.7827988522393363\n"
     ]
    },
    {
     "name": "stderr",
     "output_type": "stream",
     "text": [
      "\r",
      " 10%|█         | 3/30 [15:08<2:16:46, 303.95s/it]"
     ]
    },
    {
     "name": "stdout",
     "output_type": "stream",
     "text": [
      "epoch3, iter0, loss: 1.2145931720733643\n",
      "epoch3, iter10, loss: 1.0117465257644653\n",
      "epoch3, iter20, loss: 1.2047683000564575\n",
      "epoch3, iter30, loss: 1.2690298557281494\n",
      "epoch3, iter40, loss: 1.26968514919281\n",
      "epoch3, iter50, loss: 1.1551192998886108\n",
      "Finish epoch 3, time elapsed 206.26406359672546\n",
      "in val\n",
      "Loss at epoch: 3 is 0.8638148137501308\n",
      "IoU at epoch: 3 is 0.2513598485975452\n",
      "Pixel acc at epoch: 3 is 0.8234824708529881\n"
     ]
    },
    {
     "name": "stderr",
     "output_type": "stream",
     "text": [
      "\r",
      " 13%|█▎        | 4/30 [18:50<1:57:40, 271.56s/it]"
     ]
    },
    {
     "name": "stdout",
     "output_type": "stream",
     "text": [
      "epoch4, iter0, loss: 1.0452542304992676\n",
      "epoch4, iter10, loss: 1.1601685285568237\n",
      "epoch4, iter20, loss: 1.0937453508377075\n",
      "epoch4, iter30, loss: 1.270959734916687\n",
      "epoch4, iter40, loss: 1.0621275901794434\n",
      "epoch4, iter50, loss: 0.7825649380683899\n",
      "Finish epoch 4, time elapsed 210.317040681839\n",
      "in val\n",
      "Loss at epoch: 4 is 0.7596672943660191\n",
      "IoU at epoch: 4 is 0.3006885126413268\n",
      "Pixel acc at epoch: 4 is 0.8316924912588937\n"
     ]
    },
    {
     "name": "stderr",
     "output_type": "stream",
     "text": [
      "\r",
      " 17%|█▋        | 5/30 [22:36<1:46:16, 255.06s/it]"
     ]
    },
    {
     "name": "stdout",
     "output_type": "stream",
     "text": [
      "epoch5, iter0, loss: 0.838870644569397\n",
      "epoch5, iter10, loss: 1.3080267906188965\n",
      "epoch5, iter20, loss: 1.0340183973312378\n",
      "epoch5, iter30, loss: 1.102903962135315\n",
      "epoch5, iter40, loss: 0.85697340965271\n",
      "epoch5, iter50, loss: 0.7437597513198853\n",
      "Finish epoch 5, time elapsed 203.91328811645508\n",
      "in val\n",
      "Loss at epoch: 5 is 0.66568295444761\n",
      "IoU at epoch: 5 is 0.32425234670524566\n",
      "Pixel acc at epoch: 5 is 0.8436417494501386\n"
     ]
    },
    {
     "name": "stderr",
     "output_type": "stream",
     "text": [
      "\r",
      " 20%|██        | 6/30 [26:16<1:37:11, 242.98s/it]"
     ]
    },
    {
     "name": "stdout",
     "output_type": "stream",
     "text": [
      "epoch6, iter0, loss: 0.9481942653656006\n",
      "epoch6, iter10, loss: 0.8428637981414795\n",
      "epoch6, iter20, loss: 0.9710321426391602\n",
      "epoch6, iter30, loss: 0.6798390746116638\n",
      "epoch6, iter40, loss: 0.7568420767784119\n",
      "epoch6, iter50, loss: 0.8335556983947754\n",
      "Finish epoch 6, time elapsed 206.39068388938904\n",
      "in val\n"
     ]
    },
    {
     "name": "stderr",
     "output_type": "stream",
     "text": [
      "\r",
      " 23%|██▎       | 7/30 [29:57<1:30:22, 235.78s/it]"
     ]
    },
    {
     "name": "stdout",
     "output_type": "stream",
     "text": [
      "Loss at epoch: 6 is 0.8167058144296918\n",
      "IoU at epoch: 6 is 0.31319124248913127\n",
      "Pixel acc at epoch: 6 is 0.8301965849740165\n",
      "epoch7, iter0, loss: 1.0141621828079224\n",
      "epoch7, iter10, loss: 0.8278652429580688\n",
      "epoch7, iter20, loss: 0.7667132019996643\n",
      "epoch7, iter30, loss: 0.45683521032333374\n",
      "epoch7, iter40, loss: 0.6661877036094666\n",
      "epoch7, iter50, loss: 0.6033812761306763\n",
      "Finish epoch 7, time elapsed 205.34976887702942\n",
      "in val\n",
      "Loss at epoch: 7 is 0.6511619218758175\n",
      "IoU at epoch: 7 is 0.33766208299649797\n",
      "Pixel acc at epoch: 7 is 0.8651006306920733\n"
     ]
    },
    {
     "name": "stderr",
     "output_type": "stream",
     "text": [
      "\r",
      " 27%|██▋       | 8/30 [33:37<1:24:41, 230.96s/it]"
     ]
    },
    {
     "name": "stdout",
     "output_type": "stream",
     "text": [
      "epoch8, iter0, loss: 0.707682192325592\n",
      "epoch8, iter10, loss: 0.7609819769859314\n",
      "epoch8, iter20, loss: 0.6446449756622314\n",
      "epoch8, iter30, loss: 0.7270377278327942\n",
      "epoch8, iter40, loss: 0.7915262579917908\n",
      "epoch8, iter50, loss: 0.6625230312347412\n",
      "Finish epoch 8, time elapsed 219.7922351360321\n",
      "in val\n",
      "Loss at epoch: 8 is 0.563886787210192\n",
      "IoU at epoch: 8 is 0.3425050283156682\n",
      "Pixel acc at epoch: 8 is 0.8725459064756121\n"
     ]
    },
    {
     "name": "stderr",
     "output_type": "stream",
     "text": [
      "\r",
      " 30%|███       | 9/30 [37:33<1:21:21, 232.46s/it]"
     ]
    },
    {
     "name": "stdout",
     "output_type": "stream",
     "text": [
      "epoch9, iter0, loss: 0.48835739493370056\n",
      "epoch9, iter10, loss: 1.0232394933700562\n",
      "epoch9, iter20, loss: 0.571481466293335\n",
      "epoch9, iter30, loss: 0.532738447189331\n",
      "epoch9, iter40, loss: 0.5774476528167725\n",
      "epoch9, iter50, loss: 0.6594575047492981\n",
      "Finish epoch 9, time elapsed 217.22699761390686\n",
      "in val\n",
      "Loss at epoch: 9 is 0.5984383864062173\n",
      "IoU at epoch: 9 is 0.3927462795128425\n",
      "Pixel acc at epoch: 9 is 0.8375305363110134\n"
     ]
    },
    {
     "name": "stderr",
     "output_type": "stream",
     "text": [
      "\r",
      " 33%|███▎      | 10/30 [41:26<1:17:32, 232.63s/it]"
     ]
    },
    {
     "name": "stdout",
     "output_type": "stream",
     "text": [
      "epoch10, iter0, loss: 0.5070614814758301\n",
      "epoch10, iter10, loss: 0.3920729160308838\n",
      "epoch10, iter20, loss: 0.5482243895530701\n",
      "epoch10, iter30, loss: 0.5784827470779419\n",
      "epoch10, iter40, loss: 0.6374505758285522\n",
      "epoch10, iter50, loss: 0.7648902535438538\n",
      "Finish epoch 10, time elapsed 293.72281551361084\n",
      "in val\n",
      "Loss at epoch: 10 is 0.48431682160922457\n",
      "IoU at epoch: 10 is 0.41996193734470694\n",
      "Pixel acc at epoch: 10 is 0.8813735672405788\n"
     ]
    },
    {
     "name": "stderr",
     "output_type": "stream",
     "text": [
      "\r",
      " 37%|███▋      | 11/30 [46:36<1:21:09, 256.28s/it]"
     ]
    },
    {
     "name": "stdout",
     "output_type": "stream",
     "text": [
      "epoch11, iter0, loss: 0.3877132534980774\n",
      "epoch11, iter10, loss: 0.6719911098480225\n",
      "epoch11, iter20, loss: 0.5420686602592468\n",
      "epoch11, iter30, loss: 0.6770742535591125\n",
      "epoch11, iter40, loss: 0.40466177463531494\n",
      "epoch11, iter50, loss: 0.4214807152748108\n",
      "Finish epoch 11, time elapsed 254.24417233467102\n",
      "in val\n"
     ]
    },
    {
     "name": "stderr",
     "output_type": "stream",
     "text": [
      "\r",
      " 40%|████      | 12/30 [51:09<1:18:23, 261.30s/it]"
     ]
    },
    {
     "name": "stdout",
     "output_type": "stream",
     "text": [
      "Loss at epoch: 11 is 0.6517934926918575\n",
      "IoU at epoch: 11 is 0.3294961244664072\n",
      "Pixel acc at epoch: 11 is 0.7982582364763532\n",
      "epoch12, iter0, loss: 0.5145847797393799\n",
      "epoch12, iter10, loss: 0.3813975751399994\n",
      "epoch12, iter20, loss: 0.7504490613937378\n",
      "epoch12, iter30, loss: 0.5246217250823975\n",
      "epoch12, iter40, loss: 0.37863555550575256\n",
      "epoch12, iter50, loss: 0.4239770472049713\n",
      "Finish epoch 12, time elapsed 248.44662618637085\n",
      "in val\n",
      "Loss at epoch: 12 is 0.5166295724255698\n",
      "IoU at epoch: 12 is 0.4264710706005706\n",
      "Pixel acc at epoch: 12 is 0.8460730399404254\n"
     ]
    },
    {
     "name": "stderr",
     "output_type": "stream",
     "text": [
      "\r",
      " 43%|████▎     | 13/30 [55:35<1:14:28, 262.87s/it]"
     ]
    },
    {
     "name": "stdout",
     "output_type": "stream",
     "text": [
      "epoch13, iter0, loss: 0.45898139476776123\n",
      "epoch13, iter10, loss: 0.45742252469062805\n",
      "epoch13, iter20, loss: 0.5212903618812561\n",
      "epoch13, iter30, loss: 0.5032913684844971\n",
      "epoch13, iter40, loss: 0.5273383259773254\n",
      "epoch13, iter50, loss: 0.527611494064331\n",
      "Finish epoch 13, time elapsed 285.53405117988586\n",
      "in val\n",
      "Loss at epoch: 13 is 0.40462749770709444\n",
      "IoU at epoch: 13 is 0.45692038187997885\n",
      "Pixel acc at epoch: 13 is 0.8871144226619175\n"
     ]
    },
    {
     "name": "stderr",
     "output_type": "stream",
     "text": [
      "\r",
      " 47%|████▋     | 14/30 [1:00:36<1:13:10, 274.39s/it]"
     ]
    },
    {
     "name": "stdout",
     "output_type": "stream",
     "text": [
      "epoch14, iter0, loss: 0.45901790261268616\n",
      "epoch14, iter10, loss: 0.7473128437995911\n",
      "epoch14, iter20, loss: 0.4358588457107544\n",
      "epoch14, iter30, loss: 0.41823121905326843\n",
      "epoch14, iter40, loss: 0.44816678762435913\n",
      "epoch14, iter50, loss: 0.4104354679584503\n",
      "Finish epoch 14, time elapsed 289.0855302810669\n",
      "in val\n",
      "Loss at epoch: 14 is 0.39199812710285187\n",
      "IoU at epoch: 14 is 0.4775307640876799\n",
      "Pixel acc at epoch: 14 is 0.8918227297919137\n"
     ]
    },
    {
     "name": "stderr",
     "output_type": "stream",
     "text": [
      "\r",
      " 50%|█████     | 15/30 [1:05:42<1:10:56, 283.75s/it]"
     ]
    },
    {
     "name": "stdout",
     "output_type": "stream",
     "text": [
      "epoch15, iter0, loss: 0.34880173206329346\n",
      "epoch15, iter10, loss: 0.4831908941268921\n",
      "epoch15, iter20, loss: 0.21011076867580414\n",
      "epoch15, iter30, loss: 0.3239946961402893\n",
      "epoch15, iter40, loss: 0.49623215198516846\n",
      "epoch15, iter50, loss: 0.3647787272930145\n",
      "Finish epoch 15, time elapsed 267.8022792339325\n",
      "in val\n",
      "Loss at epoch: 15 is 0.32373649733407156\n",
      "IoU at epoch: 15 is 0.5210760280016868\n",
      "Pixel acc at epoch: 15 is 0.9116700802530561\n"
     ]
    },
    {
     "name": "stderr",
     "output_type": "stream",
     "text": [
      "\r",
      " 53%|█████▎    | 16/30 [1:10:26<1:06:15, 284.00s/it]"
     ]
    },
    {
     "name": "stdout",
     "output_type": "stream",
     "text": [
      "epoch16, iter0, loss: 0.27684667706489563\n",
      "epoch16, iter10, loss: 0.3536894619464874\n",
      "epoch16, iter20, loss: 0.48802435398101807\n",
      "epoch16, iter30, loss: 0.39063242077827454\n",
      "epoch16, iter40, loss: 0.48617738485336304\n",
      "epoch16, iter50, loss: 0.2968974709510803\n",
      "Finish epoch 16, time elapsed 231.92948842048645\n",
      "in val\n"
     ]
    },
    {
     "name": "stderr",
     "output_type": "stream",
     "text": [
      "\r",
      " 57%|█████▋    | 17/30 [1:14:34<59:10, 273.11s/it]  "
     ]
    },
    {
     "name": "stdout",
     "output_type": "stream",
     "text": [
      "Loss at epoch: 16 is 0.355228915810585\n",
      "IoU at epoch: 16 is 0.46002977242748205\n",
      "Pixel acc at epoch: 16 is 0.8993186610085624\n",
      "epoch17, iter0, loss: 0.2796150743961334\n",
      "epoch17, iter10, loss: 0.4169434607028961\n",
      "epoch17, iter20, loss: 0.49219390749931335\n",
      "epoch17, iter30, loss: 0.4261273145675659\n",
      "epoch17, iter40, loss: 0.34251368045806885\n",
      "epoch17, iter50, loss: 0.5551913380622864\n",
      "Finish epoch 17, time elapsed 213.1531879901886\n",
      "in val\n",
      "Loss at epoch: 17 is 0.3466825123344149\n",
      "IoU at epoch: 17 is 0.5414331305767843\n",
      "Pixel acc at epoch: 17 is 0.8962416648864746\n"
     ]
    },
    {
     "name": "stderr",
     "output_type": "stream",
     "text": [
      "\r",
      " 60%|██████    | 18/30 [1:18:22<51:55, 259.60s/it]"
     ]
    },
    {
     "name": "stdout",
     "output_type": "stream",
     "text": [
      "epoch18, iter0, loss: 0.4020441770553589\n",
      "epoch18, iter10, loss: 0.942337691783905\n",
      "epoch18, iter20, loss: 0.29758790135383606\n",
      "epoch18, iter30, loss: 0.2835425138473511\n",
      "epoch18, iter40, loss: 0.6741276383399963\n",
      "epoch18, iter50, loss: 0.5595722794532776\n",
      "Finish epoch 18, time elapsed 210.24358487129211\n",
      "in val\n"
     ]
    },
    {
     "name": "stderr",
     "output_type": "stream",
     "text": [
      "\r",
      " 63%|██████▎   | 19/30 [1:22:09<45:47, 249.76s/it]"
     ]
    },
    {
     "name": "stdout",
     "output_type": "stream",
     "text": [
      "Loss at epoch: 18 is 0.4257662977491106\n",
      "IoU at epoch: 18 is 0.5293941379480419\n",
      "Pixel acc at epoch: 18 is 0.8782896995544434\n",
      "epoch19, iter0, loss: 0.4036504328250885\n",
      "epoch19, iter10, loss: 0.4262160062789917\n",
      "epoch19, iter20, loss: 0.40669578313827515\n",
      "epoch19, iter30, loss: 0.28191372752189636\n",
      "epoch19, iter40, loss: 0.8187721371650696\n",
      "epoch19, iter50, loss: 0.21323959529399872\n",
      "Finish epoch 19, time elapsed 203.75931644439697\n",
      "in val\n"
     ]
    },
    {
     "name": "stderr",
     "output_type": "stream",
     "text": [
      "\r",
      " 67%|██████▋   | 20/30 [1:25:48<40:05, 240.56s/it]"
     ]
    },
    {
     "name": "stdout",
     "output_type": "stream",
     "text": [
      "Loss at epoch: 19 is 0.3571188918181828\n",
      "IoU at epoch: 19 is 0.5332302038055209\n",
      "Pixel acc at epoch: 19 is 0.8925252386501857\n",
      "epoch20, iter0, loss: 0.24035538733005524\n",
      "epoch20, iter10, loss: 0.4091481566429138\n",
      "epoch20, iter20, loss: 0.29387393593788147\n",
      "epoch20, iter30, loss: 0.5343387722969055\n",
      "epoch20, iter40, loss: 0.2656501829624176\n",
      "epoch20, iter50, loss: 0.47518402338027954\n",
      "Finish epoch 20, time elapsed 204.52959513664246\n",
      "in val\n",
      "Loss at epoch: 20 is 0.3127161796603884\n",
      "IoU at epoch: 20 is 0.5765117456460722\n",
      "Pixel acc at epoch: 20 is 0.910632678440639\n"
     ]
    },
    {
     "name": "stderr",
     "output_type": "stream",
     "text": [
      "\r",
      " 70%|███████   | 21/30 [1:29:29<35:11, 234.60s/it]"
     ]
    },
    {
     "name": "stdout",
     "output_type": "stream",
     "text": [
      "epoch21, iter0, loss: 0.5178854465484619\n",
      "epoch21, iter10, loss: 0.5488660931587219\n",
      "epoch21, iter20, loss: 0.32005757093429565\n",
      "epoch21, iter30, loss: 0.36732789874076843\n",
      "epoch21, iter40, loss: 0.5053365230560303\n",
      "epoch21, iter50, loss: 0.4047340154647827\n",
      "Finish epoch 21, time elapsed 196.6337263584137\n",
      "in val\n"
     ]
    },
    {
     "name": "stderr",
     "output_type": "stream",
     "text": [
      "\r",
      " 73%|███████▎  | 22/30 [1:33:00<30:19, 227.48s/it]"
     ]
    },
    {
     "name": "stdout",
     "output_type": "stream",
     "text": [
      "Loss at epoch: 21 is 0.5018639032329831\n",
      "IoU at epoch: 21 is 0.3813114193811392\n",
      "Pixel acc at epoch: 21 is 0.9022716794695173\n",
      "epoch22, iter0, loss: 0.3376021385192871\n",
      "epoch22, iter10, loss: 0.4627966284751892\n",
      "epoch22, iter20, loss: 0.3121308386325836\n",
      "epoch22, iter30, loss: 0.26963916420936584\n",
      "epoch22, iter40, loss: 0.4336010217666626\n",
      "epoch22, iter50, loss: 0.7043262720108032\n"
     ]
    }
   ],
   "source": [
    "#hyper param\n",
    "epochs = 30   \n",
    "lr = 0.0004\n",
    "# criterion = nn.CrossEntropyLoss(weight=class_weights, reduction=\"mean\")# Choose an appropriate loss function from https://pytorch.org/docs/stable/_modules/torch/nn/modules/loss.html\n",
    "criterion = nn.CrossEntropyLoss()\n",
    "n_class = 10\n",
    "\n",
    "print(\"creating model...\")\n",
    "fcn_model = TL_FCN(n_class=n_class)\n",
    "fcn_model.apply(init_weights)\n",
    "\n",
    "# gpu\n",
    "gpu_status = torch.cuda.is_available()\n",
    "print(\"GPU:\", gpu_status)\n",
    "\n",
    "if gpu_status : \n",
    "    device = torch.device('cuda') # determine which device to use (gpu or cpu)\n",
    "else : \n",
    "    device = torch.device('cpu')\n",
    "\n",
    "fcn_model.to(device)\n",
    "    \n",
    "print(\"Training...\")\n",
    "val(fcn_model, 0)  # show the accuracy before training\n",
    "model_name=\"latest_model_5b\"\n",
    "train_loss_record, valid_loss_record = train(fcn_model, epochs,lr, save_fp=model_name) "
   ]
  },
  {
   "cell_type": "code",
   "execution_count": null,
   "metadata": {},
   "outputs": [],
   "source": [
    "latest_fcn_model = torch.load(model_name)\n",
    "latest_fcn_model.to(device)\n",
    "test(latest_fcn_model)"
   ]
  },
  {
   "cell_type": "code",
   "execution_count": null,
   "metadata": {},
   "outputs": [],
   "source": [
    "# Plot\n",
    "plt.plot(np.arange(epochs), train_loss_record, label= \"Training Loss\")\n",
    "plt.plot(np.arange(epochs), valid_loss_record, label=\"Validation Loss\")\n",
    "plt.xlabel(\"Epoches\")\n",
    "plt.ylabel(\"Loss\")\n",
    "plt.legend()\n",
    "plt.title(\"5(b) Transfer Learning w/ Resnet34 Replacing Encoder in FCN\")\n",
    "plt.savefig(\"plots/Q5_b\")\n",
    "plt.show()"
   ]
  },
  {
   "cell_type": "code",
   "execution_count": null,
   "metadata": {},
   "outputs": [],
   "source": [
    "test_dataset = TASDataset('tas500v1.1', eval_mode=True, mode='test')\n",
    "test_loader = DataLoader(dataset=test_dataset, batch_size= batch_size, shuffle=False)\n",
    "visualize(\"latest_model_5b\", test_loader)"
   ]
  },
  {
   "cell_type": "code",
   "execution_count": null,
   "metadata": {},
   "outputs": [],
   "source": []
  }
 ],
 "metadata": {
  "interpreter": {
   "hash": "005f4ed24810181fa8b2266ec303702d6575bedfaa41c7848d327e7f780b3129"
  },
  "kernelspec": {
   "display_name": "Python 3 (ipykernel)",
   "language": "python",
   "name": "python3"
  },
  "language_info": {
   "codemirror_mode": {
    "name": "ipython",
    "version": 3
   },
   "file_extension": ".py",
   "mimetype": "text/x-python",
   "name": "python",
   "nbconvert_exporter": "python",
   "pygments_lexer": "ipython3",
   "version": "3.9.5"
  }
 },
 "nbformat": 4,
 "nbformat_minor": 2
}
