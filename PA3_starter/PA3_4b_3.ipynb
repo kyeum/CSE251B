{
 "cells": [
  {
   "cell_type": "markdown",
   "metadata": {},
   "source": [
    "## Classification (PA3.4b)"
   ]
  },
  {
   "cell_type": "code",
   "execution_count": 2,
   "metadata": {},
   "outputs": [],
   "source": [
    "## Data generation"
   ]
  },
  {
   "cell_type": "code",
   "execution_count": 4,
   "metadata": {},
   "outputs": [
    {
     "name": "stdout",
     "output_type": "stream",
     "text": [
      "in starter_4\n",
      "GPU_STATUS: True\n"
     ]
    }
   ],
   "source": [
    "from basic_fcn import *\n",
    "from utils import *\n",
    "import torch.optim as optim\n",
    "import time\n",
    "from torch.utils.data import DataLoader\n",
    "import torch\n",
    "import gc\n",
    "import copy\n",
    "from dataloader_4 import *\n",
    "from starter_4 import *\n",
    "\n",
    "\n",
    "class DiceBCELoss(nn.Module):\n",
    "    def __init__(self, weight=None, size_average=True):\n",
    "        super(DiceBCELoss, self).__init__()\n",
    "\n",
    "    def forward(self, inputs, targets, smooth=1):\n",
    "        \n",
    "        #comment out if your model contains a sigmoid or equivalent activation layer\n",
    "        _input = F.sigmoid(_input)       \n",
    "        _input = _input.view(-1) #flatten\n",
    "        _tar = _tar.view(-1) #flatten\n",
    "        dice_loss = 1 - (2.*(_input * _tar).sum() + smooth)/(inputs.sum() + targets.sum() + smooth) # A & B / A + B  \n",
    "        Dice_BCE = F.binary_cross_entropy(inputs, targets, reduction='mean') + dice_loss\n",
    "        return Dice_BCE\n",
    "    \n",
    "    "
   ]
  },
  {
   "cell_type": "code",
   "execution_count": 5,
   "metadata": {},
   "outputs": [],
   "source": [
    "class_weights = torch.FloatTensor([1.7796e-01, 6.1295e-01, 4.1182e-02, 8.9837e-03, 1.0163e-01, 6.8722e-03,\n",
    "        1.4485e-03, 1.5937e-04, 4.7746e-02, 1.0698e-03])"
   ]
  },
  {
   "cell_type": "code",
   "execution_count": null,
   "metadata": {},
   "outputs": [],
   "source": [
    "# def compute_class_weights(dataloader):\n",
    "#     # Labels: batch_size x height x width\n",
    "#     total_num_pixels = 0\n",
    "#     n_class = 10\n",
    "#     class_weights = torch.zeros(n_class)\n",
    "#     for i, (inputs, labels) in enumerate(dataloader):\n",
    "#         total_num_pixels += labels.shape[0] * labels.shape[1] * labels.shape[2]\n",
    "#         for cur_class in range(n_class):\n",
    "#             class_weights[cur_class] += torch.sum(labels == cur_class)\n",
    "#         print(\"SANITY CHECK:\", total_num_pixels, class_weights.sum())\n",
    "#         print(\"class_weights:\", class_weights)\n",
    "        \n",
    "#     return class_weights / total_num_pixels"
   ]
  },
  {
   "cell_type": "code",
   "execution_count": null,
   "metadata": {},
   "outputs": [],
   "source": [
    "# train_dataset_original_1 = TASDataset('tas500v1.1') \n",
    "# train_loader_1 = DataLoader(dataset=train_dataset_original_1, batch_size= 16, shuffle=False)\n",
    "\n",
    "# class_weights = compute_class_weights(train_loader_1)\n",
    "# print(class_weights)"
   ]
  },
  {
   "cell_type": "code",
   "execution_count": 7,
   "metadata": {},
   "outputs": [
    {
     "name": "stdout",
     "output_type": "stream",
     "text": [
      "creating model...\n",
      "GPU: True\n",
      "Training...\n",
      "in val\n"
     ]
    },
    {
     "name": "stderr",
     "output_type": "stream",
     "text": [
      "C:\\ProgramData\\Anaconda3\\lib\\site-packages\\torchvision\\transforms\\functional.py:126: UserWarning: The given NumPy array is not writeable, and PyTorch does not support non-writeable tensors. This means you can write to the underlying (supposedly non-writeable) NumPy array using the tensor. You may want to copy the array to protect its data or make it writeable before converting it to a tensor. This type of warning will be suppressed for the rest of this program. (Triggered internally at  ..\\torch\\csrc\\utils\\tensor_numpy.cpp:189.)\n",
      "  img = torch.from_numpy(pic.transpose((2, 0, 1))).contiguous()\n",
      "  0%|          | 0/50 [00:00<?, ?it/s]"
     ]
    },
    {
     "name": "stdout",
     "output_type": "stream",
     "text": [
      "Loss at epoch: 0 is 3.321566275187901\n",
      "IoU at epoch: 0 is 0.014685864148496769\n",
      "Pixel acc at epoch: 0 is 0.05670505655663354\n",
      "in train\n",
      "epoch0, iter0, loss: 3.9393436908721924\n",
      "epoch0, iter10, loss: 3.674466848373413\n",
      "epoch0, iter20, loss: 3.2582168579101562\n",
      "epoch0, iter30, loss: 2.60577654838562\n",
      "epoch0, iter40, loss: 2.450064182281494\n",
      "epoch0, iter50, loss: 2.091357707977295\n",
      "Finish epoch 0, time elapsed 75.4525454044342\n",
      "in val\n"
     ]
    },
    {
     "name": "stderr",
     "output_type": "stream",
     "text": [
      "  2%|▏         | 1/50 [01:21<1:06:51, 81.87s/it]"
     ]
    },
    {
     "name": "stdout",
     "output_type": "stream",
     "text": [
      "Loss at epoch: 0 is 2.4902922766549245\n",
      "IoU at epoch: 0 is 0.06803297427408296\n",
      "Pixel acc at epoch: 0 is 0.29876876941749025\n",
      "epoch1, iter0, loss: 2.571995735168457\n",
      "epoch1, iter10, loss: 2.2792084217071533\n",
      "epoch1, iter20, loss: 2.0594358444213867\n",
      "epoch1, iter30, loss: 2.506227731704712\n",
      "epoch1, iter40, loss: 1.6626149415969849\n",
      "epoch1, iter50, loss: 2.0083227157592773\n",
      "Finish epoch 1, time elapsed 74.12716603279114\n",
      "in val\n"
     ]
    },
    {
     "name": "stderr",
     "output_type": "stream",
     "text": [
      "  4%|▍         | 2/50 [02:41<1:05:03, 81.33s/it]"
     ]
    },
    {
     "name": "stdout",
     "output_type": "stream",
     "text": [
      "Loss at epoch: 1 is 1.8321059771946497\n",
      "IoU at epoch: 1 is 0.14110202233601213\n",
      "Pixel acc at epoch: 1 is 0.5314826198986599\n",
      "epoch2, iter0, loss: 1.6742262840270996\n",
      "epoch2, iter10, loss: 1.2594866752624512\n",
      "epoch2, iter20, loss: 1.470660924911499\n",
      "epoch2, iter30, loss: 1.881674885749817\n",
      "epoch2, iter40, loss: 1.1918063163757324\n",
      "epoch2, iter50, loss: 1.949898362159729\n",
      "Finish epoch 2, time elapsed 79.35626029968262\n",
      "in val\n"
     ]
    },
    {
     "name": "stderr",
     "output_type": "stream",
     "text": [
      "  6%|▌         | 3/50 [04:07<1:04:46, 82.69s/it]"
     ]
    },
    {
     "name": "stdout",
     "output_type": "stream",
     "text": [
      "Loss at epoch: 2 is 1.8622623511723109\n",
      "IoU at epoch: 2 is 0.2036156526448225\n",
      "Pixel acc at epoch: 2 is 0.7100598471505302\n",
      "epoch3, iter0, loss: 1.285456657409668\n",
      "epoch3, iter10, loss: 1.6052474975585938\n",
      "epoch3, iter20, loss: 1.0138254165649414\n",
      "epoch3, iter30, loss: 1.2500081062316895\n",
      "epoch3, iter40, loss: 1.0733312368392944\n",
      "epoch3, iter50, loss: 1.2181363105773926\n",
      "Finish epoch 3, time elapsed 77.43986868858337\n",
      "in val\n"
     ]
    },
    {
     "name": "stderr",
     "output_type": "stream",
     "text": [
      "  8%|▊         | 4/50 [05:31<1:03:41, 83.08s/it]"
     ]
    },
    {
     "name": "stdout",
     "output_type": "stream",
     "text": [
      "Loss at epoch: 3 is 1.5005828312465124\n",
      "IoU at epoch: 3 is 0.24650460109506492\n",
      "Pixel acc at epoch: 3 is 0.7435062953404018\n",
      "epoch4, iter0, loss: 1.5727585554122925\n",
      "epoch4, iter10, loss: 1.4783456325531006\n",
      "epoch4, iter20, loss: 1.601751685142517\n",
      "epoch4, iter30, loss: 1.3809809684753418\n",
      "epoch4, iter40, loss: 1.1775139570236206\n",
      "epoch4, iter50, loss: 1.031408429145813\n",
      "Finish epoch 4, time elapsed 73.0032856464386\n",
      "in val\n"
     ]
    },
    {
     "name": "stderr",
     "output_type": "stream",
     "text": [
      " 10%|█         | 5/50 [06:50<1:01:24, 81.89s/it]"
     ]
    },
    {
     "name": "stdout",
     "output_type": "stream",
     "text": [
      "Loss at epoch: 4 is 1.0068811348506383\n",
      "IoU at epoch: 4 is 0.3398312060919018\n",
      "Pixel acc at epoch: 4 is 0.8005556634494236\n",
      "epoch5, iter0, loss: 1.3871885538101196\n",
      "epoch5, iter10, loss: 1.351478934288025\n",
      "epoch5, iter20, loss: 1.144163966178894\n",
      "epoch5, iter30, loss: 0.7687044739723206\n",
      "epoch5, iter40, loss: 1.2325612306594849\n",
      "epoch5, iter50, loss: 0.7668262124061584\n",
      "Finish epoch 5, time elapsed 73.0217878818512\n",
      "in val\n"
     ]
    },
    {
     "name": "stderr",
     "output_type": "stream",
     "text": [
      " 12%|█▏        | 6/50 [08:10<59:26, 81.05s/it]  "
     ]
    },
    {
     "name": "stdout",
     "output_type": "stream",
     "text": [
      "Loss at epoch: 5 is 0.895523726940155\n",
      "IoU at epoch: 5 is 0.3465027903987628\n",
      "Pixel acc at epoch: 5 is 0.8100235121590751\n",
      "epoch6, iter0, loss: 0.7651640772819519\n",
      "epoch6, iter10, loss: 0.7706091403961182\n",
      "epoch6, iter20, loss: 1.2442032098770142\n",
      "epoch6, iter30, loss: 0.9284459352493286\n",
      "epoch6, iter40, loss: 0.9619309306144714\n",
      "epoch6, iter50, loss: 0.5429534912109375\n",
      "Finish epoch 6, time elapsed 73.68550324440002\n",
      "in val\n"
     ]
    },
    {
     "name": "stderr",
     "output_type": "stream",
     "text": [
      " 14%|█▍        | 7/50 [09:29<57:50, 80.71s/it]"
     ]
    },
    {
     "name": "stdout",
     "output_type": "stream",
     "text": [
      "Loss at epoch: 6 is 0.7841242040906634\n",
      "IoU at epoch: 6 is 0.352635982668413\n",
      "Pixel acc at epoch: 6 is 0.8115989225251334\n",
      "epoch7, iter0, loss: 0.6646289825439453\n",
      "epoch7, iter10, loss: 0.8897161483764648\n",
      "epoch7, iter20, loss: 0.8193188309669495\n",
      "epoch7, iter30, loss: 0.6150012016296387\n",
      "epoch7, iter40, loss: 1.0114936828613281\n",
      "epoch7, iter50, loss: 0.6333462595939636\n",
      "Finish epoch 7, time elapsed 75.85739421844482\n",
      "in val\n"
     ]
    },
    {
     "name": "stderr",
     "output_type": "stream",
     "text": [
      " 16%|█▌        | 8/50 [10:52<56:49, 81.19s/it]"
     ]
    },
    {
     "name": "stdout",
     "output_type": "stream",
     "text": [
      "Loss at epoch: 7 is 0.7304615037781852\n",
      "IoU at epoch: 7 is 0.3695555526294371\n",
      "Pixel acc at epoch: 7 is 0.8050616468702044\n",
      "epoch8, iter0, loss: 0.8884761333465576\n",
      "epoch8, iter10, loss: 0.5700269937515259\n",
      "epoch8, iter20, loss: 0.7110351324081421\n",
      "epoch8, iter30, loss: 0.5850161910057068\n",
      "epoch8, iter40, loss: 0.5634952783584595\n",
      "epoch8, iter50, loss: 0.44876208901405334\n",
      "Finish epoch 8, time elapsed 79.211594581604\n",
      "in val\n"
     ]
    },
    {
     "name": "stderr",
     "output_type": "stream",
     "text": [
      " 18%|█▊        | 9/50 [12:17<56:20, 82.46s/it]"
     ]
    },
    {
     "name": "stdout",
     "output_type": "stream",
     "text": [
      "Loss at epoch: 8 is 0.9885282601628985\n",
      "IoU at epoch: 8 is 0.3347596183763458\n",
      "Pixel acc at epoch: 8 is 0.7470917957169669\n",
      "epoch9, iter0, loss: 0.8885407447814941\n",
      "epoch9, iter10, loss: 0.755207896232605\n",
      "epoch9, iter20, loss: 0.6025305986404419\n",
      "epoch9, iter30, loss: 0.5450642704963684\n",
      "epoch9, iter40, loss: 0.6313868761062622\n",
      "epoch9, iter50, loss: 0.5176193118095398\n",
      "Finish epoch 9, time elapsed 74.98027062416077\n",
      "in val\n"
     ]
    },
    {
     "name": "stderr",
     "output_type": "stream",
     "text": [
      " 20%|██        | 10/50 [13:38<54:43, 82.09s/it]"
     ]
    },
    {
     "name": "stdout",
     "output_type": "stream",
     "text": [
      "Loss at epoch: 9 is 0.6111382033143725\n",
      "IoU at epoch: 9 is 0.3779855618282916\n",
      "Pixel acc at epoch: 9 is 0.8199813791683742\n",
      "epoch10, iter0, loss: 0.5442741513252258\n",
      "epoch10, iter10, loss: 0.6384108066558838\n",
      "epoch10, iter20, loss: 0.5537407994270325\n",
      "epoch10, iter30, loss: 0.6218621730804443\n",
      "epoch10, iter40, loss: 1.0986180305480957\n",
      "epoch10, iter50, loss: 0.893728494644165\n",
      "Finish epoch 10, time elapsed 75.17122840881348\n",
      "in val\n"
     ]
    },
    {
     "name": "stderr",
     "output_type": "stream",
     "text": [
      " 22%|██▏       | 11/50 [15:00<53:12, 81.86s/it]"
     ]
    },
    {
     "name": "stdout",
     "output_type": "stream",
     "text": [
      "Loss at epoch: 10 is 0.8593717983790806\n",
      "IoU at epoch: 10 is 0.29703739769239396\n",
      "Pixel acc at epoch: 10 is 0.7521985598972866\n",
      "epoch11, iter0, loss: 0.6572786569595337\n",
      "epoch11, iter10, loss: 0.7126659154891968\n",
      "epoch11, iter20, loss: 0.7275718450546265\n",
      "epoch11, iter30, loss: 0.8288561105728149\n",
      "epoch11, iter40, loss: 0.3183968961238861\n",
      "epoch11, iter50, loss: 0.5829915404319763\n",
      "Finish epoch 11, time elapsed 78.15950083732605\n",
      "in val\n"
     ]
    },
    {
     "name": "stderr",
     "output_type": "stream",
     "text": [
      " 24%|██▍       | 12/50 [16:24<52:22, 82.69s/it]"
     ]
    },
    {
     "name": "stdout",
     "output_type": "stream",
     "text": [
      "Loss at epoch: 11 is 0.5861710820879255\n",
      "IoU at epoch: 11 is 0.3869221650954661\n",
      "Pixel acc at epoch: 11 is 0.8283674716949463\n",
      "epoch12, iter0, loss: 0.4949144124984741\n",
      "epoch12, iter10, loss: 0.6557002663612366\n",
      "epoch12, iter20, loss: 0.5531312227249146\n",
      "epoch12, iter30, loss: 0.53226637840271\n",
      "epoch12, iter40, loss: 0.7247958183288574\n",
      "epoch12, iter50, loss: 0.3935922086238861\n",
      "Finish epoch 12, time elapsed 76.99209642410278\n",
      "in val\n"
     ]
    },
    {
     "name": "stderr",
     "output_type": "stream",
     "text": [
      " 26%|██▌       | 13/50 [17:48<51:09, 82.96s/it]"
     ]
    },
    {
     "name": "stdout",
     "output_type": "stream",
     "text": [
      "Loss at epoch: 12 is 0.5123311706951686\n",
      "IoU at epoch: 12 is 0.4065902130936997\n",
      "Pixel acc at epoch: 12 is 0.8525694268090385\n",
      "epoch13, iter0, loss: 0.6552684307098389\n",
      "epoch13, iter10, loss: 0.4446946680545807\n",
      "epoch13, iter20, loss: 0.5323297381401062\n",
      "epoch13, iter30, loss: 0.5248453617095947\n",
      "epoch13, iter40, loss: 0.5527346134185791\n",
      "epoch13, iter50, loss: 0.5089161992073059\n",
      "Finish epoch 13, time elapsed 76.56582760810852\n",
      "in val\n"
     ]
    },
    {
     "name": "stderr",
     "output_type": "stream",
     "text": [
      " 28%|██▊       | 14/50 [19:11<49:44, 82.89s/it]"
     ]
    },
    {
     "name": "stdout",
     "output_type": "stream",
     "text": [
      "Loss at epoch: 13 is 0.5886476337909698\n",
      "IoU at epoch: 13 is 0.4091139775343421\n",
      "Pixel acc at epoch: 13 is 0.8374460509845189\n",
      "epoch14, iter0, loss: 0.4970286786556244\n",
      "epoch14, iter10, loss: 0.46238940954208374\n",
      "epoch14, iter20, loss: 0.44228309392929077\n",
      "epoch14, iter30, loss: 0.7823649644851685\n",
      "epoch14, iter40, loss: 0.8538339734077454\n",
      "epoch14, iter50, loss: 0.3519958555698395\n",
      "Finish epoch 14, time elapsed 75.59951782226562\n",
      "in val\n"
     ]
    },
    {
     "name": "stderr",
     "output_type": "stream",
     "text": [
      " 30%|███       | 15/50 [20:33<48:10, 82.59s/it]"
     ]
    },
    {
     "name": "stdout",
     "output_type": "stream",
     "text": [
      "Loss at epoch: 14 is 0.4838204639298575\n",
      "IoU at epoch: 14 is 0.42779862454762985\n",
      "Pixel acc at epoch: 14 is 0.8609257425580706\n",
      "epoch15, iter0, loss: 0.7436201572418213\n",
      "epoch15, iter10, loss: 0.5795924663543701\n",
      "epoch15, iter20, loss: 0.40453118085861206\n",
      "epoch15, iter30, loss: 0.6085328459739685\n",
      "epoch15, iter40, loss: 0.2760612666606903\n",
      "epoch15, iter50, loss: 0.6601355075836182\n",
      "Finish epoch 15, time elapsed 74.99414825439453\n",
      "in val\n"
     ]
    },
    {
     "name": "stderr",
     "output_type": "stream",
     "text": [
      " 32%|███▏      | 16/50 [21:54<46:35, 82.21s/it]"
     ]
    },
    {
     "name": "stdout",
     "output_type": "stream",
     "text": [
      "Loss at epoch: 15 is 0.4516797832080296\n",
      "IoU at epoch: 15 is 0.4150253660267308\n",
      "Pixel acc at epoch: 15 is 0.8615717376981463\n",
      "epoch16, iter0, loss: 0.5510327219963074\n",
      "epoch16, iter10, loss: 0.3560994863510132\n",
      "epoch16, iter20, loss: 0.4586387276649475\n",
      "epoch16, iter30, loss: 0.39958545565605164\n",
      "epoch16, iter40, loss: 0.7506498098373413\n",
      "epoch16, iter50, loss: 0.7989782691001892\n",
      "Finish epoch 16, time elapsed 73.93369054794312\n",
      "in val\n"
     ]
    },
    {
     "name": "stderr",
     "output_type": "stream",
     "text": [
      " 34%|███▍      | 17/50 [23:14<44:51, 81.57s/it]"
     ]
    },
    {
     "name": "stdout",
     "output_type": "stream",
     "text": [
      "Loss at epoch: 16 is 0.6471117564610073\n",
      "IoU at epoch: 16 is 0.3675051590183838\n",
      "Pixel acc at epoch: 16 is 0.8063857895987374\n",
      "epoch17, iter0, loss: 0.4980112612247467\n",
      "epoch17, iter10, loss: 0.4142674207687378\n",
      "epoch17, iter20, loss: 0.5923665761947632\n",
      "epoch17, iter30, loss: 0.6233412623405457\n",
      "epoch17, iter40, loss: 0.5658032298088074\n",
      "epoch17, iter50, loss: 0.42915087938308716\n",
      "Finish epoch 17, time elapsed 74.3852436542511\n",
      "in val\n"
     ]
    },
    {
     "name": "stderr",
     "output_type": "stream",
     "text": [
      " 36%|███▌      | 18/50 [24:35<43:21, 81.30s/it]"
     ]
    },
    {
     "name": "stdout",
     "output_type": "stream",
     "text": [
      "Loss at epoch: 17 is 0.548723395381655\n",
      "IoU at epoch: 17 is 0.42601085406431904\n",
      "Pixel acc at epoch: 17 is 0.8328199301447187\n",
      "epoch18, iter0, loss: 0.7707903385162354\n",
      "epoch18, iter10, loss: 0.43630215525627136\n",
      "epoch18, iter20, loss: 0.602228581905365\n",
      "epoch18, iter30, loss: 0.2949623167514801\n",
      "epoch18, iter40, loss: 0.7242302298545837\n",
      "epoch18, iter50, loss: 0.8370937705039978\n",
      "Finish epoch 18, time elapsed 74.11542677879333\n",
      "in val\n"
     ]
    },
    {
     "name": "stderr",
     "output_type": "stream",
     "text": [
      " 38%|███▊      | 19/50 [25:55<41:50, 80.98s/it]"
     ]
    },
    {
     "name": "stdout",
     "output_type": "stream",
     "text": [
      "Loss at epoch: 18 is 0.5311918173517499\n",
      "IoU at epoch: 18 is 0.3977322709132937\n",
      "Pixel acc at epoch: 18 is 0.828478217124939\n",
      "epoch19, iter0, loss: 0.31700941920280457\n",
      "epoch19, iter10, loss: 0.4635941684246063\n",
      "epoch19, iter20, loss: 0.3650335371494293\n",
      "epoch19, iter30, loss: 0.5197258591651917\n",
      "epoch19, iter40, loss: 0.44863441586494446\n",
      "epoch19, iter50, loss: 0.2800869345664978\n",
      "Finish epoch 19, time elapsed 74.86333107948303\n",
      "in val\n"
     ]
    },
    {
     "name": "stderr",
     "output_type": "stream",
     "text": [
      " 40%|████      | 20/50 [27:16<40:31, 81.04s/it]"
     ]
    },
    {
     "name": "stdout",
     "output_type": "stream",
     "text": [
      "Loss at epoch: 19 is 0.41272558910506113\n",
      "IoU at epoch: 19 is 0.439747575049599\n",
      "Pixel acc at epoch: 19 is 0.8695198978696551\n",
      "epoch20, iter0, loss: 0.323944091796875\n",
      "epoch20, iter10, loss: 0.29847562313079834\n",
      "epoch20, iter20, loss: 0.33772802352905273\n",
      "epoch20, iter30, loss: 0.5213465094566345\n",
      "epoch20, iter40, loss: 0.3183867037296295\n",
      "epoch20, iter50, loss: 0.8488842248916626\n",
      "Finish epoch 20, time elapsed 79.83994770050049\n",
      "in val\n"
     ]
    },
    {
     "name": "stderr",
     "output_type": "stream",
     "text": [
      " 42%|████▏     | 21/50 [28:42<39:56, 82.62s/it]"
     ]
    },
    {
     "name": "stdout",
     "output_type": "stream",
     "text": [
      "Loss at epoch: 20 is 0.5202553570270538\n",
      "IoU at epoch: 20 is 0.41544377899818735\n",
      "Pixel acc at epoch: 20 is 0.827054500579834\n",
      "epoch21, iter0, loss: 0.5330156683921814\n",
      "epoch21, iter10, loss: 0.595964789390564\n",
      "epoch21, iter20, loss: 0.4905282258987427\n",
      "epoch21, iter30, loss: 0.3060833215713501\n",
      "epoch21, iter40, loss: 0.29280802607536316\n",
      "epoch21, iter50, loss: 0.4523792266845703\n",
      "Finish epoch 21, time elapsed 78.1992712020874\n",
      "in val\n"
     ]
    },
    {
     "name": "stderr",
     "output_type": "stream",
     "text": [
      " 44%|████▍     | 22/50 [30:07<38:47, 83.14s/it]"
     ]
    },
    {
     "name": "stdout",
     "output_type": "stream",
     "text": [
      "Loss at epoch: 21 is 0.4795070162841252\n",
      "IoU at epoch: 21 is 0.4046234103776182\n",
      "Pixel acc at epoch: 21 is 0.8489945360592434\n",
      "epoch22, iter0, loss: 0.2955222725868225\n",
      "epoch22, iter10, loss: 0.7008066773414612\n",
      "epoch22, iter20, loss: 0.7804352045059204\n",
      "epoch22, iter30, loss: 0.3856888711452484\n",
      "epoch22, iter40, loss: 0.36378538608551025\n",
      "epoch22, iter50, loss: 0.42061227560043335\n",
      "Finish epoch 22, time elapsed 76.33676886558533\n",
      "in val\n"
     ]
    },
    {
     "name": "stderr",
     "output_type": "stream",
     "text": [
      " 46%|████▌     | 23/50 [31:30<37:22, 83.05s/it]"
     ]
    },
    {
     "name": "stdout",
     "output_type": "stream",
     "text": [
      "Loss at epoch: 22 is 0.48256253770419527\n",
      "IoU at epoch: 22 is 0.4259467813822012\n",
      "Pixel acc at epoch: 22 is 0.8464310850415911\n",
      "epoch23, iter0, loss: 0.2622855007648468\n",
      "epoch23, iter10, loss: 0.6699007749557495\n",
      "epoch23, iter20, loss: 0.427971214056015\n",
      "epoch23, iter30, loss: 0.39676758646965027\n",
      "epoch23, iter40, loss: 0.25934597849845886\n",
      "epoch23, iter50, loss: 0.4576551616191864\n",
      "Finish epoch 23, time elapsed 77.4080560207367\n",
      "in val\n"
     ]
    },
    {
     "name": "stderr",
     "output_type": "stream",
     "text": [
      " 48%|████▊     | 24/50 [32:53<36:06, 83.32s/it]"
     ]
    },
    {
     "name": "stdout",
     "output_type": "stream",
     "text": [
      "Loss at epoch: 23 is 0.38969978264399935\n",
      "IoU at epoch: 23 is 0.447334385350731\n",
      "Pixel acc at epoch: 23 is 0.8789028099605015\n",
      "epoch24, iter0, loss: 0.6031264662742615\n",
      "epoch24, iter10, loss: 0.3749309480190277\n",
      "epoch24, iter20, loss: 0.5325011610984802\n",
      "epoch24, iter30, loss: 0.3841038942337036\n",
      "epoch24, iter40, loss: 0.46511539816856384\n",
      "epoch24, iter50, loss: 0.4222327172756195\n",
      "Finish epoch 24, time elapsed 74.48687195777893\n",
      "in val\n"
     ]
    },
    {
     "name": "stderr",
     "output_type": "stream",
     "text": [
      " 50%|█████     | 25/50 [34:14<34:23, 82.56s/it]"
     ]
    },
    {
     "name": "stdout",
     "output_type": "stream",
     "text": [
      "Loss at epoch: 24 is 0.4079213035958154\n",
      "IoU at epoch: 24 is 0.44552661547642486\n",
      "Pixel acc at epoch: 24 is 0.8670158130781991\n",
      "epoch25, iter0, loss: 0.39559581875801086\n",
      "epoch25, iter10, loss: 0.33853694796562195\n",
      "epoch25, iter20, loss: 0.5650465488433838\n",
      "epoch25, iter30, loss: 0.45961517095565796\n",
      "epoch25, iter40, loss: 0.3412513732910156\n",
      "epoch25, iter50, loss: 0.22686293721199036\n",
      "Finish epoch 25, time elapsed 79.78228688240051\n",
      "in val\n"
     ]
    },
    {
     "name": "stderr",
     "output_type": "stream",
     "text": [
      " 52%|█████▏    | 26/50 [35:41<33:28, 83.70s/it]"
     ]
    },
    {
     "name": "stdout",
     "output_type": "stream",
     "text": [
      "Loss at epoch: 25 is 0.44011627776282175\n",
      "IoU at epoch: 25 is 0.47707554007259506\n",
      "Pixel acc at epoch: 25 is 0.8641709004129682\n",
      "epoch26, iter0, loss: 0.26452386379241943\n",
      "epoch26, iter10, loss: 0.5181050896644592\n",
      "epoch26, iter20, loss: 0.5790655612945557\n",
      "epoch26, iter30, loss: 0.3641333281993866\n",
      "epoch26, iter40, loss: 0.295716255903244\n",
      "epoch26, iter50, loss: 0.3033197522163391\n",
      "Finish epoch 26, time elapsed 78.03734993934631\n",
      "in val\n"
     ]
    },
    {
     "name": "stderr",
     "output_type": "stream",
     "text": [
      " 54%|█████▍    | 27/50 [37:05<32:10, 83.95s/it]"
     ]
    },
    {
     "name": "stdout",
     "output_type": "stream",
     "text": [
      "Loss at epoch: 26 is 0.3856256284884044\n",
      "IoU at epoch: 26 is 0.4776259514074477\n",
      "Pixel acc at epoch: 26 is 0.8695402485983712\n",
      "epoch27, iter0, loss: 0.395316481590271\n",
      "epoch27, iter10, loss: 0.32024967670440674\n",
      "epoch27, iter20, loss: 0.51969313621521\n",
      "epoch27, iter30, loss: 0.4160463809967041\n",
      "epoch27, iter40, loss: 0.36718857288360596\n",
      "epoch27, iter50, loss: 0.40589776635169983\n",
      "Finish epoch 27, time elapsed 79.09659743309021\n",
      "in val\n"
     ]
    },
    {
     "name": "stderr",
     "output_type": "stream",
     "text": [
      " 56%|█████▌    | 28/50 [38:31<30:56, 84.41s/it]"
     ]
    },
    {
     "name": "stdout",
     "output_type": "stream",
     "text": [
      "Loss at epoch: 27 is 0.3581384186233793\n",
      "IoU at epoch: 27 is 0.47088309637426085\n",
      "Pixel acc at epoch: 27 is 0.8828082851001194\n",
      "epoch28, iter0, loss: 0.31251776218414307\n",
      "epoch28, iter10, loss: 0.21837560832500458\n",
      "epoch28, iter20, loss: 0.1940135657787323\n",
      "epoch28, iter30, loss: 0.3033866286277771\n",
      "epoch28, iter40, loss: 0.2777146100997925\n",
      "epoch28, iter50, loss: 0.5398766398429871\n",
      "Finish epoch 28, time elapsed 80.1135413646698\n",
      "in val\n"
     ]
    },
    {
     "name": "stderr",
     "output_type": "stream",
     "text": [
      " 58%|█████▊    | 29/50 [39:58<29:52, 85.34s/it]"
     ]
    },
    {
     "name": "stdout",
     "output_type": "stream",
     "text": [
      "Loss at epoch: 28 is 0.3722927804504122\n",
      "IoU at epoch: 28 is 0.4951680322280034\n",
      "Pixel acc at epoch: 28 is 0.8811263867786953\n",
      "epoch29, iter0, loss: 0.2945062816143036\n",
      "epoch29, iter10, loss: 0.31318557262420654\n",
      "epoch29, iter20, loss: 0.14479896426200867\n",
      "epoch29, iter30, loss: 0.4515826404094696\n",
      "epoch29, iter40, loss: 0.5900130271911621\n",
      "epoch29, iter50, loss: 0.4384712278842926\n",
      "Finish epoch 29, time elapsed 74.5967903137207\n",
      "in val\n"
     ]
    },
    {
     "name": "stderr",
     "output_type": "stream",
     "text": [
      " 60%|██████    | 30/50 [41:19<27:59, 83.95s/it]"
     ]
    },
    {
     "name": "stdout",
     "output_type": "stream",
     "text": [
      "Loss at epoch: 29 is 0.33282760211399626\n",
      "IoU at epoch: 29 is 0.5081246747172877\n",
      "Pixel acc at epoch: 29 is 0.8897846937179565\n",
      "epoch30, iter0, loss: 0.38704824447631836\n",
      "epoch30, iter10, loss: 0.5247900485992432\n",
      "epoch30, iter20, loss: 0.32873713970184326\n",
      "epoch30, iter30, loss: 0.20832163095474243\n",
      "epoch30, iter40, loss: 0.23655983805656433\n",
      "epoch30, iter50, loss: 0.31069815158843994\n",
      "Finish epoch 30, time elapsed 73.55895614624023\n",
      "in val\n"
     ]
    },
    {
     "name": "stderr",
     "output_type": "stream",
     "text": [
      " 62%|██████▏   | 31/50 [42:38<26:10, 82.64s/it]"
     ]
    },
    {
     "name": "stdout",
     "output_type": "stream",
     "text": [
      "Loss at epoch: 30 is 0.31675398349761963\n",
      "IoU at epoch: 30 is 0.5116361950795902\n",
      "Pixel acc at epoch: 30 is 0.897051181112017\n",
      "epoch31, iter0, loss: 0.25540778040885925\n",
      "epoch31, iter10, loss: 0.312064528465271\n",
      "epoch31, iter20, loss: 0.42864084243774414\n",
      "epoch31, iter30, loss: 0.3837203085422516\n",
      "epoch31, iter40, loss: 0.2656381130218506\n",
      "epoch31, iter50, loss: 0.4286966621875763\n",
      "Finish epoch 31, time elapsed 73.7423768043518\n",
      "in val\n"
     ]
    },
    {
     "name": "stderr",
     "output_type": "stream",
     "text": [
      " 64%|██████▍   | 32/50 [43:58<24:32, 81.81s/it]"
     ]
    },
    {
     "name": "stdout",
     "output_type": "stream",
     "text": [
      "Loss at epoch: 31 is 0.35012068918773104\n",
      "IoU at epoch: 31 is 0.46689368939648074\n",
      "Pixel acc at epoch: 31 is 0.8881919128554208\n",
      "epoch32, iter0, loss: 0.1620665192604065\n",
      "epoch32, iter10, loss: 0.2889973223209381\n",
      "epoch32, iter20, loss: 0.554320752620697\n",
      "epoch32, iter30, loss: 0.3450426757335663\n",
      "epoch32, iter40, loss: 0.35378560423851013\n",
      "epoch32, iter50, loss: 0.24973705410957336\n",
      "Finish epoch 32, time elapsed 75.71071076393127\n",
      "in val\n"
     ]
    },
    {
     "name": "stderr",
     "output_type": "stream",
     "text": [
      " 66%|██████▌   | 33/50 [45:20<23:11, 81.83s/it]"
     ]
    },
    {
     "name": "stdout",
     "output_type": "stream",
     "text": [
      "Loss at epoch: 32 is 0.3503791264125279\n",
      "IoU at epoch: 32 is 0.5203514461246659\n",
      "Pixel acc at epoch: 32 is 0.8876421025821141\n",
      "epoch33, iter0, loss: 0.18919074535369873\n",
      "epoch33, iter10, loss: 0.3979915380477905\n",
      "epoch33, iter20, loss: 0.33740678429603577\n",
      "epoch33, iter30, loss: 0.2857869863510132\n",
      "epoch33, iter40, loss: 0.24988611042499542\n",
      "epoch33, iter50, loss: 0.21798653900623322\n",
      "Finish epoch 33, time elapsed 72.46478867530823\n",
      "in val\n"
     ]
    },
    {
     "name": "stderr",
     "output_type": "stream",
     "text": [
      " 68%|██████▊   | 34/50 [46:39<21:33, 80.83s/it]"
     ]
    },
    {
     "name": "stdout",
     "output_type": "stream",
     "text": [
      "Loss at epoch: 33 is 0.4100071404661451\n",
      "IoU at epoch: 33 is 0.49437044658614987\n",
      "Pixel acc at epoch: 33 is 0.8649738430976868\n",
      "epoch34, iter0, loss: 0.2463902086019516\n",
      "epoch34, iter10, loss: 0.5745569467544556\n",
      "epoch34, iter20, loss: 0.18385979533195496\n",
      "epoch34, iter30, loss: 0.5939906239509583\n",
      "epoch34, iter40, loss: 0.41548624634742737\n",
      "epoch34, iter50, loss: 0.37071752548217773\n",
      "Finish epoch 34, time elapsed 71.29658508300781\n",
      "in val\n"
     ]
    },
    {
     "name": "stderr",
     "output_type": "stream",
     "text": [
      " 70%|███████   | 35/50 [47:56<19:56, 79.74s/it]"
     ]
    },
    {
     "name": "stdout",
     "output_type": "stream",
     "text": [
      "Loss at epoch: 34 is 0.3199206973825182\n",
      "IoU at epoch: 34 is 0.49732052267063404\n",
      "Pixel acc at epoch: 34 is 0.8923626712390355\n",
      "epoch35, iter0, loss: 0.6158692240715027\n",
      "epoch35, iter10, loss: 0.26686012744903564\n",
      "epoch35, iter20, loss: 0.22813452780246735\n",
      "epoch35, iter30, loss: 0.3210585117340088\n",
      "epoch35, iter40, loss: 0.49173805117607117\n",
      "epoch35, iter50, loss: 0.3136996626853943\n",
      "Finish epoch 35, time elapsed 73.65487456321716\n",
      "in val\n"
     ]
    },
    {
     "name": "stderr",
     "output_type": "stream",
     "text": [
      " 72%|███████▏  | 36/50 [49:16<18:37, 79.80s/it]"
     ]
    },
    {
     "name": "stdout",
     "output_type": "stream",
     "text": [
      "Loss at epoch: 35 is 0.4228355033057077\n",
      "IoU at epoch: 35 is 0.4831625820571346\n",
      "Pixel acc at epoch: 35 is 0.870232914175306\n",
      "epoch36, iter0, loss: 0.3087923526763916\n",
      "epoch36, iter10, loss: 0.20426389575004578\n",
      "epoch36, iter20, loss: 0.38785335421562195\n",
      "epoch36, iter30, loss: 0.4252760112285614\n",
      "epoch36, iter40, loss: 0.1639430820941925\n",
      "epoch36, iter50, loss: 0.3249025344848633\n",
      "Finish epoch 36, time elapsed 78.08797669410706\n",
      "in val\n"
     ]
    },
    {
     "name": "stderr",
     "output_type": "stream",
     "text": [
      " 74%|███████▍  | 37/50 [50:40<17:35, 81.21s/it]"
     ]
    },
    {
     "name": "stdout",
     "output_type": "stream",
     "text": [
      "Loss at epoch: 36 is 0.3276106097868511\n",
      "IoU at epoch: 36 is 0.5162622958684103\n",
      "Pixel acc at epoch: 36 is 0.8862810134887695\n",
      "epoch37, iter0, loss: 0.26161229610443115\n",
      "epoch37, iter10, loss: 0.4133576452732086\n",
      "epoch37, iter20, loss: 0.31787243485450745\n",
      "epoch37, iter30, loss: 0.3286362290382385\n",
      "epoch37, iter40, loss: 0.25735726952552795\n",
      "epoch37, iter50, loss: 0.25404345989227295\n",
      "Finish epoch 37, time elapsed 77.80550122261047\n",
      "in val\n"
     ]
    },
    {
     "name": "stderr",
     "output_type": "stream",
     "text": [
      " 76%|███████▌  | 38/50 [52:04<16:24, 82.08s/it]"
     ]
    },
    {
     "name": "stdout",
     "output_type": "stream",
     "text": [
      "Loss at epoch: 37 is 0.3037891217640468\n",
      "IoU at epoch: 37 is 0.5190872686364436\n",
      "Pixel acc at epoch: 37 is 0.8992321831839425\n",
      "epoch38, iter0, loss: 0.2126738429069519\n",
      "epoch38, iter10, loss: 0.41828444600105286\n",
      "epoch38, iter20, loss: 0.3206903636455536\n",
      "epoch38, iter30, loss: 0.4097185730934143\n",
      "epoch38, iter40, loss: 0.4364253878593445\n",
      "epoch38, iter50, loss: 0.4509083926677704\n",
      "Finish epoch 38, time elapsed 78.13411450386047\n",
      "in val\n"
     ]
    },
    {
     "name": "stderr",
     "output_type": "stream",
     "text": [
      " 78%|███████▊  | 39/50 [53:29<15:10, 82.82s/it]"
     ]
    },
    {
     "name": "stdout",
     "output_type": "stream",
     "text": [
      "Loss at epoch: 38 is 0.31938510707446505\n",
      "IoU at epoch: 38 is 0.5204947095622802\n",
      "Pixel acc at epoch: 38 is 0.8907739179474967\n",
      "epoch39, iter0, loss: 0.38294845819473267\n",
      "epoch39, iter10, loss: 0.28856801986694336\n",
      "epoch39, iter20, loss: 0.28220993280410767\n",
      "epoch39, iter30, loss: 0.20666058361530304\n",
      "epoch39, iter40, loss: 0.2912713289260864\n",
      "epoch39, iter50, loss: 0.24506014585494995\n",
      "Finish epoch 39, time elapsed 77.80433225631714\n",
      "in val\n"
     ]
    },
    {
     "name": "stderr",
     "output_type": "stream",
     "text": [
      " 80%|████████  | 40/50 [54:53<13:52, 83.21s/it]"
     ]
    },
    {
     "name": "stdout",
     "output_type": "stream",
     "text": [
      "Loss at epoch: 39 is 0.32469684949942995\n",
      "IoU at epoch: 39 is 0.5254778918000133\n",
      "Pixel acc at epoch: 39 is 0.8945628319467817\n",
      "epoch40, iter0, loss: 0.5113272070884705\n",
      "epoch40, iter10, loss: 0.2672298848628998\n",
      "epoch40, iter20, loss: 0.2502087950706482\n",
      "epoch40, iter30, loss: 0.1989268958568573\n",
      "epoch40, iter40, loss: 0.4404377341270447\n",
      "epoch40, iter50, loss: 0.2520388662815094\n",
      "Finish epoch 40, time elapsed 78.49637174606323\n",
      "in val\n"
     ]
    },
    {
     "name": "stderr",
     "output_type": "stream",
     "text": [
      " 82%|████████▏ | 41/50 [56:18<12:33, 83.70s/it]"
     ]
    },
    {
     "name": "stdout",
     "output_type": "stream",
     "text": [
      "Loss at epoch: 40 is 0.39198448828288485\n",
      "IoU at epoch: 40 is 0.49546661852680646\n",
      "Pixel acc at epoch: 40 is 0.8650718927383423\n",
      "epoch41, iter0, loss: 0.25000059604644775\n",
      "epoch41, iter10, loss: 0.4138519763946533\n",
      "epoch41, iter20, loss: 0.22956980764865875\n",
      "epoch41, iter30, loss: 0.26897963881492615\n",
      "epoch41, iter40, loss: 0.4077777862548828\n",
      "epoch41, iter50, loss: 0.3226703405380249\n",
      "Finish epoch 41, time elapsed 77.57708096504211\n",
      "in val\n"
     ]
    },
    {
     "name": "stderr",
     "output_type": "stream",
     "text": [
      " 84%|████████▍ | 42/50 [57:42<11:10, 83.79s/it]"
     ]
    },
    {
     "name": "stdout",
     "output_type": "stream",
     "text": [
      "Loss at epoch: 41 is 0.326803269130843\n",
      "IoU at epoch: 41 is 0.5368858105488009\n",
      "Pixel acc at epoch: 41 is 0.8871127111571175\n",
      "epoch42, iter0, loss: 0.560253381729126\n",
      "epoch42, iter10, loss: 0.23310481011867523\n",
      "epoch42, iter20, loss: 0.34364598989486694\n",
      "epoch42, iter30, loss: 0.30552777647972107\n",
      "epoch42, iter40, loss: 0.2752901613712311\n",
      "epoch42, iter50, loss: 0.4065629243850708\n",
      "Finish epoch 42, time elapsed 78.41117596626282\n",
      "in val\n"
     ]
    },
    {
     "name": "stderr",
     "output_type": "stream",
     "text": [
      " 86%|████████▌ | 43/50 [59:07<09:48, 84.10s/it]"
     ]
    },
    {
     "name": "stdout",
     "output_type": "stream",
     "text": [
      "Loss at epoch: 42 is 0.3352879605122975\n",
      "IoU at epoch: 42 is 0.531799045105655\n",
      "Pixel acc at epoch: 42 is 0.8976515190941947\n",
      "epoch43, iter0, loss: 0.24858003854751587\n",
      "epoch43, iter10, loss: 0.4762318432331085\n",
      "epoch43, iter20, loss: 0.3084021210670471\n",
      "epoch43, iter30, loss: 0.3105943202972412\n",
      "epoch43, iter40, loss: 0.31028592586517334\n",
      "epoch43, iter50, loss: 0.3006097078323364\n",
      "Finish epoch 43, time elapsed 79.8606288433075\n",
      "in val\n"
     ]
    },
    {
     "name": "stderr",
     "output_type": "stream",
     "text": [
      " 88%|████████▊ | 44/50 [1:00:33<08:29, 84.86s/it]"
     ]
    },
    {
     "name": "stdout",
     "output_type": "stream",
     "text": [
      "Loss at epoch: 43 is 0.3209765830210277\n",
      "IoU at epoch: 43 is 0.5344975483964108\n",
      "Pixel acc at epoch: 43 is 0.8938813379832676\n",
      "epoch44, iter0, loss: 0.2801203727722168\n",
      "epoch44, iter10, loss: 0.19123929738998413\n",
      "epoch44, iter20, loss: 0.23072320222854614\n",
      "epoch44, iter30, loss: 0.23322871327400208\n",
      "epoch44, iter40, loss: 0.4218631386756897\n",
      "epoch44, iter50, loss: 0.5515995025634766\n",
      "Finish epoch 44, time elapsed 77.03807353973389\n",
      "in val\n"
     ]
    },
    {
     "name": "stderr",
     "output_type": "stream",
     "text": [
      " 90%|█████████ | 45/50 [1:01:57<07:01, 84.34s/it]"
     ]
    },
    {
     "name": "stdout",
     "output_type": "stream",
     "text": [
      "Loss at epoch: 44 is 0.355477654508182\n",
      "IoU at epoch: 44 is 0.45289047143702943\n",
      "Pixel acc at epoch: 44 is 0.8800858855247498\n",
      "epoch45, iter0, loss: 0.19499708712100983\n",
      "epoch45, iter10, loss: 0.2903940677642822\n",
      "epoch45, iter20, loss: 0.4428502321243286\n",
      "epoch45, iter30, loss: 0.20518505573272705\n",
      "epoch45, iter40, loss: 0.2342512309551239\n",
      "epoch45, iter50, loss: 0.16319477558135986\n",
      "Finish epoch 45, time elapsed 77.382577419281\n",
      "in val\n"
     ]
    },
    {
     "name": "stderr",
     "output_type": "stream",
     "text": [
      " 92%|█████████▏| 46/50 [1:03:20<05:36, 84.09s/it]"
     ]
    },
    {
     "name": "stdout",
     "output_type": "stream",
     "text": [
      "Loss at epoch: 45 is 0.29723629142556873\n",
      "IoU at epoch: 45 is 0.5461955141716837\n",
      "Pixel acc at epoch: 45 is 0.904332663331713\n",
      "epoch46, iter0, loss: 0.20909231901168823\n",
      "epoch46, iter10, loss: 0.30825504660606384\n",
      "epoch46, iter20, loss: 0.20258168876171112\n",
      "epoch46, iter30, loss: 0.259328156709671\n",
      "epoch46, iter40, loss: 0.3741762340068817\n",
      "epoch46, iter50, loss: 0.277010977268219\n",
      "Finish epoch 46, time elapsed 72.9973258972168\n",
      "in val\n"
     ]
    },
    {
     "name": "stderr",
     "output_type": "stream",
     "text": [
      " 94%|█████████▍| 47/50 [1:04:39<04:07, 82.55s/it]"
     ]
    },
    {
     "name": "stdout",
     "output_type": "stream",
     "text": [
      "Loss at epoch: 46 is 0.28253222363335745\n",
      "IoU at epoch: 46 is 0.5611544549086368\n",
      "Pixel acc at epoch: 46 is 0.9107079676219395\n",
      "epoch47, iter0, loss: 0.2602009177207947\n",
      "epoch47, iter10, loss: 0.21121174097061157\n",
      "epoch47, iter20, loss: 0.19579781591892242\n",
      "epoch47, iter30, loss: 0.3804429769515991\n",
      "epoch47, iter40, loss: 0.3093322217464447\n",
      "epoch47, iter50, loss: 0.2996349632740021\n",
      "Finish epoch 47, time elapsed 73.16690349578857\n",
      "in val\n"
     ]
    },
    {
     "name": "stderr",
     "output_type": "stream",
     "text": [
      " 96%|█████████▌| 48/50 [1:05:58<02:43, 81.59s/it]"
     ]
    },
    {
     "name": "stdout",
     "output_type": "stream",
     "text": [
      "Loss at epoch: 47 is 0.3073737174272537\n",
      "IoU at epoch: 47 is 0.5409657677188829\n",
      "Pixel acc at epoch: 47 is 0.8944725223949977\n",
      "epoch48, iter0, loss: 0.23145058751106262\n",
      "epoch48, iter10, loss: 0.20015288889408112\n",
      "epoch48, iter20, loss: 0.28337767720222473\n",
      "epoch48, iter30, loss: 0.29495662450790405\n",
      "epoch48, iter40, loss: 0.15953987836837769\n",
      "epoch48, iter50, loss: 0.21079343557357788\n",
      "Finish epoch 48, time elapsed 79.93658471107483\n",
      "in val\n"
     ]
    },
    {
     "name": "stderr",
     "output_type": "stream",
     "text": [
      " 98%|█████████▊| 49/50 [1:07:25<01:23, 83.07s/it]"
     ]
    },
    {
     "name": "stdout",
     "output_type": "stream",
     "text": [
      "Loss at epoch: 48 is 0.29773413496358053\n",
      "IoU at epoch: 48 is 0.5509513608633406\n",
      "Pixel acc at epoch: 48 is 0.9034655605043683\n",
      "epoch49, iter0, loss: 0.6003087759017944\n",
      "epoch49, iter10, loss: 0.24970602989196777\n",
      "epoch49, iter20, loss: 0.234039306640625\n",
      "epoch49, iter30, loss: 0.5224614143371582\n",
      "epoch49, iter40, loss: 0.4180141091346741\n",
      "epoch49, iter50, loss: 0.3293280005455017\n",
      "Finish epoch 49, time elapsed 80.02997279167175\n",
      "in val\n"
     ]
    },
    {
     "name": "stderr",
     "output_type": "stream",
     "text": [
      "100%|██████████| 50/50 [1:08:51<00:00, 82.64s/it]"
     ]
    },
    {
     "name": "stdout",
     "output_type": "stream",
     "text": [
      "Loss at epoch: 49 is 0.28244728062834057\n",
      "IoU at epoch: 49 is 0.5582278958440478\n",
      "Pixel acc at epoch: 49 is 0.9085554736001151\n"
     ]
    },
    {
     "name": "stderr",
     "output_type": "stream",
     "text": [
      "\n"
     ]
    }
   ],
   "source": [
    "\n",
    "dice = DiceBCELoss()    \n",
    "#hyper param\n",
    "epochs = 50   \n",
    "lr = 0.0004\n",
    "criterion = dice\n",
    "n_class = 10\n",
    "\n",
    "print(\"creating model...\")\n",
    "fcn_model = FCN(n_class=n_class)\n",
    "fcn_model.apply(init_weights)\n",
    "\n",
    "# gpu\n",
    "gpu_status = torch.cuda.is_available()\n",
    "print(\"GPU:\", gpu_status)\n",
    "\n",
    "if gpu_status : \n",
    "    device = torch.device('cuda') # determine which device to use (gpu or cpu)\n",
    "else : \n",
    "    device = torch.device('cpu')\n",
    "\n",
    "fcn_model.to(device)\n",
    "    \n",
    "print(\"Training...\")\n",
    "val(fcn_model, 0)  # show the accuracy before training\n",
    "model_name=\"latest_model_4b_BCE\"\n",
    "train_loss_record, valid_loss_record = train(fcn_model, epochs,lr, save_fp=model_name) "
   ]
  },
  {
   "cell_type": "code",
   "execution_count": 8,
   "metadata": {},
   "outputs": [
    {
     "data": {
      "image/png": "[encoded data removed]",
      "text/plain": [
       "<Figure size 432x288 with 1 Axes>"
      ]
     },
     "metadata": {
      "needs_background": "light"
     },
     "output_type": "display_data"
    }
   ],
   "source": [
    "# Plot\n",
    "plt.plot(np.arange(epochs), train_loss_record, label= \"Training Loss\")\n",
    "plt.plot(np.arange(epochs), valid_loss_record, label=\"Validation Loss\")\n",
    "plt.xlabel(\"Epoches\")\n",
    "plt.ylabel(\"Loss\")\n",
    "plt.legend()\n",
    "plt.title(\"4(b)-2 BCE loss\")\n",
    "plt.savefig(\"plots/Q4_b2\")\n",
    "plt.show()"
   ]
  },
  {
   "cell_type": "code",
   "execution_count": null,
   "metadata": {},
   "outputs": [],
   "source": []
  }
 ],
 "metadata": {
  "interpreter": {
   "hash": "005f4ed24810181fa8b2266ec303702d6575bedfaa41c7848d327e7f780b3129"
  },
  "kernelspec": {
   "display_name": "Python 3 (ipykernel)",
   "language": "python",
   "name": "python3"
  },
  "language_info": {
   "codemirror_mode": {
    "name": "ipython",
    "version": 3
   },
   "file_extension": ".py",
   "mimetype": "text/x-python",
   "name": "python",
   "nbconvert_exporter": "python",
   "pygments_lexer": "ipython3",
   "version": "3.8.3"
  }
 },
 "nbformat": 4,
 "nbformat_minor": 2
}
