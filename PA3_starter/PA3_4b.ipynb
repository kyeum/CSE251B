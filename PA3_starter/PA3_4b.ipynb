{
 "cells": [
  {
   "cell_type": "markdown",
   "metadata": {},
   "source": [
    "## Classification (PA3.4b)"
   ]
  },
  {
   "cell_type": "code",
   "execution_count": 1,
   "metadata": {},
   "outputs": [],
   "source": [
    "## Data generation"
   ]
  },
  {
   "cell_type": "code",
   "execution_count": 2,
   "metadata": {},
   "outputs": [
    {
     "name": "stdout",
     "output_type": "stream",
     "text": [
      "in starter_4\n",
      "GPU_STATUS: True\n"
     ]
    }
   ],
   "source": [
    "from basic_fcn import *\n",
    "from utils import *\n",
    "import torch.optim as optim\n",
    "import time\n",
    "from torch.utils.data import DataLoader\n",
    "import torch\n",
    "import gc\n",
    "import copy\n",
    "from dataloader_4 import *\n",
    "from starter_4 import *"
   ]
  },
  {
   "cell_type": "code",
   "execution_count": 3,
   "metadata": {},
   "outputs": [],
   "source": [
    "class_weights = torch.FloatTensor([1.7796e-01, 6.1295e-01, 4.1182e-02, 8.9837e-03, 1.0163e-01, 6.8722e-03,\n",
    "        1.4485e-03, 1.5937e-04, 4.7746e-02, 1.0698e-03])"
   ]
  },
  {
   "cell_type": "code",
   "execution_count": 4,
   "metadata": {},
   "outputs": [],
   "source": [
    "# def compute_class_weights(dataloader):\n",
    "#     # Labels: batch_size x height x width\n",
    "#     total_num_pixels = 0\n",
    "#     n_class = 10\n",
    "#     class_weights = torch.zeros(n_class)\n",
    "#     for i, (inputs, labels) in enumerate(dataloader):\n",
    "#         total_num_pixels += labels.shape[0] * labels.shape[1] * labels.shape[2]\n",
    "#         for cur_class in range(n_class):\n",
    "#             class_weights[cur_class] += torch.sum(labels == cur_class)\n",
    "#         print(\"SANITY CHECK:\", total_num_pixels, class_weights.sum())\n",
    "#         print(\"class_weights:\", class_weights)\n",
    "        \n",
    "#     return class_weights / total_num_pixels"
   ]
  },
  {
   "cell_type": "code",
   "execution_count": 5,
   "metadata": {},
   "outputs": [],
   "source": [
    "# train_dataset_original_1 = TASDataset('tas500v1.1') \n",
    "# train_loader_1 = DataLoader(dataset=train_dataset_original_1, batch_size= 16, shuffle=False)\n",
    "\n",
    "# class_weights = compute_class_weights(train_loader_1)\n",
    "# print(class_weights)"
   ]
  },
  {
   "cell_type": "code",
   "execution_count": null,
   "metadata": {},
   "outputs": [
    {
     "name": "stdout",
     "output_type": "stream",
     "text": [
      "creating model...\n",
      "GPU: True\n",
      "Training...\n",
      "in val\n"
     ]
    },
    {
     "name": "stderr",
     "output_type": "stream",
     "text": [
      "/opt/conda/lib/python3.9/site-packages/torchvision/transforms/functional.py:114: UserWarning: The given NumPy array is not writeable, and PyTorch does not support non-writeable tensors. This means you can write to the underlying (supposedly non-writeable) NumPy array using the tensor. You may want to copy the array to protect its data or make it writeable before converting it to a tensor. This type of warning will be suppressed for the rest of this program. (Triggered internally at  /pytorch/torch/csrc/utils/tensor_numpy.cpp:180.)\n",
      "  img = torch.from_numpy(pic.transpose((2, 0, 1))).contiguous()\n"
     ]
    },
    {
     "name": "stdout",
     "output_type": "stream",
     "text": [
      "Loss at epoch: 0 is 2.81607038634164\n",
      "IoU at epoch: 0 is 0.0022329160209646572\n",
      "Pixel acc at epoch: 0 is 0.010226429689022811\n",
      "in train\n",
      "epoch0, iter0, loss: 1.8147356510162354\n",
      "epoch0, iter10, loss: 1.6071113348007202\n",
      "epoch0, iter20, loss: 1.048100233078003\n",
      "epoch0, iter30, loss: 1.3995014429092407\n",
      "epoch0, iter40, loss: 1.178328037261963\n",
      "epoch0, iter50, loss: 0.6645885109901428\n",
      "Finish epoch 0, time elapsed 67.92579317092896\n",
      "in val\n",
      "Loss at epoch: 0 is 0.9446034176009042\n",
      "IoU at epoch: 0 is 0.23783749811218327\n",
      "Pixel acc at epoch: 0 is 0.754004989351545\n",
      "epoch1, iter0, loss: 1.0546212196350098\n",
      "epoch1, iter10, loss: 1.1849355697631836\n",
      "epoch1, iter20, loss: 0.9096081852912903\n",
      "epoch1, iter30, loss: 0.7945836186408997\n",
      "epoch1, iter40, loss: 0.9036023616790771\n",
      "epoch1, iter50, loss: 1.1194640398025513\n",
      "Finish epoch 1, time elapsed 65.74875926971436\n",
      "in val\n",
      "Loss at epoch: 1 is 0.9997903534344265\n",
      "IoU at epoch: 1 is 0.17973203466534046\n",
      "Pixel acc at epoch: 1 is 0.7103332877159119\n",
      "epoch2, iter0, loss: 1.119157314300537\n",
      "epoch2, iter10, loss: 0.9465863704681396\n",
      "epoch2, iter20, loss: 0.9588091373443604\n",
      "epoch2, iter30, loss: 0.8646252751350403\n",
      "epoch2, iter40, loss: 0.7707626223564148\n",
      "epoch2, iter50, loss: 0.7951770424842834\n",
      "Finish epoch 2, time elapsed 62.34518218040466\n",
      "in val\n",
      "Loss at epoch: 2 is 0.7577083621706281\n",
      "IoU at epoch: 2 is 0.2346657565784392\n",
      "Pixel acc at epoch: 2 is 0.7616759283202035\n",
      "epoch3, iter0, loss: 0.7204298377037048\n",
      "epoch3, iter10, loss: 0.8186259269714355\n",
      "epoch3, iter20, loss: 1.0014702081680298\n",
      "epoch3, iter30, loss: 1.1391716003417969\n",
      "epoch3, iter40, loss: 0.8368524312973022\n",
      "epoch3, iter50, loss: 0.9386579990386963\n",
      "Finish epoch 3, time elapsed 63.835320711135864\n",
      "in val\n",
      "Loss at epoch: 3 is 0.7489999447550092\n",
      "IoU at epoch: 3 is 0.2455892526097794\n",
      "Pixel acc at epoch: 3 is 0.7796470778329032\n",
      "epoch4, iter0, loss: 0.8549119830131531\n",
      "epoch4, iter10, loss: 0.5677631497383118\n",
      "epoch4, iter20, loss: 0.9609317779541016\n",
      "epoch4, iter30, loss: 0.9402024149894714\n",
      "epoch4, iter40, loss: 0.5754091143608093\n",
      "epoch4, iter50, loss: 0.7715335488319397\n",
      "Finish epoch 4, time elapsed 62.384867668151855\n",
      "in val\n",
      "Loss at epoch: 4 is 0.776209124497005\n",
      "IoU at epoch: 4 is 0.3243104294955311\n",
      "Pixel acc at epoch: 4 is 0.7628290142331805\n",
      "epoch5, iter0, loss: 0.7834394574165344\n",
      "epoch5, iter10, loss: 0.7013077139854431\n",
      "epoch5, iter20, loss: 0.8388345837593079\n",
      "epoch5, iter30, loss: 0.9085531234741211\n",
      "epoch5, iter40, loss: 0.5130140781402588\n",
      "epoch5, iter50, loss: 0.6582548022270203\n",
      "Finish epoch 5, time elapsed 62.637593030929565\n",
      "in val\n",
      "Loss at epoch: 5 is 0.5867733061313629\n",
      "IoU at epoch: 5 is 0.3225618574350259\n",
      "Pixel acc at epoch: 5 is 0.827518275805882\n",
      "epoch6, iter0, loss: 0.48821645975112915\n",
      "epoch6, iter10, loss: 0.6429089307785034\n",
      "epoch6, iter20, loss: 1.0051771402359009\n",
      "epoch6, iter30, loss: 0.7703235149383545\n",
      "epoch6, iter40, loss: 0.8772901296615601\n",
      "epoch6, iter50, loss: 0.5822676420211792\n",
      "Finish epoch 6, time elapsed 65.02291464805603\n",
      "in val\n",
      "Loss at epoch: 6 is 0.7229168244770595\n",
      "IoU at epoch: 6 is 0.2628148304528315\n",
      "Pixel acc at epoch: 6 is 0.7925600664956229\n",
      "epoch7, iter0, loss: 0.49506840109825134\n",
      "epoch7, iter10, loss: 0.5768656730651855\n",
      "epoch7, iter20, loss: 0.5423936247825623\n",
      "epoch7, iter30, loss: 0.6903716325759888\n",
      "epoch7, iter40, loss: 0.6603282690048218\n",
      "epoch7, iter50, loss: 0.7033172845840454\n",
      "Finish epoch 7, time elapsed 64.29366660118103\n",
      "in val\n",
      "Loss at epoch: 7 is 0.6586076957838876\n",
      "IoU at epoch: 7 is 0.3207122992846667\n",
      "Pixel acc at epoch: 7 is 0.8139881236212594\n",
      "epoch8, iter0, loss: 0.48650801181793213\n",
      "epoch8, iter10, loss: 0.7335764765739441\n",
      "epoch8, iter20, loss: 0.6586176753044128\n",
      "epoch8, iter30, loss: 0.6519035696983337\n",
      "epoch8, iter40, loss: 0.7631585597991943\n",
      "epoch8, iter50, loss: 0.5451884269714355\n",
      "Finish epoch 8, time elapsed 62.51143503189087\n",
      "in val\n",
      "Loss at epoch: 8 is 0.5396835505962372\n",
      "IoU at epoch: 8 is 0.39432281957229953\n",
      "Pixel acc at epoch: 8 is 0.8235065426145282\n",
      "epoch9, iter0, loss: 0.40324100852012634\n",
      "epoch9, iter10, loss: 0.47390711307525635\n",
      "epoch9, iter20, loss: 0.99562007188797\n"
     ]
    }
   ],
   "source": [
    "#hyper param\n",
    "epochs = 30   \n",
    "lr = 0.0004\n",
    "criterion = nn.CrossEntropyLoss(weight=class_weights, reduction=\"mean\")# Choose an appropriate loss function from https://pytorch.org/docs/stable/_modules/torch/nn/modules/loss.html\n",
    "n_class = 10\n",
    "\n",
    "print(\"creating model...\")\n",
    "fcn_model = FCN(n_class=n_class)\n",
    "fcn_model.apply(init_weights)\n",
    "\n",
    "# gpu\n",
    "gpu_status = torch.cuda.is_available()\n",
    "print(\"GPU:\", gpu_status)\n",
    "\n",
    "if gpu_status : \n",
    "    device = torch.device('cuda') # determine which device to use (gpu or cpu)\n",
    "else : \n",
    "    device = torch.device('cpu')\n",
    "\n",
    "fcn_model.to(device)\n",
    "    \n",
    "print(\"Training...\")\n",
    "val(fcn_model, 0)  # show the accuracy before training\n",
    "model_name=\"latest_model_4b\"\n",
    "train_loss_record, valid_loss_record = train(fcn_model, epochs,lr, save_fp=model_name) "
   ]
  },
  {
   "cell_type": "code",
   "execution_count": null,
   "metadata": {},
   "outputs": [],
   "source": [
    "latest_fcn_model = torch.load(model_name)\n",
    "latest_fcn_model.to(device)\n",
    "test(latest_fcn_model)"
   ]
  },
  {
   "cell_type": "code",
   "execution_count": null,
   "metadata": {},
   "outputs": [],
   "source": [
    "# # Continue training\n",
    "# model_name = \"latest_model_4_50e\"\n",
    "# # Train for 10 more epochs\n",
    "# train_loss_record, valid_loss_record = train(fcn_model, 20,lr, save_fp=model_name)\n"
   ]
  },
  {
   "cell_type": "code",
   "execution_count": null,
   "metadata": {},
   "outputs": [],
   "source": [
    "# latest_fcn_model = torch.load(model_name)\n",
    "# latest_fcn_model.to(device)\n",
    "# test(latest_fcn_model)"
   ]
  },
  {
   "cell_type": "code",
   "execution_count": null,
   "metadata": {},
   "outputs": [],
   "source": []
  }
 ],
 "metadata": {
  "interpreter": {
   "hash": "005f4ed24810181fa8b2266ec303702d6575bedfaa41c7848d327e7f780b3129"
  },
  "kernelspec": {
   "display_name": "Python 3 (ipykernel)",
   "language": "python",
   "name": "python3"
  },
  "language_info": {
   "codemirror_mode": {
    "name": "ipython",
    "version": 3
   },
   "file_extension": ".py",
   "mimetype": "text/x-python",
   "name": "python",
   "nbconvert_exporter": "python",
   "pygments_lexer": "ipython3",
   "version": "3.9.5"
  }
 },
 "nbformat": 4,
 "nbformat_minor": 2
}
