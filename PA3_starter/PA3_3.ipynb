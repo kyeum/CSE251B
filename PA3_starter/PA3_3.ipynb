{
 "cells": [
  {
   "cell_type": "markdown",
   "metadata": {},
   "source": [
    "## Classification (PA3-1,2,3)"
   ]
  },
  {
   "cell_type": "code",
   "execution_count": 1,
   "metadata": {},
   "outputs": [],
   "source": [
    "## Data generation"
   ]
  },
  {
   "cell_type": "code",
   "execution_count": 2,
   "metadata": {},
   "outputs": [
    {
     "ename": "IndentationError",
     "evalue": "expected an indented block (starter.py, line 113)",
     "output_type": "error",
     "traceback": [
      "Traceback \u001b[0;36m(most recent call last)\u001b[0m:\n",
      "  File \u001b[1;32m\"/Users/emmet.y/opt/anaconda3/lib/python3.8/site-packages/IPython/core/interactiveshell.py\"\u001b[0m, line \u001b[1;32m3441\u001b[0m, in \u001b[1;35mrun_code\u001b[0m\n    exec(code_obj, self.user_global_ns, self.user_ns)\n",
      "\u001b[0;36m  File \u001b[0;32m\"/var/folders/wt/l4n6hhns3dz9d7ljspfyxvd40000gn/T/ipykernel_66134/3274826427.py\"\u001b[0;36m, line \u001b[0;32m10\u001b[0;36m, in \u001b[0;35m<module>\u001b[0;36m\u001b[0m\n\u001b[0;31m    from starter import*\u001b[0m\n",
      "\u001b[0;36m  File \u001b[0;32m\"/Users/emmet.y/Desktop/CSE251B/PA3_starter/starter.py\"\u001b[0;36m, line \u001b[0;32m113\u001b[0m\n\u001b[0;31m    if __name__ == \"__main__\":\u001b[0m\n\u001b[0m    ^\u001b[0m\n\u001b[0;31mIndentationError\u001b[0m\u001b[0;31m:\u001b[0m expected an indented block\n"
     ]
    }
   ],
   "source": [
    "from basic_fcn import *\n",
    "from dataloader import *\n",
    "from utils import *\n",
    "import torch.optim as optim\n",
    "import time\n",
    "from torch.utils.data import DataLoader\n",
    "import torch\n",
    "import gc\n",
    "import copy\n",
    "\n",
    "train_dataset = TASDataset('tas500v1.1') \n",
    "val_dataset = TASDataset('tas500v1.1', eval=True, mode='val')\n",
    "test_dataset = TASDataset('tas500v1.1', eval=True, mode='test')\n",
    "\n",
    "train_loader = DataLoader(dataset=train_dataset, batch_size= 128, shuffle=True)\n",
    "val_loader = DataLoader(dataset=val_dataset, batch_size=  128, shuffle=False)\n",
    "test_loader = DataLoader(dataset=test_dataset, batch_size=  128, shuffle=False)\n",
    "\n",
    "epochs =100       \n",
    "criterion = torch.nn.CrossEntropyLoss() # Choose an appropriate loss function from https://pytorch.org/docs/stable/_modules/torch/nn/modules/loss.html\n",
    "n_class = 10\n",
    "fcn_model = FCN(n_class=n_class)\n",
    "fcn_model.apply(init_weights)\n",
    "\n",
    "#optimizer = torch.optim.SGD(fcn_model.parameters(), lr= 1e-4, momentum = 0.9) # choose an optimizer\n",
    "optimizer = torch.optim.Adam(fcn_model.parameters(), lr= 1e-4) # choose an optimizer\n",
    "\n",
    "#device = __ # determine which device to use (gpu or cpu)\n",
    "\n",
    "gpu_status = torch.cuda.is_available()\n",
    "if gpu_status : \n",
    "    print(\"gpu on\")\n",
    "    fcn_model = fcn_model.cuda() #transfer the model to the device\n"
   ]
  },
  {
   "cell_type": "code",
   "execution_count": 2,
   "metadata": {},
   "outputs": [
    {
     "ename": "SyntaxError",
     "evalue": "unexpected EOF while parsing (utils.py, line 23)",
     "output_type": "error",
     "traceback": [
      "Traceback \u001b[0;36m(most recent call last)\u001b[0m:\n",
      "  File \u001b[1;32m\"/Users/emmet.y/opt/anaconda3/lib/python3.8/site-packages/IPython/core/interactiveshell.py\"\u001b[0m, line \u001b[1;32m3441\u001b[0m, in \u001b[1;35mrun_code\u001b[0m\n    exec(code_obj, self.user_global_ns, self.user_ns)\n",
      "\u001b[0;36m  File \u001b[0;32m\"/var/folders/wt/l4n6hhns3dz9d7ljspfyxvd40000gn/T/ipykernel_34142/3696624381.py\"\u001b[0;36m, line \u001b[0;32m3\u001b[0;36m, in \u001b[0;35m<module>\u001b[0;36m\u001b[0m\n\u001b[0;31m    from utils import *\u001b[0m\n",
      "\u001b[0;36m  File \u001b[0;32m\"/Users/emmet.y/Desktop/CSE251B/PA3_starter/utils.py\"\u001b[0;36m, line \u001b[0;32m23\u001b[0m\n\u001b[0;31m    #TODO complete this function, make sure you don't calculate the accuracy for undefined class (\"9\")\u001b[0m\n\u001b[0m                                                                                                      ^\u001b[0m\n\u001b[0;31mSyntaxError\u001b[0m\u001b[0;31m:\u001b[0m unexpected EOF while parsing\n"
     ]
    }
   ],
   "source": [
    "\n",
    "\n",
    "# train, validation, test model.\n",
    "\n",
    "\n",
    "\n",
    "\n",
    "\n"
   ]
  },
  {
   "cell_type": "code",
   "execution_count": null,
   "metadata": {},
   "outputs": [],
   "source": []
  },
  {
   "cell_type": "code",
   "execution_count": null,
   "metadata": {},
   "outputs": [],
   "source": []
  }
 ],
 "metadata": {
  "interpreter": {
   "hash": "005f4ed24810181fa8b2266ec303702d6575bedfaa41c7848d327e7f780b3129"
  },
  "kernelspec": {
   "display_name": "Python 3 (ipykernel)",
   "language": "python",
   "name": "python3"
  },
  "language_info": {
   "codemirror_mode": {
    "name": "ipython",
    "version": 3
   },
   "file_extension": ".py",
   "mimetype": "text/x-python",
   "name": "python",
   "nbconvert_exporter": "python",
   "pygments_lexer": "ipython3",
   "version": "3.8.8"
  }
 },
 "nbformat": 4,
 "nbformat_minor": 2
}
