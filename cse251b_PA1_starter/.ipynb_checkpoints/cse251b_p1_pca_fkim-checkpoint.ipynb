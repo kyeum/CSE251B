{
 "cells": [
  {
   "cell_type": "code",
   "execution_count": 1,
   "metadata": {},
   "outputs": [],
   "source": [
    "import numpy as np\n",
    "import os\n",
    "import pickle\n",
    "import argparse\n",
    "import numpy as np\n",
    "import time\n",
    "import tqdm"
   ]
  },
  {
   "cell_type": "code",
   "execution_count": null,
   "metadata": {},
   "outputs": [],
   "source": []
  },
  {
   "cell_type": "code",
   "execution_count": null,
   "metadata": {},
   "outputs": [],
   "source": []
  },
  {
   "cell_type": "code",
   "execution_count": 2,
   "metadata": {},
   "outputs": [],
   "source": [
    "def traffic_sign(aligned=True):\n",
    "    if aligned:\n",
    "        return load_traffic('data', kind='aligned')\n",
    "    return load_traffic('data', kind='unaligned')"
   ]
  },
  {
   "cell_type": "code",
   "execution_count": 7,
   "metadata": {},
   "outputs": [],
   "source": [
    "def load_traffic(path, kind='train', subclass=None):\n",
    "    import os\n",
    "    import gzip\n",
    "    import numpy as np\n",
    "\n",
    "    t_file = \"./data/train\" + \"_wb_\" + kind +\".p\"\n",
    "\n",
    "    \"\"\"Load traffic data from `path`\"\"\"\n",
    "    with open(t_file, mode='rb') as f:\n",
    "        train = pickle.load(f)\n",
    "\n",
    "    images, labels = train['features'], train['labels']\n",
    "    images = images.reshape((images.shape[0], -1))\n",
    "\n",
    "    return images, labels"
   ]
  },
  {
   "cell_type": "code",
   "execution_count": 8,
   "metadata": {},
   "outputs": [],
   "source": [
    "load_data = traffic_sign"
   ]
  },
  {
   "cell_type": "code",
   "execution_count": null,
   "metadata": {},
   "outputs": [],
   "source": []
  },
  {
   "cell_type": "code",
   "execution_count": 18,
   "metadata": {},
   "outputs": [],
   "source": [
    "class PCA:\n",
    "    \n",
    "    def __init__(self, num_components):\n",
    "        self.num_components = num_components\n",
    "        self.evals = []\n",
    "        self.evecs = []\n",
    "        self.principal_comp = []\n",
    "        \n",
    "    def fit(self, X):\n",
    "        #Subtract image mean from each image\n",
    "        col_mean = np.mean(X, axis=0)\n",
    "        X_centered = (X - col_mean).T\n",
    "        \n",
    "        #Compute covariance matrix and eigenvalues/vectors\n",
    "        cov_matrix = np.matmul(X_centered, X_centered.T)\n",
    "        self.evals, self.evecs = np.linalg.eig(cov_matrix)\n",
    "        \n",
    "        #Get indices of eigenvectors in sorted order and create matrix of sorted eigenvectors\n",
    "        pc_idx_sorted = np.argsort(self.evals)\n",
    "        self.principal_comp = self.evecs[:, list(pc_idx_sorted)]\n",
    "        \n",
    "    def transform(self, X):\n",
    "        #Return result of X * num_components principle component eigenvectors\n",
    "        return np.matmul(X, self.principal_comp[:, :self.num_components])\n",
    "\n",
    "    def fit_transform(self, X):\n",
    "        self.fit(X)\n",
    "        return self.transform(X)\n"
   ]
  },
  {
   "cell_type": "code",
   "execution_count": null,
   "metadata": {},
   "outputs": [],
   "source": []
  },
  {
   "cell_type": "code",
   "execution_count": null,
   "metadata": {},
   "outputs": [],
   "source": []
  },
  {
   "cell_type": "code",
   "execution_count": 19,
   "metadata": {},
   "outputs": [],
   "source": [
    "X, y = load_data()"
   ]
  },
  {
   "cell_type": "code",
   "execution_count": 20,
   "metadata": {},
   "outputs": [],
   "source": [
    "pca = PCA(3)"
   ]
  },
  {
   "cell_type": "code",
   "execution_count": 21,
   "metadata": {},
   "outputs": [],
   "source": [
    "Xtrans = pca.fit_transform(X)"
   ]
  },
  {
   "cell_type": "code",
   "execution_count": 22,
   "metadata": {},
   "outputs": [
    {
     "data": {
      "text/plain": [
       "(34799, 3)"
      ]
     },
     "execution_count": 22,
     "metadata": {},
     "output_type": "execute_result"
    }
   ],
   "source": [
    "Xtrans.shape"
   ]
  },
  {
   "cell_type": "code",
   "execution_count": null,
   "metadata": {},
   "outputs": [],
   "source": []
  },
  {
   "cell_type": "code",
   "execution_count": null,
   "metadata": {},
   "outputs": [],
   "source": []
  }
 ],
 "metadata": {
  "kernelspec": {
   "display_name": "Python 3 (ipykernel)",
   "language": "python",
   "name": "python3"
  },
  "language_info": {
   "codemirror_mode": {
    "name": "ipython",
    "version": 3
   },
   "file_extension": ".py",
   "mimetype": "text/x-python",
   "name": "python",
   "nbconvert_exporter": "python",
   "pygments_lexer": "ipython3",
   "version": "3.8.8"
  }
 },
 "nbformat": 4,
 "nbformat_minor": 2
}
