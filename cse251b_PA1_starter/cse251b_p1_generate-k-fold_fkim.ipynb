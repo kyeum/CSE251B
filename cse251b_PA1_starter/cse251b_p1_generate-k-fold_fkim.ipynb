{
 "cells": [
  {
   "cell_type": "code",
   "execution_count": 124,
   "metadata": {},
   "outputs": [],
   "source": [
    "\"\"\"\n",
    "Testing of generate_k_fold_set() function with test set modification\n",
    "\"\"\";"
   ]
  },
  {
   "cell_type": "code",
   "execution_count": 1,
   "metadata": {},
   "outputs": [],
   "source": [
    "import numpy as np\n",
    "import os\n",
    "import pickle\n",
    "import argparse\n",
    "import numpy as np\n",
    "import time\n",
    "import tqdm"
   ]
  },
  {
   "cell_type": "code",
   "execution_count": null,
   "metadata": {},
   "outputs": [],
   "source": []
  },
  {
   "cell_type": "code",
   "execution_count": 2,
   "metadata": {},
   "outputs": [],
   "source": [
    "def traffic_sign(aligned=True):\n",
    "    if aligned:\n",
    "        return load_traffic('data', kind='aligned')\n",
    "    return load_traffic('data', kind='unaligned')"
   ]
  },
  {
   "cell_type": "code",
   "execution_count": null,
   "metadata": {},
   "outputs": [],
   "source": []
  },
  {
   "cell_type": "code",
   "execution_count": 3,
   "metadata": {},
   "outputs": [],
   "source": [
    "def load_traffic(path, kind='train', subclass=None):\n",
    "    import os\n",
    "    import gzip\n",
    "    import numpy as np\n",
    "\n",
    "    t_file = \"./train\" + \"_wb_\" + kind +\".p\"\n",
    "\n",
    "    \"\"\"Load traffic data from `path`\"\"\"\n",
    "    with open(t_file, mode='rb') as f:\n",
    "        train = pickle.load(f)\n",
    "\n",
    "    images, labels = train['features'], train['labels']\n",
    "    images = images.reshape((images.shape[0], -1))\n",
    "\n",
    "    return images, labels"
   ]
  },
  {
   "cell_type": "code",
   "execution_count": 4,
   "metadata": {},
   "outputs": [],
   "source": [
    "load_data = traffic_sign"
   ]
  },
  {
   "cell_type": "code",
   "execution_count": 5,
   "metadata": {},
   "outputs": [],
   "source": [
    "X, y = load_data()"
   ]
  },
  {
   "cell_type": "code",
   "execution_count": null,
   "metadata": {},
   "outputs": [],
   "source": []
  },
  {
   "cell_type": "code",
   "execution_count": null,
   "metadata": {},
   "outputs": [],
   "source": []
  },
  {
   "cell_type": "code",
   "execution_count": 83,
   "metadata": {},
   "outputs": [],
   "source": [
    "\"\"\"\n",
    "Original function\n",
    "\"\"\"\n",
    "def generate_k_fold_set(dataset, k = 5): \n",
    "    \n",
    "    X, y = dataset\n",
    "    order = np.random.permutation(len(X))\n",
    "    fold_width = len(X) // k\n",
    "    l_idx, r_idx = 0, fold_width\n",
    "    \n",
    "    for i in range(k):\n",
    "        train = np.concatenate([X[order[:l_idx]], X[order[r_idx:]]]), np.concatenate([y[order[:l_idx]], y[order[r_idx:]]])\n",
    "        validation = X[order[l_idx:r_idx]], y[order[l_idx:r_idx]]\n",
    "        yield train, validation\n",
    "        l_idx, r_idx = r_idx, r_idx + fold_width\n"
   ]
  },
  {
   "cell_type": "code",
   "execution_count": null,
   "metadata": {},
   "outputs": [],
   "source": []
  },
  {
   "cell_type": "code",
   "execution_count": null,
   "metadata": {},
   "outputs": [],
   "source": [
    "\"\"\"\n",
    "Modified function to include test set generation\n",
    "\"\"\"\n",
    "def generate_k_fold_set(dataset, k = 5): \n",
    "    \n",
    "    X, y = dataset\n",
    "    m = len(X)\n",
    "    order = np.random.permutation(m)\n",
    "    fold_width = m // k\n",
    "    l_idx = 0\n",
    "    m_idx = 1 * fold_width\n",
    "    r_idx = 2 * fold_width\n",
    "    \n",
    "    for i in range(k):\n",
    "        train = np.concatenate([X[order[:l_idx]], X[order[r_idx:]]]), np.concatenate([y[order[:l_idx]], y[order[r_idx:]]])\n",
    "        validation = X[order[l_idx:m_idx]], y[order[l_idx:m_idx]]\n",
    "        test = X[order[m_idx:r_idx]], y[order[m_idx:r_idx]]\n",
    "        yield train, validation, test\n",
    "        l_idx, m_idx, r_idx = m_idx, m_idx + fold_width, (r_idx + fold_width) % m\n",
    "    "
   ]
  },
  {
   "cell_type": "code",
   "execution_count": null,
   "metadata": {},
   "outputs": [],
   "source": []
  },
  {
   "cell_type": "markdown",
   "metadata": {},
   "source": [
    "##### Testing generation of k-fold sets using subset of training data"
   ]
  },
  {
   "cell_type": "code",
   "execution_count": 102,
   "metadata": {},
   "outputs": [],
   "source": [
    "tmpX = X[:20, :3]"
   ]
  },
  {
   "cell_type": "code",
   "execution_count": 103,
   "metadata": {},
   "outputs": [
    {
     "data": {
      "text/plain": [
       "(20, 3)"
      ]
     },
     "execution_count": 103,
     "metadata": {},
     "output_type": "execute_result"
    }
   ],
   "source": [
    "tmpX.shape"
   ]
  },
  {
   "cell_type": "code",
   "execution_count": 104,
   "metadata": {},
   "outputs": [],
   "source": [
    "tmpY = y[:20]"
   ]
  },
  {
   "cell_type": "code",
   "execution_count": 105,
   "metadata": {},
   "outputs": [
    {
     "data": {
      "text/plain": [
       "(20,)"
      ]
     },
     "execution_count": 105,
     "metadata": {},
     "output_type": "execute_result"
    }
   ],
   "source": [
    "tmpY.shape"
   ]
  },
  {
   "cell_type": "code",
   "execution_count": null,
   "metadata": {},
   "outputs": [],
   "source": []
  },
  {
   "cell_type": "code",
   "execution_count": 125,
   "metadata": {},
   "outputs": [
    {
     "name": "stdout",
     "output_type": "stream",
     "text": [
      "Train:  (array([], shape=(0, 3), dtype=uint8), array([], dtype=uint8))\n",
      "Valid:  (array([[29, 31, 32],\n",
      "       [28, 29, 29],\n",
      "       [28, 27, 27],\n",
      "       [29, 27, 28],\n",
      "       [25, 24, 25],\n",
      "       [27, 27, 29],\n",
      "       [26, 25, 25],\n",
      "       [26, 27, 28],\n",
      "       [31, 33, 31],\n",
      "       [29, 27, 28]], dtype=uint8), array([41, 41, 41, 41, 41, 41, 41, 41, 41, 41], dtype=uint8))\n",
      "Test:  (array([[31, 32, 31],\n",
      "       [32, 30, 30],\n",
      "       [30, 31, 30],\n",
      "       [31, 31, 30],\n",
      "       [29, 28, 27],\n",
      "       [33, 32, 32],\n",
      "       [29, 29, 30],\n",
      "       [32, 33, 32],\n",
      "       [27, 27, 27],\n",
      "       [33, 31, 30]], dtype=uint8), array([41, 41, 41, 41, 41, 41, 41, 41, 41, 41], dtype=uint8))\n",
      "\n"
     ]
    }
   ],
   "source": [
    "for train, valid, test in generate_k_fold_set((tmpX, tmpY), k=2):\n",
    "    print(\"Train: \", train)\n",
    "    print(\"Valid: \", valid)\n",
    "    print(\"Test: \", test)\n",
    "    print(\"\")\n",
    "    break"
   ]
  },
  {
   "cell_type": "code",
   "execution_count": null,
   "metadata": {},
   "outputs": [],
   "source": []
  },
  {
   "cell_type": "code",
   "execution_count": 126,
   "metadata": {},
   "outputs": [
    {
     "name": "stdout",
     "output_type": "stream",
     "text": [
      "Train:  (array([[30, 31, 30],\n",
      "       [28, 29, 29],\n",
      "       [27, 27, 27],\n",
      "       [29, 29, 30],\n",
      "       [26, 25, 25],\n",
      "       [32, 30, 30],\n",
      "       [31, 32, 31],\n",
      "       [28, 27, 27],\n",
      "       [33, 31, 30],\n",
      "       [32, 33, 32]], dtype=uint8), array([41, 41, 41, 41, 41, 41, 41, 41, 41, 41], dtype=uint8))\n",
      "Valid:  (array([[29, 27, 28],\n",
      "       [26, 27, 28],\n",
      "       [29, 28, 27],\n",
      "       [27, 27, 29],\n",
      "       [29, 31, 32]], dtype=uint8), array([41, 41, 41, 41, 41], dtype=uint8))\n",
      "Test:  (array([[31, 33, 31],\n",
      "       [25, 24, 25],\n",
      "       [33, 32, 32],\n",
      "       [31, 31, 30],\n",
      "       [29, 27, 28]], dtype=uint8), array([41, 41, 41, 41, 41], dtype=uint8))\n",
      "\n"
     ]
    }
   ],
   "source": [
    "for train, valid, test in generate_k_fold_set((tmpX, tmpY), k=4):\n",
    "    print(\"Train: \", train)\n",
    "    print(\"Valid: \", valid)\n",
    "    print(\"Test: \", test)\n",
    "    print(\"\")\n",
    "    break"
   ]
  },
  {
   "cell_type": "code",
   "execution_count": null,
   "metadata": {},
   "outputs": [],
   "source": []
  },
  {
   "cell_type": "code",
   "execution_count": 122,
   "metadata": {},
   "outputs": [
    {
     "name": "stdout",
     "output_type": "stream",
     "text": [
      "Train:  (array([[28, 29, 29],\n",
      "       [30, 31, 30],\n",
      "       [27, 27, 27],\n",
      "       [33, 32, 32],\n",
      "       [29, 29, 30],\n",
      "       [29, 27, 28],\n",
      "       [28, 27, 27],\n",
      "       [31, 31, 30],\n",
      "       [26, 25, 25],\n",
      "       [31, 33, 31],\n",
      "       [25, 24, 25],\n",
      "       [32, 33, 32],\n",
      "       [29, 27, 28],\n",
      "       [32, 30, 30]], dtype=uint8), array([41, 41, 41, 41, 41, 41, 41, 41, 41, 41, 41, 41, 41, 41],\n",
      "      dtype=uint8))\n",
      "Valid:  (array([[29, 31, 32],\n",
      "       [29, 28, 27],\n",
      "       [33, 31, 30]], dtype=uint8), array([41, 41, 41], dtype=uint8))\n",
      "Test:  (array([[27, 27, 29],\n",
      "       [26, 27, 28],\n",
      "       [31, 32, 31]], dtype=uint8), array([41, 41, 41], dtype=uint8))\n",
      "\n"
     ]
    }
   ],
   "source": [
    "for train, valid, test in generate_k_fold_set((tmpX, tmpY), k=6):\n",
    "    print(\"Train: \", train)\n",
    "    print(\"Valid: \", valid)\n",
    "    print(\"Test: \", test)\n",
    "    print(\"\")\n",
    "    break"
   ]
  },
  {
   "cell_type": "code",
   "execution_count": null,
   "metadata": {},
   "outputs": [],
   "source": []
  },
  {
   "cell_type": "code",
   "execution_count": null,
   "metadata": {},
   "outputs": [],
   "source": []
  },
  {
   "cell_type": "code",
   "execution_count": null,
   "metadata": {},
   "outputs": [],
   "source": []
  },
  {
   "cell_type": "code",
   "execution_count": null,
   "metadata": {},
   "outputs": [],
   "source": []
  }
 ],
 "metadata": {
  "kernelspec": {
   "display_name": "Python 3",
   "language": "python",
   "name": "python3"
  },
  "language_info": {
   "codemirror_mode": {
    "name": "ipython",
    "version": 3
   },
   "file_extension": ".py",
   "mimetype": "text/x-python",
   "name": "python",
   "nbconvert_exporter": "python",
   "pygments_lexer": "ipython3",
   "version": "3.7.4"
  }
 },
 "nbformat": 4,
 "nbformat_minor": 2
}
